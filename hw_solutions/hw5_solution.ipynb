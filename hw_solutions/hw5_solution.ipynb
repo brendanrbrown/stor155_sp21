{
 "cells": [
  {
   "cell_type": "markdown",
   "metadata": {},
   "source": [
    "# hw 5\n",
    "\n",
    "## due Tuesday, March 9 at 12:30 pm\n",
    "\n",
    "### data: `beauty.csv` or `beauty.xlsx`\n",
    "\n",
    "In this homework, we will sample from lines of dialog in the old Disney movie, Beauty and the Beast.\n",
    "\n",
    "This is inspired pudding.cool's analysis gender in Disney dialog, here\n",
    "\n",
    "https://pudding.cool/2017/03/film-dialogue/\n",
    "\n",
    "I grabbed the full text of Beauty and the Beast from here\n",
    "\n",
    "http://www.fpx.de/fp/Disney/Scripts/BeautyAndTheBeast.txt\n",
    "\n",
    "then did some data cleaning to put it in this format.\n",
    "\n",
    "#### structure\n",
    "\n",
    "- each observation is a line of dialog from the movie\n",
    "- `person` column identifies the speaker\n",
    "- `line` is the text of the line spoken"
   ]
  },
  {
   "cell_type": "markdown",
   "metadata": {},
   "source": [
    "## Q1\n",
    "\n",
    "- **load** the dataset using pandas/excel in the usual way for homework\n",
    "- **create** a new spreadsheet (pandas: can use a Series or DataFrame, your choice) with the proportion (or percentage in excel) of lines each `person` speaks in the movie.\n",
    "\n",
    "**Excel users: You must do this entirely within a pivot table.**\n",
    "\n",
    "*Hint: excel users will need to create a pivot table and use the value field settings to get percentages. Python users will need to use the groupby method. See previous homeworks for similar tasks.* "
   ]
  },
  {
   "cell_type": "code",
   "execution_count": 1,
   "metadata": {},
   "outputs": [],
   "source": [
    "import pandas as pd"
   ]
  },
  {
   "cell_type": "code",
   "execution_count": 3,
   "metadata": {},
   "outputs": [],
   "source": [
    "d = pd.read_csv('https://github.com/brendanrbrown/stor155_sp21/raw/main/data/beauty.csv')"
   ]
  },
  {
   "cell_type": "code",
   "execution_count": 6,
   "metadata": {},
   "outputs": [
    {
     "data": {
      "text/plain": [
       "BELLE            0.196557\n",
       "BEAST            0.113343\n",
       "LUMIERE          0.096126\n",
       "GASTON           0.094692\n",
       "MAURICE          0.094692\n",
       "COGSWORTH        0.086083\n",
       "MRS. POTTS       0.061693\n",
       "LEFOU            0.050215\n",
       "CHIP             0.034433\n",
       "ALL              0.022956\n",
       "FEATHERDUSTER    0.010043\n",
       "MOB              0.010043\n",
       "BOOKSELLER       0.008608\n",
       "WARDROBE         0.008608\n",
       "ARQUE            0.007174\n",
       "WOMAN 1          0.005739\n",
       "OLD CRONIES      0.005739\n",
       "MEN              0.004304\n",
       "BAKER            0.004304\n",
       "MAN 4            0.004304\n",
       "MAN 1            0.004304\n",
       "WOMAN 3          0.004304\n",
       "WOMAN 4          0.004304\n",
       "BOTH             0.004304\n",
       "MAN 5            0.002869\n",
       "TOWNSFOLK        0.002869\n",
       "BIMBETTES        0.002869\n",
       "MAN 3            0.002869\n",
       "CRONY 1          0.002869\n",
       "MAN 2            0.002869\n",
       "MERCHANT         0.002869\n",
       "DRIVER           0.002869\n",
       "WOMAN 2          0.002869\n",
       "PRINCE           0.002869\n",
       "BARBER           0.001435\n",
       "TOWNSFOLK 4      0.001435\n",
       "WOMAN 5          0.001435\n",
       "NARRATOR         0.001435\n",
       "MUGS             0.001435\n",
       "BIMBETTE 3       0.001435\n",
       "TOWNSFOLK 2      0.001435\n",
       "PIERRE           0.001435\n",
       "BYSTANDERS       0.001435\n",
       "CHORUS           0.001435\n",
       "TOWNSFOLK 5      0.001435\n",
       "TOWNSFOLK 3      0.001435\n",
       "MAN 6            0.001435\n",
       "CRONY 3          0.001435\n",
       "WRESTLER         0.001435\n",
       "TOWNSFOLK 1      0.001435\n",
       "OBJECTS          0.001435\n",
       "BIMBETTE 2       0.001435\n",
       "BIMBETTE 1       0.001435\n",
       "CRONY 2          0.001435\n",
       "GROUP 1          0.001435\n",
       "STOVE            0.001435\n",
       "GROUP 2          0.001435\n",
       "MAN              0.001435\n",
       "Name: person, dtype: float64"
      ]
     },
     "execution_count": 6,
     "metadata": {},
     "output_type": "execute_result"
    }
   ],
   "source": [
    "ptrue = d.person.value_counts(normalize = True)\n",
    "ptrue"
   ]
  },
  {
   "cell_type": "markdown",
   "metadata": {},
   "source": [
    "## Q2\n",
    "\n",
    "**Create** a new data frame / spreadsheet with \n",
    "\n",
    "- `person` and `line` variables\n",
    "- which takes a **random sample of size 50 with replacement** from the observations in the original dataset\n",
    "\n",
    "*Hint for excel users: While the desktop version has some shortcuts, there is a simple way to do this no matter what version you use. First, create a column called `sample_row` that uses the RANDBETWEEN function to sample a random row number. You will need to use COUNTA within RANDBETWEEN to get the correct number of rows. Then, use the INDEX function to get the sampled `person` and `line` values for that row.*\n",
    "\n",
    "*Hint for python users: Look at the pandas documentation for the .sample() method. Be sure to look at the argument for sampling with replacement --- replacement is not the default.*"
   ]
  },
  {
   "cell_type": "code",
   "execution_count": 7,
   "metadata": {},
   "outputs": [],
   "source": [
    "dsamp = d.sample(50, replace = True)"
   ]
  },
  {
   "cell_type": "code",
   "execution_count": 8,
   "metadata": {},
   "outputs": [
    {
     "data": {
      "text/html": [
       "<div>\n",
       "<style scoped>\n",
       "    .dataframe tbody tr th:only-of-type {\n",
       "        vertical-align: middle;\n",
       "    }\n",
       "\n",
       "    .dataframe tbody tr th {\n",
       "        vertical-align: top;\n",
       "    }\n",
       "\n",
       "    .dataframe thead th {\n",
       "        text-align: right;\n",
       "    }\n",
       "</style>\n",
       "<table border=\"1\" class=\"dataframe\">\n",
       "  <thead>\n",
       "    <tr style=\"text-align: right;\">\n",
       "      <th></th>\n",
       "      <th>person</th>\n",
       "      <th>line</th>\n",
       "    </tr>\n",
       "  </thead>\n",
       "  <tbody>\n",
       "    <tr>\n",
       "      <th>288</th>\n",
       "      <td>LEFOU</td>\n",
       "      <td>Who?</td>\n",
       "    </tr>\n",
       "    <tr>\n",
       "      <th>696</th>\n",
       "      <td>CHORUS</td>\n",
       "      <td>Certain as the sun;Rising in the east;Tale as ...</td>\n",
       "    </tr>\n",
       "    <tr>\n",
       "      <th>11</th>\n",
       "      <td>BELLE</td>\n",
       "      <td>The bookshop! I just finished the most wonderf...</td>\n",
       "    </tr>\n",
       "    <tr>\n",
       "      <th>361</th>\n",
       "      <td>BEAST</td>\n",
       "      <td>I thought I told you to come down to dinner!</td>\n",
       "    </tr>\n",
       "    <tr>\n",
       "      <th>517</th>\n",
       "      <td>MRS. POTTS</td>\n",
       "      <td>It's so peculiar</td>\n",
       "    </tr>\n",
       "  </tbody>\n",
       "</table>\n",
       "</div>"
      ],
      "text/plain": [
       "         person                                               line\n",
       "288       LEFOU                                               Who?\n",
       "696      CHORUS  Certain as the sun;Rising in the east;Tale as ...\n",
       "11        BELLE  The bookshop! I just finished the most wonderf...\n",
       "361       BEAST       I thought I told you to come down to dinner!\n",
       "517  MRS. POTTS                                   It's so peculiar"
      ]
     },
     "execution_count": 8,
     "metadata": {},
     "output_type": "execute_result"
    }
   ],
   "source": [
    "dsamp.head()"
   ]
  },
  {
   "cell_type": "markdown",
   "metadata": {},
   "source": [
    "## Q3\n",
    "\n",
    "**Create** a new data frame / spreadsheet with the proportion (or percentage in excel) of lines each `person` speaks **in your sample dataset**."
   ]
  },
  {
   "cell_type": "code",
   "execution_count": 9,
   "metadata": {},
   "outputs": [
    {
     "data": {
      "text/plain": [
       "BELLE          0.22\n",
       "GASTON         0.14\n",
       "BEAST          0.12\n",
       "MAURICE        0.08\n",
       "MRS. POTTS     0.08\n",
       "COGSWORTH      0.08\n",
       "LUMIERE        0.06\n",
       "LEFOU          0.06\n",
       "OBJECTS        0.02\n",
       "WOMAN 4        0.02\n",
       "TOWNSFOLK 5    0.02\n",
       "DRIVER         0.02\n",
       "CHORUS         0.02\n",
       "MAN 1          0.02\n",
       "ALL            0.02\n",
       "OLD CRONIES    0.02\n",
       "Name: person, dtype: float64"
      ]
     },
     "execution_count": 9,
     "metadata": {},
     "output_type": "execute_result"
    }
   ],
   "source": [
    "psamp = dsamp.person.value_counts(normalize = True)\n",
    "psamp"
   ]
  },
  {
   "cell_type": "markdown",
   "metadata": {},
   "source": [
    "## Q4\n",
    "\n",
    "**Calculate the absolute difference**  between the true proportion of lines spoken (from Q1) and the corresponding sample proportion (from Q3) for the **following characters:**\n",
    "\n",
    "- Belle\n",
    "- Beast\n",
    "- Gaston\n",
    "\n",
    "The absolute difference between two numbers $x, y$ is $|x-y|$."
   ]
  },
  {
   "cell_type": "code",
   "execution_count": 16,
   "metadata": {},
   "outputs": [
    {
     "data": {
      "text/html": [
       "<div>\n",
       "<style scoped>\n",
       "    .dataframe tbody tr th:only-of-type {\n",
       "        vertical-align: middle;\n",
       "    }\n",
       "\n",
       "    .dataframe tbody tr th {\n",
       "        vertical-align: top;\n",
       "    }\n",
       "\n",
       "    .dataframe thead th {\n",
       "        text-align: right;\n",
       "    }\n",
       "</style>\n",
       "<table border=\"1\" class=\"dataframe\">\n",
       "  <thead>\n",
       "    <tr style=\"text-align: right;\">\n",
       "      <th></th>\n",
       "      <th>ptrue</th>\n",
       "      <th>psamp</th>\n",
       "      <th>diffp</th>\n",
       "    </tr>\n",
       "  </thead>\n",
       "  <tbody>\n",
       "    <tr>\n",
       "      <th>ALL</th>\n",
       "      <td>0.022956</td>\n",
       "      <td>0.02</td>\n",
       "      <td>0.002956</td>\n",
       "    </tr>\n",
       "    <tr>\n",
       "      <th>BEAST</th>\n",
       "      <td>0.113343</td>\n",
       "      <td>0.12</td>\n",
       "      <td>0.006657</td>\n",
       "    </tr>\n",
       "    <tr>\n",
       "      <th>BELLE</th>\n",
       "      <td>0.196557</td>\n",
       "      <td>0.22</td>\n",
       "      <td>0.023443</td>\n",
       "    </tr>\n",
       "    <tr>\n",
       "      <th>CHORUS</th>\n",
       "      <td>0.001435</td>\n",
       "      <td>0.02</td>\n",
       "      <td>0.018565</td>\n",
       "    </tr>\n",
       "    <tr>\n",
       "      <th>COGSWORTH</th>\n",
       "      <td>0.086083</td>\n",
       "      <td>0.08</td>\n",
       "      <td>0.006083</td>\n",
       "    </tr>\n",
       "    <tr>\n",
       "      <th>DRIVER</th>\n",
       "      <td>0.002869</td>\n",
       "      <td>0.02</td>\n",
       "      <td>0.017131</td>\n",
       "    </tr>\n",
       "    <tr>\n",
       "      <th>GASTON</th>\n",
       "      <td>0.094692</td>\n",
       "      <td>0.14</td>\n",
       "      <td>0.045308</td>\n",
       "    </tr>\n",
       "    <tr>\n",
       "      <th>LEFOU</th>\n",
       "      <td>0.050215</td>\n",
       "      <td>0.06</td>\n",
       "      <td>0.009785</td>\n",
       "    </tr>\n",
       "    <tr>\n",
       "      <th>LUMIERE</th>\n",
       "      <td>0.096126</td>\n",
       "      <td>0.06</td>\n",
       "      <td>0.036126</td>\n",
       "    </tr>\n",
       "    <tr>\n",
       "      <th>MAN 1</th>\n",
       "      <td>0.004304</td>\n",
       "      <td>0.02</td>\n",
       "      <td>0.015696</td>\n",
       "    </tr>\n",
       "    <tr>\n",
       "      <th>MAURICE</th>\n",
       "      <td>0.094692</td>\n",
       "      <td>0.08</td>\n",
       "      <td>0.014692</td>\n",
       "    </tr>\n",
       "    <tr>\n",
       "      <th>MRS. POTTS</th>\n",
       "      <td>0.061693</td>\n",
       "      <td>0.08</td>\n",
       "      <td>0.018307</td>\n",
       "    </tr>\n",
       "    <tr>\n",
       "      <th>OBJECTS</th>\n",
       "      <td>0.001435</td>\n",
       "      <td>0.02</td>\n",
       "      <td>0.018565</td>\n",
       "    </tr>\n",
       "    <tr>\n",
       "      <th>OLD CRONIES</th>\n",
       "      <td>0.005739</td>\n",
       "      <td>0.02</td>\n",
       "      <td>0.014261</td>\n",
       "    </tr>\n",
       "    <tr>\n",
       "      <th>TOWNSFOLK 5</th>\n",
       "      <td>0.001435</td>\n",
       "      <td>0.02</td>\n",
       "      <td>0.018565</td>\n",
       "    </tr>\n",
       "    <tr>\n",
       "      <th>WOMAN 4</th>\n",
       "      <td>0.004304</td>\n",
       "      <td>0.02</td>\n",
       "      <td>0.015696</td>\n",
       "    </tr>\n",
       "  </tbody>\n",
       "</table>\n",
       "</div>"
      ],
      "text/plain": [
       "                ptrue  psamp     diffp\n",
       "ALL          0.022956   0.02  0.002956\n",
       "BEAST        0.113343   0.12  0.006657\n",
       "BELLE        0.196557   0.22  0.023443\n",
       "CHORUS       0.001435   0.02  0.018565\n",
       "COGSWORTH    0.086083   0.08  0.006083\n",
       "DRIVER       0.002869   0.02  0.017131\n",
       "GASTON       0.094692   0.14  0.045308\n",
       "LEFOU        0.050215   0.06  0.009785\n",
       "LUMIERE      0.096126   0.06  0.036126\n",
       "MAN 1        0.004304   0.02  0.015696\n",
       "MAURICE      0.094692   0.08  0.014692\n",
       "MRS. POTTS   0.061693   0.08  0.018307\n",
       "OBJECTS      0.001435   0.02  0.018565\n",
       "OLD CRONIES  0.005739   0.02  0.014261\n",
       "TOWNSFOLK 5  0.001435   0.02  0.018565\n",
       "WOMAN 4      0.004304   0.02  0.015696"
      ]
     },
     "execution_count": 16,
     "metadata": {},
     "output_type": "execute_result"
    }
   ],
   "source": [
    "# notice I haven't save the output to any object --- just an fyi\n",
    "pd.DataFrame({'ptrue': ptrue, 'psamp': psamp}).dropna().assign(diffp = lambda x: abs(x.psamp - x.ptrue))"
   ]
  },
  {
   "cell_type": "markdown",
   "metadata": {},
   "source": [
    "## Q5\n",
    "\n",
    "**Write** one or two sentences using concepts from class about why the difference calculated in Q4 should *or* should not be close to zero.\n",
    "\n",
    "I am not actually asking you to evaluate whether the answer from Q4 is 'close enough' or anything like that --- just tell me conceptually whether it should be 'close' and why or why not."
   ]
  },
  {
   "cell_type": "markdown",
   "metadata": {},
   "source": [
    "**A:** All you need to say is something along the lines of: We have the entire population of data (lines from B&tB), and we took a random sample. Therefore, if our sample is big enough, the proportion of lines Belle and co. speak should be close-ish to the true proportion. \n",
    "\n",
    "This is a warmup for work later in class on how to evaluate how the size of the sample affects your error."
   ]
  }
 ],
 "metadata": {
  "kernelspec": {
   "display_name": "Python 3",
   "language": "python",
   "name": "python3"
  },
  "language_info": {
   "codemirror_mode": {
    "name": "ipython",
    "version": 3
   },
   "file_extension": ".py",
   "mimetype": "text/x-python",
   "name": "python",
   "nbconvert_exporter": "python",
   "pygments_lexer": "ipython3",
   "version": "3.8.2"
  }
 },
 "nbformat": 4,
 "nbformat_minor": 4
}
