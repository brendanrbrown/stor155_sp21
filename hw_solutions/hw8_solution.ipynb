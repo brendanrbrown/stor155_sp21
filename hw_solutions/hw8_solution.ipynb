{
 "cells": [
  {
   "cell_type": "markdown",
   "metadata": {},
   "source": [
    "# hw 8\n",
    "### due April 6, 12:30 pm\n",
    "\n",
    "In this exercise we are going to play with the central limit theorem, then think about errors in prediction and (I hope) see why those are a little different.\n",
    "\n",
    "### dataset `paris_stats`"
   ]
  },
  {
   "cell_type": "markdown",
   "metadata": {},
   "source": [
    "# Q1\n",
    "\n",
    "- **get** the dataset\n",
    "- **create three variables** `train_size` equal to 25, `mhat` with the average of `field_goals_made` and sdhat with the sample standard deviation of `field_goals_made` **of the first 25 rows only**. "
   ]
  },
  {
   "cell_type": "code",
   "execution_count": 1,
   "metadata": {},
   "outputs": [],
   "source": [
    "import pandas as pd"
   ]
  },
  {
   "cell_type": "code",
   "execution_count": 2,
   "metadata": {},
   "outputs": [],
   "source": [
    "d = pd.read_csv('https://github.com/brendanrbrown/stor155_sp21/raw/main/data/paris_stats.csv')"
   ]
  },
  {
   "cell_type": "code",
   "execution_count": 3,
   "metadata": {},
   "outputs": [
    {
     "data": {
      "text/html": [
       "<div>\n",
       "<style scoped>\n",
       "    .dataframe tbody tr th:only-of-type {\n",
       "        vertical-align: middle;\n",
       "    }\n",
       "\n",
       "    .dataframe tbody tr th {\n",
       "        vertical-align: top;\n",
       "    }\n",
       "\n",
       "    .dataframe thead th {\n",
       "        text-align: right;\n",
       "    }\n",
       "</style>\n",
       "<table border=\"1\" class=\"dataframe\">\n",
       "  <thead>\n",
       "    <tr style=\"text-align: right;\">\n",
       "      <th></th>\n",
       "      <th>field_goals_made</th>\n",
       "      <th>fg_attempts</th>\n",
       "      <th>three_pt_made</th>\n",
       "      <th>three_pt_attempt</th>\n",
       "    </tr>\n",
       "  </thead>\n",
       "  <tbody>\n",
       "    <tr>\n",
       "      <th>count</th>\n",
       "      <td>31.000000</td>\n",
       "      <td>31.000000</td>\n",
       "      <td>31.000000</td>\n",
       "      <td>31.000000</td>\n",
       "    </tr>\n",
       "    <tr>\n",
       "      <th>mean</th>\n",
       "      <td>7.290323</td>\n",
       "      <td>15.612903</td>\n",
       "      <td>2.000000</td>\n",
       "      <td>4.935484</td>\n",
       "    </tr>\n",
       "    <tr>\n",
       "      <th>std</th>\n",
       "      <td>3.100468</td>\n",
       "      <td>3.972215</td>\n",
       "      <td>1.549193</td>\n",
       "      <td>2.462187</td>\n",
       "    </tr>\n",
       "    <tr>\n",
       "      <th>min</th>\n",
       "      <td>3.000000</td>\n",
       "      <td>8.000000</td>\n",
       "      <td>0.000000</td>\n",
       "      <td>0.000000</td>\n",
       "    </tr>\n",
       "    <tr>\n",
       "      <th>25%</th>\n",
       "      <td>5.000000</td>\n",
       "      <td>12.000000</td>\n",
       "      <td>1.000000</td>\n",
       "      <td>3.000000</td>\n",
       "    </tr>\n",
       "    <tr>\n",
       "      <th>50%</th>\n",
       "      <td>7.000000</td>\n",
       "      <td>16.000000</td>\n",
       "      <td>2.000000</td>\n",
       "      <td>5.000000</td>\n",
       "    </tr>\n",
       "    <tr>\n",
       "      <th>75%</th>\n",
       "      <td>9.500000</td>\n",
       "      <td>18.500000</td>\n",
       "      <td>3.000000</td>\n",
       "      <td>7.000000</td>\n",
       "    </tr>\n",
       "    <tr>\n",
       "      <th>max</th>\n",
       "      <td>15.000000</td>\n",
       "      <td>23.000000</td>\n",
       "      <td>5.000000</td>\n",
       "      <td>10.000000</td>\n",
       "    </tr>\n",
       "  </tbody>\n",
       "</table>\n",
       "</div>"
      ],
      "text/plain": [
       "       field_goals_made  fg_attempts  three_pt_made  three_pt_attempt\n",
       "count         31.000000    31.000000      31.000000         31.000000\n",
       "mean           7.290323    15.612903       2.000000          4.935484\n",
       "std            3.100468     3.972215       1.549193          2.462187\n",
       "min            3.000000     8.000000       0.000000          0.000000\n",
       "25%            5.000000    12.000000       1.000000          3.000000\n",
       "50%            7.000000    16.000000       2.000000          5.000000\n",
       "75%            9.500000    18.500000       3.000000          7.000000\n",
       "max           15.000000    23.000000       5.000000         10.000000"
      ]
     },
     "execution_count": 3,
     "metadata": {},
     "output_type": "execute_result"
    }
   ],
   "source": [
    "d.describe()"
   ]
  },
  {
   "cell_type": "code",
   "execution_count": 4,
   "metadata": {},
   "outputs": [],
   "source": [
    "# those of you who are somewhat more advanced programmers \n",
    "# should consider writing a function to do this split randomly, taking train_size as argument\n",
    "\n",
    "# train_size sort of dumb for the python group, but just to be consistent\n",
    "train_size = 25\n",
    "dtrain = d.loc[:train_size-1]\n",
    "dtest = d.loc[train_size:]"
   ]
  },
  {
   "cell_type": "code",
   "execution_count": 5,
   "metadata": {},
   "outputs": [
    {
     "data": {
      "text/html": [
       "<div>\n",
       "<style scoped>\n",
       "    .dataframe tbody tr th:only-of-type {\n",
       "        vertical-align: middle;\n",
       "    }\n",
       "\n",
       "    .dataframe tbody tr th {\n",
       "        vertical-align: top;\n",
       "    }\n",
       "\n",
       "    .dataframe thead th {\n",
       "        text-align: right;\n",
       "    }\n",
       "</style>\n",
       "<table border=\"1\" class=\"dataframe\">\n",
       "  <thead>\n",
       "    <tr style=\"text-align: right;\">\n",
       "      <th></th>\n",
       "      <th>game</th>\n",
       "      <th>field_goals_made</th>\n",
       "      <th>fg_attempts</th>\n",
       "      <th>three_pt_made</th>\n",
       "      <th>three_pt_attempt</th>\n",
       "    </tr>\n",
       "  </thead>\n",
       "  <tbody>\n",
       "    <tr>\n",
       "      <th>25</th>\n",
       "      <td>gtech</td>\n",
       "      <td>6</td>\n",
       "      <td>15</td>\n",
       "      <td>1</td>\n",
       "      <td>3</td>\n",
       "    </tr>\n",
       "    <tr>\n",
       "      <th>26</th>\n",
       "      <td>louisville</td>\n",
       "      <td>5</td>\n",
       "      <td>12</td>\n",
       "      <td>2</td>\n",
       "      <td>5</td>\n",
       "    </tr>\n",
       "    <tr>\n",
       "      <th>27</th>\n",
       "      <td>syracuse</td>\n",
       "      <td>5</td>\n",
       "      <td>15</td>\n",
       "      <td>2</td>\n",
       "      <td>8</td>\n",
       "    </tr>\n",
       "    <tr>\n",
       "      <th>28</th>\n",
       "      <td>duke</td>\n",
       "      <td>3</td>\n",
       "      <td>11</td>\n",
       "      <td>3</td>\n",
       "      <td>7</td>\n",
       "    </tr>\n",
       "    <tr>\n",
       "      <th>29</th>\n",
       "      <td>boston college</td>\n",
       "      <td>12</td>\n",
       "      <td>22</td>\n",
       "      <td>4</td>\n",
       "      <td>5</td>\n",
       "    </tr>\n",
       "    <tr>\n",
       "      <th>30</th>\n",
       "      <td>nc state</td>\n",
       "      <td>9</td>\n",
       "      <td>23</td>\n",
       "      <td>4</td>\n",
       "      <td>10</td>\n",
       "    </tr>\n",
       "  </tbody>\n",
       "</table>\n",
       "</div>"
      ],
      "text/plain": [
       "              game  field_goals_made  fg_attempts  three_pt_made  \\\n",
       "25           gtech                 6           15              1   \n",
       "26      louisville                 5           12              2   \n",
       "27        syracuse                 5           15              2   \n",
       "28            duke                 3           11              3   \n",
       "29  boston college                12           22              4   \n",
       "30        nc state                 9           23              4   \n",
       "\n",
       "    three_pt_attempt  \n",
       "25                 3  \n",
       "26                 5  \n",
       "27                 8  \n",
       "28                 7  \n",
       "29                 5  \n",
       "30                10  "
      ]
     },
     "execution_count": 5,
     "metadata": {},
     "output_type": "execute_result"
    }
   ],
   "source": [
    "dtest"
   ]
  },
  {
   "cell_type": "code",
   "execution_count": 6,
   "metadata": {},
   "outputs": [],
   "source": [
    "#mhat, sdhat = dtrain.field_goals_made.mean(), dtrain.field_goals_made.std()\n",
    "\n",
    "mhat = dtrain.field_goals_made.mean() \n",
    "sdhat = dtrain.field_goals_made.std()"
   ]
  },
  {
   "cell_type": "code",
   "execution_count": 7,
   "metadata": {},
   "outputs": [
    {
     "data": {
      "text/plain": [
       "(7.44, 3.110198278781167)"
      ]
     },
     "execution_count": 7,
     "metadata": {},
     "output_type": "execute_result"
    }
   ],
   "source": [
    "mhat, sdhat"
   ]
  },
  {
   "cell_type": "markdown",
   "metadata": {},
   "source": [
    "# Q2\n",
    "\n",
    "- **generate 40 random samples of size `train_size`** from the first `train_size` number of rows of the data (first `train_size` number of games)\n",
    "- for each sample of `field_goals_made`, **calculate** the average and save it as a variable called `mhat_samp`\n",
    "\n",
    "*Hint:* Do almost exactly what you did in previous homeworks"
   ]
  },
  {
   "cell_type": "code",
   "execution_count": 8,
   "metadata": {},
   "outputs": [],
   "source": [
    "mhat_samp = []\n",
    "\n",
    "for i in range(40):\n",
    "    mhat_samp.append(dtrain.sample(train_size, replace = True))"
   ]
  },
  {
   "cell_type": "code",
   "execution_count": 9,
   "metadata": {},
   "outputs": [],
   "source": [
    "# or do it this way\n",
    "\n",
    "mhat_samp = [dtrain.sample(25, replace = True).field_goals_made.mean() for i in range(40)]"
   ]
  },
  {
   "cell_type": "code",
   "execution_count": 10,
   "metadata": {},
   "outputs": [],
   "source": [
    "mhat_samp = pd.Series(mhat_samp)"
   ]
  },
  {
   "cell_type": "code",
   "execution_count": 11,
   "metadata": {},
   "outputs": [
    {
     "data": {
      "text/plain": [
       "0     7.20\n",
       "1     6.60\n",
       "2     7.08\n",
       "3     7.56\n",
       "4     7.56\n",
       "5     7.52\n",
       "6     8.20\n",
       "7     7.32\n",
       "8     6.60\n",
       "9     8.44\n",
       "10    7.32\n",
       "11    6.44\n",
       "12    7.60\n",
       "13    7.96\n",
       "14    8.76\n",
       "15    7.36\n",
       "16    7.28\n",
       "17    8.16\n",
       "18    7.32\n",
       "19    6.44\n",
       "20    7.48\n",
       "21    6.56\n",
       "22    7.08\n",
       "23    7.84\n",
       "24    7.84\n",
       "25    7.12\n",
       "26    7.40\n",
       "27    9.00\n",
       "28    7.04\n",
       "29    6.56\n",
       "30    7.40\n",
       "31    7.52\n",
       "32    6.76\n",
       "33    8.00\n",
       "34    8.08\n",
       "35    7.24\n",
       "36    7.88\n",
       "37    7.36\n",
       "38    7.40\n",
       "39    7.80\n",
       "dtype: float64"
      ]
     },
     "execution_count": 11,
     "metadata": {},
     "output_type": "execute_result"
    }
   ],
   "source": [
    "mhat_samp"
   ]
  },
  {
   "cell_type": "markdown",
   "metadata": {},
   "source": [
    "# Q3\n",
    "\n",
    "- **plot a histogram** of `mhat_samp`"
   ]
  },
  {
   "cell_type": "code",
   "execution_count": 12,
   "metadata": {},
   "outputs": [
    {
     "data": {
      "text/plain": [
       "<AxesSubplot:ylabel='Frequency'>"
      ]
     },
     "execution_count": 12,
     "metadata": {},
     "output_type": "execute_result"
    },
    {
     "data": {
      "image/png": "[encoded data removed]",
      "text/plain": [
       "<Figure size 864x720 with 1 Axes>"
      ]
     },
     "metadata": {
      "needs_background": "light"
     },
     "output_type": "display_data"
    }
   ],
   "source": [
    "mhat_samp.plot.hist(figsize = (12, 10), bins = 8)"
   ]
  },
  {
   "cell_type": "markdown",
   "metadata": {},
   "source": [
    "# Q4\n",
    "\n",
    "- **calculate** the *sample* standard deviation of `mhat_samp`\n",
    "- **calculate** the *theoretical* standard deviation (approximate) of `mhat_samp` using the central limit theorem and your answers from Q1"
   ]
  },
  {
   "cell_type": "code",
   "execution_count": 14,
   "metadata": {},
   "outputs": [
    {
     "data": {
      "text/plain": [
       "(0.6012772729567939, 0.6220396557562334)"
      ]
     },
     "execution_count": 14,
     "metadata": {},
     "output_type": "execute_result"
    }
   ],
   "source": [
    "mhat_samp.std(), sdhat/(train_size)**.5"
   ]
  },
  {
   "cell_type": "markdown",
   "metadata": {},
   "source": [
    "# Q5\n",
    "\n",
    "- **compare** your answers in Q4 and explain in a sentence whether or not it makes sense using concepts from class"
   ]
  },
  {
   "cell_type": "markdown",
   "metadata": {},
   "source": [
    "The two numbers above should be close. This is a consequence of the law of large numbers. mhat_samp.std() is the sample s.d. of a random sample of size 25. We are calculating a *point estimate* for the standard deviation of Xbar_n (sample mean for a sample of size 25) using 40 independent observations of mhat_samp. 40, it seems, is big enough to give a good point estimate."
   ]
  },
  {
   "cell_type": "markdown",
   "metadata": {},
   "source": [
    "# Q6\n",
    "Now suppose you use `mhat` from Q1 to predict the number of field goals made in the last 6 games of the dataset. This is different from what we did in class. Here you are just using the average number of field goals made as your 'model'.\n",
    "\n",
    "- **create** a new variable called `predict_errsq` which is the the *squared* difference between `mhat` and `field_goals_made` in the final 6 games of the dataset\n",
    "- **calculate** the average of `predict_errsq` then take its square root. This statistic is called the 'root mean squared error' (RMSE).\n",
    "\n",
    "$$RMSE = \\sqrt{\\frac{1}{6}\\sum_{i = 26}^{31}(\\text{field_goals_made}_i - \\text{mhat})^2}$$\n",
    "\n",
    "Observe (you don't need to write anything) the difference between this last quantity and the theoretical CLT standard deviation. Compare the formula for root mean squared error to that of standard deviation.\n",
    "\n",
    "The reason they differ is that the CLT *does not* make any claims about the error of the prediction, only about the distribution of `mhat` when doing exactly what you did in Q2-Q4.\n",
    "\n",
    "To understand how accurate a model might be when applied to new data, a standard method is to do **cross validation** --- which we won't cover in this class.\n",
    "\n",
    "See https://en.wikipedia.org/wiki/Cross-validation_(statistics) or the textbook https://web.stanford.edu/~hastie/ElemStatLearn/"
   ]
  },
  {
   "cell_type": "code",
   "execution_count": 43,
   "metadata": {},
   "outputs": [],
   "source": [
    "predict_errsq = (dtest.loc[:, \"field_goals_made\"] - mhat)**2"
   ]
  },
  {
   "cell_type": "code",
   "execution_count": 47,
   "metadata": {},
   "outputs": [],
   "source": [
    "predict_errsq = (dtest.field_goals_made - mhat)**2"
   ]
  },
  {
   "cell_type": "code",
   "execution_count": 46,
   "metadata": {},
   "outputs": [
    {
     "data": {
      "text/plain": [
       "3.080086578869713"
      ]
     },
     "execution_count": 46,
     "metadata": {},
     "output_type": "execute_result"
    }
   ],
   "source": [
    "predict_errsq.mean()**.5"
   ]
  }
 ],
 "metadata": {
  "kernelspec": {
   "display_name": "Python 3",
   "language": "python",
   "name": "python3"
  },
  "language_info": {
   "codemirror_mode": {
    "name": "ipython",
    "version": 3
   },
   "file_extension": ".py",
   "mimetype": "text/x-python",
   "name": "python",
   "nbconvert_exporter": "python",
   "pygments_lexer": "ipython3",
   "version": "3.8.5"
  }
 },
 "nbformat": 4,
 "nbformat_minor": 4
}
