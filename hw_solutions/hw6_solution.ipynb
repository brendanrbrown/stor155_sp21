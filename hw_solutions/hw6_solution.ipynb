{
 "cells": [
  {
   "cell_type": "markdown",
   "metadata": {},
   "source": [
    "# hw 6\n",
    "### due March 23, 12:30 pm\n",
    "### data: `beauty.csv` or `beauty.xlsx`\n",
    "\n",
    "We are going to sample again from the `beauty` script data."
   ]
  },
  {
   "cell_type": "markdown",
   "metadata": {},
   "source": [
    "## Q1\n",
    "\n",
    "- **Load** the dataset\n",
    "- **Calculate** the proportion of lines `BELLE` has in the script, meaning the number of rows for which `person == BELLE`\n",
    "- **Store** this value as an object called `p`. Excel users: just put it in a cell with a header."
   ]
  },
  {
   "cell_type": "code",
   "execution_count": 1,
   "metadata": {},
   "outputs": [],
   "source": [
    "import pandas as pd"
   ]
  },
  {
   "cell_type": "code",
   "execution_count": 2,
   "metadata": {},
   "outputs": [],
   "source": [
    "d = pd.read_csv('https://github.com/brendanrbrown/stor155_sp21/raw/main/data/beauty.csv')"
   ]
  },
  {
   "cell_type": "code",
   "execution_count": 3,
   "metadata": {},
   "outputs": [],
   "source": [
    "p = d.person.value_counts(normalize = True).loc['BELLE']"
   ]
  },
  {
   "cell_type": "code",
   "execution_count": 4,
   "metadata": {},
   "outputs": [
    {
     "data": {
      "text/plain": [
       "0.19655667144906744"
      ]
     },
     "execution_count": 4,
     "metadata": {},
     "output_type": "execute_result"
    }
   ],
   "source": [
    "p"
   ]
  },
  {
   "cell_type": "markdown",
   "metadata": {},
   "source": [
    "## Q2\n",
    "\n",
    "- **Generate** 50 random samples with replacement of size 20 rows\n",
    "- **For each sample, calculate** the following saving the output as a variable, one row of the variable for each sample:\n",
    "    - `first_belle`: the first element of your sample representing a line Belle spoke. If none, this should be #N/A in excel and NA (or equivalent) in python\n",
    "    - `n_belle`: the number of Belle's lines in your sample\n",
    "    \n",
    "#### Help for Excel:\n",
    "\n",
    "Excel users will need to do this without the various add-ons excel provides. You will need to create a sample of size 1000, like we did last time. Then, you will treat each consecutive set of 20 rows as its own sample for calculating the values above. I suggest using the INDIRECT function and will demonstrate this in class.\n",
    "\n",
    "#### Help for Python:\n",
    "You can do this essentially the same way you did sampling last time. The only difference is you will now need to use something like a loop to do it consecutively. I will demonstrate this in class."
   ]
  },
  {
   "cell_type": "code",
   "execution_count": 5,
   "metadata": {},
   "outputs": [
    {
     "data": {
      "text/plain": [
       "[353       LUMIERE\n",
       " 521    MRS. POTTS\n",
       " 159       MAURICE\n",
       " 543         BEAST\n",
       " 153       MAURICE\n",
       " 137       LUMIERE\n",
       " 491         BEAST\n",
       " 670         BEAST\n",
       " 445         BELLE\n",
       " 396          CHIP\n",
       " Name: person, dtype: object,\n",
       " 156       LUMIERE\n",
       " 106         BELLE\n",
       " 469         BELLE\n",
       " 687     COGSWORTH\n",
       " 509         BELLE\n",
       " 253         BELLE\n",
       " 228       MAURICE\n",
       " 341    MRS. POTTS\n",
       " 9           BELLE\n",
       " 65        WOMAN 3\n",
       " Name: person, dtype: object]"
      ]
     },
     "execution_count": 5,
     "metadata": {},
     "output_type": "execute_result"
    }
   ],
   "source": [
    "# here I use a list comprehension to loop. see the pandas cookbook\n",
    "# in this case we just take 2 samples of size 10\n",
    "[d.person.sample(10, replace = True) for i in range(2)]"
   ]
  },
  {
   "cell_type": "code",
   "execution_count": 6,
   "metadata": {},
   "outputs": [],
   "source": [
    "# reset_index is so that it forgets the original row number. see why we do this in the next step\n",
    "ds = [d.person.sample(20, replace = True).reset_index(drop = True) for i in range(50)]"
   ]
  },
  {
   "cell_type": "code",
   "execution_count": 7,
   "metadata": {},
   "outputs": [
    {
     "data": {
      "text/plain": [
       "(0,\n",
       " 0          BELLE\n",
       " 1        WOMAN 3\n",
       " 2        MAURICE\n",
       " 3          BELLE\n",
       " 4          BELLE\n",
       " 5          BELLE\n",
       " 6           CHIP\n",
       " 7      COGSWORTH\n",
       " 8          BELLE\n",
       " 9       WRESTLER\n",
       " 10           ALL\n",
       " 11       MAURICE\n",
       " 12         BELLE\n",
       " 13    MRS. POTTS\n",
       " 14       OBJECTS\n",
       " 15       MAURICE\n",
       " 16     COGSWORTH\n",
       " 17        GASTON\n",
       " 18         BELLE\n",
       " 19     COGSWORTH\n",
       " Name: person, dtype: object)"
      ]
     },
     "execution_count": 7,
     "metadata": {},
     "output_type": "execute_result"
    }
   ],
   "source": [
    "# returns first index where value is BELLE\n",
    "# Remember: indexing starts at 0!\n",
    "ds[0].loc[ds[0] == \"BELLE\"].index[0], ds[0]"
   ]
  },
  {
   "cell_type": "code",
   "execution_count": 8,
   "metadata": {},
   "outputs": [],
   "source": [
    "# but what about times when there is no Belle?\n",
    "\n",
    "def check_belle(x):\n",
    "    try:\n",
    "        return x.loc[x == \"BELLE\"].index[0] + 1\n",
    "    except IndexError:\n",
    "        return pd.NA"
   ]
  },
  {
   "cell_type": "code",
   "execution_count": 9,
   "metadata": {},
   "outputs": [
    {
     "data": {
      "text/plain": [
       "1"
      ]
     },
     "execution_count": 9,
     "metadata": {},
     "output_type": "execute_result"
    }
   ],
   "source": [
    "check_belle(ds[0])"
   ]
  },
  {
   "cell_type": "code",
   "execution_count": 10,
   "metadata": {},
   "outputs": [
    {
     "data": {
      "text/plain": [
       "first_belle    Int64\n",
       "n_belle        Int64\n",
       "dtype: object"
      ]
     },
     "execution_count": 10,
     "metadata": {},
     "output_type": "execute_result"
    }
   ],
   "source": [
    "# get what you need with a list comprehension again\n",
    "# x is a placeholder for elements in your list of samples\n",
    "\n",
    "# using dtype = \"Int64\" to enforce integer variable type\n",
    "# in cases where there are too many NA, pd.DataFrame can't recognize it as an integer\n",
    "# notice I am not using the python-standard int type\n",
    "# this is a kind of annoying minor technical issue with missing value types for NA\n",
    "# https://pandas.pydata.org/pandas-docs/stable/user_guide/integer_na.html\n",
    "\n",
    "\n",
    "d = pd.DataFrame([[check_belle(x), x.eq(\"BELLE\").sum()] for x in ds], \n",
    "                 columns = ['first_belle', 'n_belle'],\n",
    "                 dtype = \"Int64\")\n",
    "d.dtypes"
   ]
  },
  {
   "cell_type": "markdown",
   "metadata": {},
   "source": [
    "## Q3\n",
    "\n",
    "- **Write one or two sentences** using formulas and concepts from class stating what distribution is appropriate for the variables `first_belle` and `n_belle` respectively.\n",
    "\n",
    "#### Answer\n",
    "The geometric(p) distribution (with `p` the true proportion of `BELLE` lines) is appropriate for `first_belle` since this variable represents the first time in a sequence of independent bernoulli trials with probability `p` that we see a success (`BELLE` line selected). A minor technical wrinkle here is the fact that we don't actually continue sampling until we do see `BELLE` --- we stop at 20 and mark NA if we haven't seen one of her lines yet. I did this for your convenience and in practice it shouldn't matter because we are very likely to see at least one success in 20 tries here.\n",
    "\n",
    "The binomial(20, p) distribution is appropriate for `n_belle` because it counts the number of successes in 20 independent bernoulli trials."
   ]
  },
  {
   "cell_type": "markdown",
   "metadata": {},
   "source": [
    "## Q4\n",
    "\n",
    "- **Display a histogram** of `first_belle`, using your best judgement on binwidths etc. as before"
   ]
  },
  {
   "cell_type": "code",
   "execution_count": 11,
   "metadata": {},
   "outputs": [
    {
     "data": {
      "text/plain": [
       "<AxesSubplot:ylabel='Frequency'>"
      ]
     },
     "execution_count": 11,
     "metadata": {},
     "output_type": "execute_result"
    },
    {
     "data": {
      "image/png": "[encoded data removed]",
      "text/plain": [
       "<Figure size 864x720 with 1 Axes>"
      ]
     },
     "metadata": {
      "needs_background": "light"
     },
     "output_type": "display_data"
    }
   ],
   "source": [
    "d.first_belle.plot.hist(figsize = (12, 10))"
   ]
  },
  {
   "cell_type": "markdown",
   "metadata": {},
   "source": [
    "## Q5\n",
    "\n",
    "- **Calculate** the average values of both `first_belle` and `n_belle`, ignoring all missing values if any.\n",
    "- **Write one or two sentences** using formulas and concepts from class to explain why these calculated values do or do not make sense."
   ]
  },
  {
   "cell_type": "code",
   "execution_count": 12,
   "metadata": {},
   "outputs": [
    {
     "data": {
      "text/plain": [
       "first_belle    5.00\n",
       "n_belle        3.96\n",
       "dtype: float64"
      ]
     },
     "execution_count": 12,
     "metadata": {},
     "output_type": "execute_result"
    }
   ],
   "source": [
    "d.mean()"
   ]
  },
  {
   "cell_type": "code",
   "execution_count": 13,
   "metadata": {},
   "outputs": [
    {
     "data": {
      "text/plain": [
       "'True p: 0.197'"
      ]
     },
     "execution_count": 13,
     "metadata": {},
     "output_type": "execute_result"
    }
   ],
   "source": [
    "f'True p: {p.round(3)}'"
   ]
  },
  {
   "cell_type": "markdown",
   "metadata": {},
   "source": [
    "The expectation for a geometric(p) is $1/p$ which is approximately 5. The expectation for a binomial(N, p) is $N\\times p$ which in this case is 4. Those theoretical numbers are close-ish to the numbers we calculated in our sample, which makes sense given the rough instruction you've had about sample and population averages so far in class."
   ]
  }
 ],
 "metadata": {
  "kernelspec": {
   "display_name": "Python 3",
   "language": "python",
   "name": "python3"
  },
  "language_info": {
   "codemirror_mode": {
    "name": "ipython",
    "version": 3
   },
   "file_extension": ".py",
   "mimetype": "text/x-python",
   "name": "python",
   "nbconvert_exporter": "python",
   "pygments_lexer": "ipython3",
   "version": "3.8.2"
  }
 },
 "nbformat": 4,
 "nbformat_minor": 4
}
