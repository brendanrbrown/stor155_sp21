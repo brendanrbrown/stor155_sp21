{
 "cells": [
  {
   "cell_type": "markdown",
   "metadata": {},
   "source": [
    "# hw 7\n",
    "### due March 30, 12:30 pm\n",
    "\n",
    "This will be a quick and easy introduction to random sampling from the distributions we've seen.\n",
    "\n",
    "For excel users, this will give you a way to sample despite excel not having functions to allow you to do so directly.\n",
    "\n",
    "For python users, you will get a small glimpse into the `scipy` package that is a workhorse of statistics."
   ]
  },
  {
   "cell_type": "code",
   "execution_count": 9,
   "metadata": {},
   "outputs": [],
   "source": [
    "import scipy.stats as stats\n",
    "import pandas as pd\n",
    "import matplotlib.pyplot as plt"
   ]
  },
  {
   "cell_type": "markdown",
   "metadata": {},
   "source": [
    "# Q1\n",
    "\n",
    "- **create** a variable called `u` that randomly samples 100 observations from a uniform(0, 1) distribution\n",
    "\n",
    "**Hint:** Excel users will want the `RAND` function. Python users should look at hw 4 where we did this for one random variable with `rng.random()`. You will need to copy-paste the code leading up to that statement.\n",
    "\n",
    "### Answers will all be after Q5 --- BB"
   ]
  },
  {
   "cell_type": "markdown",
   "metadata": {},
   "source": [
    "# Q2\n",
    "\n",
    "- **create** a variable called `b` that randomly samples 100 observations from a Binomial(10, .5) distribution.\n",
    "\n",
    "**Hint:** Excel users will need to use the variable `u` from the previous question, then apply the `BINOM.INV` function as described in the quantile function section of the most recent lecture.\n",
    "\n",
    "Python users will `import scipy.stats as stats` then use the `stats.binom.rv` function. Refer to the documentation here under Discrete distributions:\n",
    "https://docs.scipy.org/doc/scipy/reference/stats.html"
   ]
  },
  {
   "cell_type": "markdown",
   "metadata": {},
   "source": [
    "# Q3\n",
    "\n",
    "- **create** a variable called `z` that randomly samples 100 observations from a standard Normal(0, 1) distribution.\n",
    "\n",
    "**Hint:** Excel will use a process similar to the above but with the `NORM.INV` function.\n",
    "\n",
    "Python users will `import scipy.stats as stats` then use the `stats.norm.rv` function. Refer to the documentation."
   ]
  },
  {
   "cell_type": "markdown",
   "metadata": {},
   "source": [
    "# Q4\n",
    "\n",
    "- **create** a variable called `x` that randomly samples 100 observations from a standard Normal(3, 3) distribution.\n",
    "\n",
    "**Hint:** Excel will use the z-score conversion formula seen in class but otherwise the same procedure as above.\n",
    "\n",
    "Python users can do that too, or sample from it directly by changing some arguments in the `stats.norm.rv` function. See the documentation."
   ]
  },
  {
   "cell_type": "markdown",
   "metadata": {},
   "source": [
    "# Q5\n",
    "\n",
    "- **create a histogram** for each random variable you have created in this homework.\n",
    "\n",
    "Python users might find it easier to put all of these variables in a data frame then use the plot methods we've seen in past homeworks."
   ]
  },
  {
   "cell_type": "code",
   "execution_count": 36,
   "metadata": {},
   "outputs": [],
   "source": [
    "# easiest to do all in one go\n",
    "N = 100\n",
    "\n",
    "d = pd.DataFrame({'u': stats.uniform.rvs(size = N),\n",
    "                  'b': stats.binom.rvs(n = 10, p = .5, size = N),\n",
    "                  'z': stats.norm.rvs(size = N), # default is standard normal\n",
    "                  'x': stats.norm.rvs(loc = 3, scale = 3, size = N)})"
   ]
  },
  {
   "cell_type": "code",
   "execution_count": 37,
   "metadata": {},
   "outputs": [
    {
     "data": {
      "text/html": [
       "<div>\n",
       "<style scoped>\n",
       "    .dataframe tbody tr th:only-of-type {\n",
       "        vertical-align: middle;\n",
       "    }\n",
       "\n",
       "    .dataframe tbody tr th {\n",
       "        vertical-align: top;\n",
       "    }\n",
       "\n",
       "    .dataframe thead th {\n",
       "        text-align: right;\n",
       "    }\n",
       "</style>\n",
       "<table border=\"1\" class=\"dataframe\">\n",
       "  <thead>\n",
       "    <tr style=\"text-align: right;\">\n",
       "      <th></th>\n",
       "      <th>u</th>\n",
       "      <th>b</th>\n",
       "      <th>z</th>\n",
       "      <th>x</th>\n",
       "    </tr>\n",
       "  </thead>\n",
       "  <tbody>\n",
       "    <tr>\n",
       "      <th>0</th>\n",
       "      <td>0.377376</td>\n",
       "      <td>5</td>\n",
       "      <td>1.070914</td>\n",
       "      <td>2.478897</td>\n",
       "    </tr>\n",
       "    <tr>\n",
       "      <th>1</th>\n",
       "      <td>0.020343</td>\n",
       "      <td>4</td>\n",
       "      <td>-0.185204</td>\n",
       "      <td>4.713036</td>\n",
       "    </tr>\n",
       "    <tr>\n",
       "      <th>2</th>\n",
       "      <td>0.968358</td>\n",
       "      <td>4</td>\n",
       "      <td>-2.421895</td>\n",
       "      <td>1.351417</td>\n",
       "    </tr>\n",
       "    <tr>\n",
       "      <th>3</th>\n",
       "      <td>0.050334</td>\n",
       "      <td>5</td>\n",
       "      <td>-0.673195</td>\n",
       "      <td>3.150752</td>\n",
       "    </tr>\n",
       "    <tr>\n",
       "      <th>4</th>\n",
       "      <td>0.014471</td>\n",
       "      <td>6</td>\n",
       "      <td>0.379883</td>\n",
       "      <td>1.468405</td>\n",
       "    </tr>\n",
       "  </tbody>\n",
       "</table>\n",
       "</div>"
      ],
      "text/plain": [
       "          u  b         z         x\n",
       "0  0.377376  5  1.070914  2.478897\n",
       "1  0.020343  4 -0.185204  4.713036\n",
       "2  0.968358  4 -2.421895  1.351417\n",
       "3  0.050334  5 -0.673195  3.150752\n",
       "4  0.014471  6  0.379883  1.468405"
      ]
     },
     "execution_count": 37,
     "metadata": {},
     "output_type": "execute_result"
    }
   ],
   "source": [
    "d.head()"
   ]
  },
  {
   "cell_type": "code",
   "execution_count": 43,
   "metadata": {},
   "outputs": [
    {
     "data": {
      "image/png": "[encoded data removed]",
      "text/plain": [
       "<Figure size 864x720 with 4 Axes>"
      ]
     },
     "metadata": {
      "needs_background": "light"
     },
     "output_type": "display_data"
    }
   ],
   "source": [
    "pal = dict(u = '#7F5056', b = '#FFCFD6', x = '#FFA0AD', z = '#7F6064')\n",
    "\n",
    "d.plot.hist(color = pal, figsize = (12, 10), bins = 20,\n",
    "            subplots = True, sharex = False, legend = False,\n",
    "           title = \"u looks bad here. You'd actually want to plot it separately.\")\n",
    "plt.show()"
   ]
  }
 ],
 "metadata": {
  "kernelspec": {
   "display_name": "Python 3",
   "language": "python",
   "name": "python3"
  },
  "language_info": {
   "codemirror_mode": {
    "name": "ipython",
    "version": 3
   },
   "file_extension": ".py",
   "mimetype": "text/x-python",
   "name": "python",
   "nbconvert_exporter": "python",
   "pygments_lexer": "ipython3",
   "version": "3.8.2"
  }
 },
 "nbformat": 4,
 "nbformat_minor": 4
}
