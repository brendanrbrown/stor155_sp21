{
 "cells": [
  {
   "cell_type": "markdown",
   "metadata": {},
   "source": [
    "# hw 3\n",
    "## due **Feb. 18**, 12:30pm\n",
    "\n",
    "Feb 16 is a wellness day.\n",
    "\n",
    "In this assignment we'll explore some logical operations if/then/else and will explore summarizing survey data using subgroups defined by variables --- in other words, subgroups defined by people's responses to certain questions in the survey.\n",
    "\n",
    "### data\n",
    "This assignment uses the `shed_survey` dataset.\n",
    "\n",
    "Match the names of the variables with those provided in the official codebook for this dataset.\n",
    "\n",
    "Codebook: https://www.federalreserve.gov/consumerscommunities/files/SHED-2019-codebook.pdf\n",
    "\n",
    "2019 SHED survey dataset https://www.federalreserve.gov/consumerscommunities/shed_data.htm https://www.federalreserve.gov/publications/2020-update-economic-well-being-of-us-households-preface.htm\n",
    "\n"
   ]
  },
  {
   "cell_type": "markdown",
   "metadata": {},
   "source": [
    "### Q1\n",
    "\n",
    "After loading the dataset, \n",
    "\n",
    "- **create** a new column called `dummy` which as value 1 if EF3_c = \"yes\" and 0 otherwise. *pandas people* can use True instead of 1 and False instead of 0, which will behave the same for this question.\n",
    "- **count** the number of missing values (excel: blank, pandas: NA) in EF3_c\n",
    "- **count** the number of missing values in `dummy`\n",
    "- **write** one quick phrase explaining why those numbers differ\n",
    "\n",
    "The blanks represent cases in which the respondent refused to answer yes or no.\n",
    "\n",
    "This is a useless variable just to make a point: Your actions can sometimes have unintended consequences for understanding missing data!"
   ]
  },
  {
   "cell_type": "code",
   "execution_count": 1,
   "metadata": {},
   "outputs": [],
   "source": [
    "import pandas as pd\n",
    "import matplotlib.pyplot as plt"
   ]
  },
  {
   "cell_type": "code",
   "execution_count": 2,
   "metadata": {},
   "outputs": [],
   "source": [
    "d = pd.read_csv('https://github.com/brendanrbrown/stor155_sp21/raw/main/data/shed_survey.csv')"
   ]
  },
  {
   "cell_type": "code",
   "execution_count": 3,
   "metadata": {},
   "outputs": [],
   "source": [
    "d = d.assign(dummy = d.EF3_c.eq('yes'))"
   ]
  },
  {
   "cell_type": "code",
   "execution_count": 4,
   "metadata": {},
   "outputs": [
    {
     "data": {
      "text/plain": [
       "EF3_c    57\n",
       "dummy     0\n",
       "dtype: int64"
      ]
     },
     "execution_count": 4,
     "metadata": {},
     "output_type": "execute_result"
    }
   ],
   "source": [
    "d.loc[:, ['EF3_c', 'dummy']].isna().sum()"
   ]
  },
  {
   "cell_type": "code",
   "execution_count": 5,
   "metadata": {},
   "outputs": [
    {
     "data": {
      "text/plain": [
       "57"
      ]
     },
     "execution_count": 5,
     "metadata": {},
     "output_type": "execute_result"
    }
   ],
   "source": [
    "# aside: if you wanted to recode for some reason while preserving missing you could do\n",
    "# d.EF3_c.str.match('yes')\n",
    "# or equivalently\n",
    "# d.loc[:, 'EF3_c'].str.match('yes')\n",
    "\n",
    "# shows that it preserves NA\n",
    "d.EF3_c.str.match('yes').isna().sum()"
   ]
  },
  {
   "cell_type": "markdown",
   "metadata": {},
   "source": [
    "### Q2\n",
    "\n",
    "After loading the dataset, \n",
    "\n",
    "- **create** a new column called `n_yes` which counts the number of 'yes' answers in the EF3 series of variables for each row\n",
    "- **create** a new column called `any_cash_equiv` which equals 1 (pandas: you can use True here too) if either EF3_a = 'yes' or EF3_c = 'yes' or both\n",
    "- **create** a new column called `only_cash_equiv` which equals 1 (pandas: you can use True here too) if either EF3_a = 'yes' or EF3_c = 'yes' (or both) are true but none of the other EF3 variables is 'yes'\n",
    "\n",
    "Breaking this down a bit:\n",
    "\n",
    "`any_cash_equiv` is a variable that counts whether the respondent said they would pay with cash (EF3_c = 'yes') or equivalent (EF3_a = 'yes') regardless of what other payment methods they chose in addition.\n",
    "\n",
    "`only_cash_equiv` counts whether the respondent said they'd pay with cash or equivalent but does *not* count observations for which some other payment method also was listed."
   ]
  },
  {
   "cell_type": "code",
   "execution_count": 6,
   "metadata": {},
   "outputs": [],
   "source": [
    "# a few new ideas here if you have never programmed before\n",
    "\n",
    "# d.columns.str.match('EF3') returns True if the word EF3 appears in the column name\n",
    "# which can be passed to .loc[] to access those columns\n",
    "\n",
    "# as mentioned in class you are allowed to cheat in creating the only_cash_equiv\n",
    "# point is to show you can use previously created variables within assign using 'lambda' anonymous function\n",
    "\n",
    "# summing over True/False will treat them like 1/0 respectively\n",
    "\n",
    "# the apply statement was explained in class. check out the docs and come talk to me.\n",
    "\n",
    "d = d.assign(n_yes = d.loc[:, d.columns.str.match('EF3')].apply(lambda x: x.eq('yes').sum(), axis = 1),\n",
    "             any_cash_equiv = d.loc[:, ['EF3_a', 'EF3_c']].apply(lambda x: x.eq('yes').any(), axis = 1), \n",
    "             # this is cheating. see real answer below\n",
    "             # x now refers to the data frame after the changes above within this assign statement\n",
    "             only_cash_equiv = lambda x: x.n_yes.le(2) & x.any_cash_equiv)"
   ]
  },
  {
   "cell_type": "code",
   "execution_count": 7,
   "metadata": {},
   "outputs": [
    {
     "data": {
      "text/html": [
       "<div>\n",
       "<style scoped>\n",
       "    .dataframe tbody tr th:only-of-type {\n",
       "        vertical-align: middle;\n",
       "    }\n",
       "\n",
       "    .dataframe tbody tr th {\n",
       "        vertical-align: top;\n",
       "    }\n",
       "\n",
       "    .dataframe thead th {\n",
       "        text-align: right;\n",
       "    }\n",
       "</style>\n",
       "<table border=\"1\" class=\"dataframe\">\n",
       "  <thead>\n",
       "    <tr style=\"text-align: right;\">\n",
       "      <th></th>\n",
       "      <th>CaseID</th>\n",
       "      <th>Duration</th>\n",
       "      <th>B2</th>\n",
       "      <th>B7_a</th>\n",
       "      <th>B7_b</th>\n",
       "      <th>D1A</th>\n",
       "      <th>D1E</th>\n",
       "      <th>EF3_a</th>\n",
       "      <th>EF3_b</th>\n",
       "      <th>EF3_c</th>\n",
       "      <th>EF3_d</th>\n",
       "      <th>EF3_e</th>\n",
       "      <th>EF3_f</th>\n",
       "      <th>EF3_g</th>\n",
       "      <th>EF3_h</th>\n",
       "      <th>dummy</th>\n",
       "      <th>n_yes</th>\n",
       "      <th>any_cash_equiv</th>\n",
       "      <th>only_cash_equiv</th>\n",
       "    </tr>\n",
       "  </thead>\n",
       "  <tbody>\n",
       "    <tr>\n",
       "      <th>0</th>\n",
       "      <td>1</td>\n",
       "      <td>24665</td>\n",
       "      <td>doing okay</td>\n",
       "      <td>poor</td>\n",
       "      <td>poor</td>\n",
       "      <td>no</td>\n",
       "      <td>yes</td>\n",
       "      <td>yes</td>\n",
       "      <td>no</td>\n",
       "      <td>yes</td>\n",
       "      <td>no</td>\n",
       "      <td>no</td>\n",
       "      <td>no</td>\n",
       "      <td>yes</td>\n",
       "      <td>no</td>\n",
       "      <td>True</td>\n",
       "      <td>3</td>\n",
       "      <td>True</td>\n",
       "      <td>False</td>\n",
       "    </tr>\n",
       "    <tr>\n",
       "      <th>1</th>\n",
       "      <td>2</td>\n",
       "      <td>721</td>\n",
       "      <td>doing okay</td>\n",
       "      <td>good</td>\n",
       "      <td>good</td>\n",
       "      <td>no</td>\n",
       "      <td>yes</td>\n",
       "      <td>no</td>\n",
       "      <td>no</td>\n",
       "      <td>yes</td>\n",
       "      <td>no</td>\n",
       "      <td>no</td>\n",
       "      <td>no</td>\n",
       "      <td>no</td>\n",
       "      <td>no</td>\n",
       "      <td>True</td>\n",
       "      <td>1</td>\n",
       "      <td>True</td>\n",
       "      <td>True</td>\n",
       "    </tr>\n",
       "    <tr>\n",
       "      <th>2</th>\n",
       "      <td>3</td>\n",
       "      <td>937</td>\n",
       "      <td>doing okay</td>\n",
       "      <td>good</td>\n",
       "      <td>good</td>\n",
       "      <td>yes</td>\n",
       "      <td>no</td>\n",
       "      <td>yes</td>\n",
       "      <td>no</td>\n",
       "      <td>no</td>\n",
       "      <td>no</td>\n",
       "      <td>no</td>\n",
       "      <td>no</td>\n",
       "      <td>no</td>\n",
       "      <td>no</td>\n",
       "      <td>False</td>\n",
       "      <td>1</td>\n",
       "      <td>True</td>\n",
       "      <td>True</td>\n",
       "    </tr>\n",
       "    <tr>\n",
       "      <th>3</th>\n",
       "      <td>4</td>\n",
       "      <td>1066</td>\n",
       "      <td>just getting by</td>\n",
       "      <td>only fair</td>\n",
       "      <td>good</td>\n",
       "      <td>yes</td>\n",
       "      <td>no</td>\n",
       "      <td>no</td>\n",
       "      <td>no</td>\n",
       "      <td>yes</td>\n",
       "      <td>no</td>\n",
       "      <td>no</td>\n",
       "      <td>no</td>\n",
       "      <td>no</td>\n",
       "      <td>no</td>\n",
       "      <td>True</td>\n",
       "      <td>1</td>\n",
       "      <td>True</td>\n",
       "      <td>True</td>\n",
       "    </tr>\n",
       "    <tr>\n",
       "      <th>4</th>\n",
       "      <td>5</td>\n",
       "      <td>1441</td>\n",
       "      <td>living comfortably</td>\n",
       "      <td>good</td>\n",
       "      <td>good</td>\n",
       "      <td>no</td>\n",
       "      <td>no</td>\n",
       "      <td>no</td>\n",
       "      <td>no</td>\n",
       "      <td>yes</td>\n",
       "      <td>no</td>\n",
       "      <td>no</td>\n",
       "      <td>no</td>\n",
       "      <td>no</td>\n",
       "      <td>no</td>\n",
       "      <td>True</td>\n",
       "      <td>1</td>\n",
       "      <td>True</td>\n",
       "      <td>True</td>\n",
       "    </tr>\n",
       "  </tbody>\n",
       "</table>\n",
       "</div>"
      ],
      "text/plain": [
       "   CaseID  Duration                  B2       B7_a  B7_b  D1A  D1E EF3_a  \\\n",
       "0       1     24665          doing okay       poor  poor   no  yes   yes   \n",
       "1       2       721          doing okay       good  good   no  yes    no   \n",
       "2       3       937          doing okay       good  good  yes   no   yes   \n",
       "3       4      1066     just getting by  only fair  good  yes   no    no   \n",
       "4       5      1441  living comfortably       good  good   no   no    no   \n",
       "\n",
       "  EF3_b EF3_c EF3_d EF3_e EF3_f EF3_g EF3_h  dummy  n_yes  any_cash_equiv  \\\n",
       "0    no   yes    no    no    no   yes    no   True      3            True   \n",
       "1    no   yes    no    no    no    no    no   True      1            True   \n",
       "2    no    no    no    no    no    no    no  False      1            True   \n",
       "3    no   yes    no    no    no    no    no   True      1            True   \n",
       "4    no   yes    no    no    no    no    no   True      1            True   \n",
       "\n",
       "   only_cash_equiv  \n",
       "0            False  \n",
       "1             True  \n",
       "2             True  \n",
       "3             True  \n",
       "4             True  "
      ]
     },
     "execution_count": 7,
     "metadata": {},
     "output_type": "execute_result"
    }
   ],
   "source": [
    "d.head()"
   ]
  },
  {
   "cell_type": "markdown",
   "metadata": {},
   "source": [
    "### Alternatives"
   ]
  },
  {
   "cell_type": "code",
   "execution_count": 8,
   "metadata": {},
   "outputs": [],
   "source": [
    "# I demonstrate apply there intentionally, but\n",
    "# in fact you can do the first assignments in a more compact way\n",
    "# using the fact that .eq() also is a data frame method and sum() and any() can apply across axes\n",
    "\n",
    "d = d.assign(n_yes = d.loc[:, d.columns.str.match('EF3')].eq('yes').sum(axis = 1),\n",
    "             any_cash_equiv = d.loc[:, ['EF3_a', 'EF3_c']].eq('yes').any(axis = 1),\n",
    "             only_cash_equiv = lambda x: x.n_yes.le(2) & x.any_cash_equiv)"
   ]
  },
  {
   "cell_type": "code",
   "execution_count": 9,
   "metadata": {},
   "outputs": [],
   "source": [
    "# above is a fine answer\n",
    "# this is how you actually would create only_cash_equiv variable\n",
    "# careful! any() here is now a data frame method, not the series method used above\n",
    "# so you need to ask which axis it is applying itself to\n",
    "\n",
    "only_cash = d.any_cash_equiv & (~d.loc[:, d.columns.str.match('EF3_[bdefgh]')].eq('yes').any(axis = 1))"
   ]
  },
  {
   "cell_type": "code",
   "execution_count": 10,
   "metadata": {},
   "outputs": [
    {
     "data": {
      "text/plain": [
       "(8060, 8532)"
      ]
     },
     "execution_count": 10,
     "metadata": {},
     "output_type": "execute_result"
    }
   ],
   "source": [
    "# there's a difference!\n",
    "only_cash.sum(), d.only_cash_equiv.sum()"
   ]
  },
  {
   "cell_type": "markdown",
   "metadata": {},
   "source": [
    "For those of you interested in computational efficiency, note the more wordy `.loc[]` assignment is in general a bit better"
   ]
  },
  {
   "cell_type": "code",
   "execution_count": 11,
   "metadata": {},
   "outputs": [],
   "source": [
    "d = pd.read_csv('https://github.com/brendanrbrown/stor155_sp21/raw/main/data/shed_survey.csv')"
   ]
  },
  {
   "cell_type": "code",
   "execution_count": 12,
   "metadata": {},
   "outputs": [
    {
     "name": "stdout",
     "output_type": "stream",
     "text": [
      "7.93 ms ± 445 µs per loop (mean ± std. dev. of 15 runs, 100 loops each)\n"
     ]
    }
   ],
   "source": [
    "%timeit -r 15 d.assign(n_yes = d.loc[:, d.columns.str.match('EF3')].eq('yes').sum(axis = 1), any_cash_equiv = d.loc[:, ['EF3_a', 'EF3_c']].eq('yes').sum(axis = 1), only_cash_equiv = lambda x: x.n_yes.le(2) & x.any_cash_equiv)"
   ]
  },
  {
   "cell_type": "code",
   "execution_count": 13,
   "metadata": {},
   "outputs": [],
   "source": [
    "d = pd.read_csv('https://github.com/brendanrbrown/stor155_sp21/raw/main/data/shed_survey.csv')"
   ]
  },
  {
   "cell_type": "code",
   "execution_count": 14,
   "metadata": {},
   "outputs": [
    {
     "name": "stdout",
     "output_type": "stream",
     "text": [
      "6.9 ms ± 35.2 µs per loop (mean ± std. dev. of 15 runs, 100 loops each)\n"
     ]
    }
   ],
   "source": [
    "%timeit -r 15 d.loc[:, 'n_yes'] = d.loc[:, d.columns.str.match('EF3')].eq('yes').sum(axis = 1); d.loc[:, 'any_cash_equiv'] = d.loc[:, ['EF3_a', 'EF3_c']].eq('yes').sum(axis = 1); d.loc[:, 'only_cash_equiv'] = d.loc[:, 'any_cash_equiv'] & d.loc[:, 'n_yes'].le(2)"
   ]
  },
  {
   "cell_type": "markdown",
   "metadata": {},
   "source": [
    "### Q3\n",
    "\n",
    "- **Give the within-group averages** for the three variables you created in Q2, for groups given by the values in variable B2.\n",
    "\n",
    "For example, the average `n_yes` for the group of rows for which B2 = `doing ok` is the sum of `n_yes` values for observations in that group divided by the number of observations in that group.\n",
    "\n",
    "Excel users: You will need to use a pivot table.\n",
    "\n",
    "Pandas users: You will need to use the .groupby() method followed by the .agg() method.\n"
   ]
  },
  {
   "cell_type": "code",
   "execution_count": 15,
   "metadata": {},
   "outputs": [
    {
     "data": {
      "text/html": [
       "<div>\n",
       "<style scoped>\n",
       "    .dataframe tbody tr th:only-of-type {\n",
       "        vertical-align: middle;\n",
       "    }\n",
       "\n",
       "    .dataframe tbody tr th {\n",
       "        vertical-align: top;\n",
       "    }\n",
       "\n",
       "    .dataframe thead th {\n",
       "        text-align: right;\n",
       "    }\n",
       "</style>\n",
       "<table border=\"1\" class=\"dataframe\">\n",
       "  <thead>\n",
       "    <tr style=\"text-align: right;\">\n",
       "      <th></th>\n",
       "      <th>n_yes</th>\n",
       "      <th>any_cash_equiv</th>\n",
       "      <th>only_cash_equiv</th>\n",
       "    </tr>\n",
       "    <tr>\n",
       "      <th>B2</th>\n",
       "      <th></th>\n",
       "      <th></th>\n",
       "      <th></th>\n",
       "    </tr>\n",
       "  </thead>\n",
       "  <tbody>\n",
       "    <tr>\n",
       "      <th>doing okay</th>\n",
       "      <td>1.279626</td>\n",
       "      <td>0.886902</td>\n",
       "      <td>0.659459</td>\n",
       "    </tr>\n",
       "    <tr>\n",
       "      <th>finding it difficult to get by</th>\n",
       "      <td>1.450980</td>\n",
       "      <td>0.177778</td>\n",
       "      <td>0.116340</td>\n",
       "    </tr>\n",
       "    <tr>\n",
       "      <th>just getting by</th>\n",
       "      <td>1.413520</td>\n",
       "      <td>0.443357</td>\n",
       "      <td>0.319347</td>\n",
       "    </tr>\n",
       "    <tr>\n",
       "      <th>living comfortably</th>\n",
       "      <td>1.182984</td>\n",
       "      <td>1.090254</td>\n",
       "      <td>0.808913</td>\n",
       "    </tr>\n",
       "  </tbody>\n",
       "</table>\n",
       "</div>"
      ],
      "text/plain": [
       "                                   n_yes  any_cash_equiv  only_cash_equiv\n",
       "B2                                                                       \n",
       "doing okay                      1.279626        0.886902         0.659459\n",
       "finding it difficult to get by  1.450980        0.177778         0.116340\n",
       "just getting by                 1.413520        0.443357         0.319347\n",
       "living comfortably              1.182984        1.090254         0.808913"
      ]
     },
     "execution_count": 15,
     "metadata": {},
     "output_type": "execute_result"
    }
   ],
   "source": [
    "d.loc[:, ['B2', 'n_yes', 'any_cash_equiv', 'only_cash_equiv']].groupby('B2').agg('mean')"
   ]
  },
  {
   "cell_type": "markdown",
   "metadata": {},
   "source": [
    "### Q4\n",
    "\n",
    "- **Give the within-group average** for the three variables you created in Q2, but this time for groups given by the values in variables `D1A` and `D1E`.\n",
    "- Also **count** the number of observations within each of those groups.\n",
    "\n",
    "A group defined by two variables will be given by each unique pair of values from those variables. For example, D1A = 'yes' and D1E = 'yes' will be one group and D1A = 'yes' and D1E = 'no' will be another.\n",
    "\n",
    "Excel users: Create a *separate pivot table* for this answer, to preserve your answers to the previous question."
   ]
  },
  {
   "cell_type": "code",
   "execution_count": 16,
   "metadata": {},
   "outputs": [
    {
     "data": {
      "text/html": [
       "<div>\n",
       "<style scoped>\n",
       "    .dataframe tbody tr th:only-of-type {\n",
       "        vertical-align: middle;\n",
       "    }\n",
       "\n",
       "    .dataframe tbody tr th {\n",
       "        vertical-align: top;\n",
       "    }\n",
       "\n",
       "    .dataframe thead tr th {\n",
       "        text-align: left;\n",
       "    }\n",
       "\n",
       "    .dataframe thead tr:last-of-type th {\n",
       "        text-align: right;\n",
       "    }\n",
       "</style>\n",
       "<table border=\"1\" class=\"dataframe\">\n",
       "  <thead>\n",
       "    <tr>\n",
       "      <th></th>\n",
       "      <th></th>\n",
       "      <th colspan=\"2\" halign=\"left\">n_yes</th>\n",
       "      <th colspan=\"2\" halign=\"left\">any_cash_equiv</th>\n",
       "      <th colspan=\"2\" halign=\"left\">only_cash_equiv</th>\n",
       "    </tr>\n",
       "    <tr>\n",
       "      <th></th>\n",
       "      <th></th>\n",
       "      <th>mean</th>\n",
       "      <th>count</th>\n",
       "      <th>mean</th>\n",
       "      <th>count</th>\n",
       "      <th>mean</th>\n",
       "      <th>count</th>\n",
       "    </tr>\n",
       "    <tr>\n",
       "      <th>D1A</th>\n",
       "      <th>D1E</th>\n",
       "      <th></th>\n",
       "      <th></th>\n",
       "      <th></th>\n",
       "      <th></th>\n",
       "      <th></th>\n",
       "      <th></th>\n",
       "    </tr>\n",
       "  </thead>\n",
       "  <tbody>\n",
       "    <tr>\n",
       "      <th rowspan=\"2\" valign=\"top\">no</th>\n",
       "      <th>no</th>\n",
       "      <td>1.200455</td>\n",
       "      <td>3517</td>\n",
       "      <td>0.900768</td>\n",
       "      <td>3517</td>\n",
       "      <td>0.685812</td>\n",
       "      <td>3517</td>\n",
       "    </tr>\n",
       "    <tr>\n",
       "      <th>yes</th>\n",
       "      <td>1.317323</td>\n",
       "      <td>1270</td>\n",
       "      <td>0.511024</td>\n",
       "      <td>1270</td>\n",
       "      <td>0.384252</td>\n",
       "      <td>1270</td>\n",
       "    </tr>\n",
       "    <tr>\n",
       "      <th rowspan=\"2\" valign=\"top\">yes</th>\n",
       "      <th>no</th>\n",
       "      <td>1.237500</td>\n",
       "      <td>4960</td>\n",
       "      <td>0.958065</td>\n",
       "      <td>4960</td>\n",
       "      <td>0.708468</td>\n",
       "      <td>4960</td>\n",
       "    </tr>\n",
       "    <tr>\n",
       "      <th>yes</th>\n",
       "      <td>1.456549</td>\n",
       "      <td>2405</td>\n",
       "      <td>0.674428</td>\n",
       "      <td>2405</td>\n",
       "      <td>0.466944</td>\n",
       "      <td>2405</td>\n",
       "    </tr>\n",
       "  </tbody>\n",
       "</table>\n",
       "</div>"
      ],
      "text/plain": [
       "            n_yes       any_cash_equiv       only_cash_equiv      \n",
       "             mean count           mean count            mean count\n",
       "D1A D1E                                                           \n",
       "no  no   1.200455  3517       0.900768  3517        0.685812  3517\n",
       "    yes  1.317323  1270       0.511024  1270        0.384252  1270\n",
       "yes no   1.237500  4960       0.958065  4960        0.708468  4960\n",
       "    yes  1.456549  2405       0.674428  2405        0.466944  2405"
      ]
     },
     "execution_count": 16,
     "metadata": {},
     "output_type": "execute_result"
    }
   ],
   "source": [
    "d.loc[:, ['D1A', 'D1E', 'n_yes', 'any_cash_equiv', 'only_cash_equiv']].groupby(['D1A', 'D1E']).agg(['mean', 'count'])"
   ]
  }
 ],
 "metadata": {
  "kernelspec": {
   "display_name": "Python 3",
   "language": "python",
   "name": "python3"
  },
  "language_info": {
   "codemirror_mode": {
    "name": "ipython",
    "version": 3
   },
   "file_extension": ".py",
   "mimetype": "text/x-python",
   "name": "python",
   "nbconvert_exporter": "python",
   "pygments_lexer": "ipython3",
   "version": "3.8.2"
  }
 },
 "nbformat": 4,
 "nbformat_minor": 4
}
