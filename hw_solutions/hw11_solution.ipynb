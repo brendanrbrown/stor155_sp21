{
 "cells": [
  {
   "cell_type": "markdown",
   "metadata": {},
   "source": [
    "# hw 10\n",
    "### due May 4, 12:30 pm\n",
    "\n",
    "### data: `affairs_samp`\n",
    "We will work again with survey data on marital infidelity from a Psychology study from the 1960s. \n",
    "\n",
    "This time, I have randomly generated two samples of equally small size, identified by the `sampid` variable.\n",
    "\n",
    "Get this data\n",
    "\n",
    "#### more info\n",
    "Each observation represents one respondent's answers.\n",
    "\n",
    "**See here for more information** on this dataset (same as last time)\n",
    "https://vincentarelbundock.github.io/Rdatasets/doc/AER/Affairs.html\n",
    "\n",
    "### goal: let's do some p-hacking\n",
    "\n",
    "We're going to do some minor p-hacking to explore a bit more why it's bad. See the links in the `hypotest_three` slides for more detailed analyses of ways p-hacking has been abused."
   ]
  },
  {
   "cell_type": "markdown",
   "metadata": {},
   "source": [
    "### code used to generate samples"
   ]
  },
  {
   "cell_type": "raw",
   "metadata": {},
   "source": [
    "import pandas as pd\n",
    "import scipy.stats as stats"
   ]
  },
  {
   "cell_type": "raw",
   "metadata": {},
   "source": [
    "d = pd.read_csv('https://vincentarelbundock.github.io/Rdatasets/csv/AER/Affairs.csv')"
   ]
  },
  {
   "cell_type": "raw",
   "metadata": {},
   "source": [
    "d.head()"
   ]
  },
  {
   "cell_type": "raw",
   "metadata": {},
   "source": [
    "d.loc[:, 'young'] = d.loc[:, 'age'].le(32)\n",
    "d.loc[:, 'some_affairs'] = d.loc[:, 'affairs'].ge(1)"
   ]
  },
  {
   "cell_type": "raw",
   "metadata": {},
   "source": [
    "dsamp = [d.groupby(['young', 'gender', 'children']).sample(n = 8, replace = True).assign(sampid = i) for i in range(2)]"
   ]
  },
  {
   "cell_type": "raw",
   "metadata": {},
   "source": [
    "d = pd.concat(dsamp, axis = 0).drop(columns = 'Unnamed: 0')\n",
    "d.to_csv('../data/affairs_samp.csv', index = False)\n",
    "d.to_excel('../data/affairs_samp.xlsx', index = False)"
   ]
  },
  {
   "cell_type": "markdown",
   "metadata": {},
   "source": [
    "# Q1\n",
    "Load the data as usual. **For `sampid = 0` (see data explanation)**\n",
    "\n",
    "- **create a pivot table** (or grouped summary information in pandas, same as last time) with \n",
    "    - group variables `young` and `children`\n",
    "    - summary statistics for `some_affairs`: `mhat` (sample mean), `shat` (sample s.d.), `n` number of samples per group, `sehat` (s.d. of the mean using CLT, aka standard error)\n",
    "\n",
    "- **create another pivot table** (or grouped summary information in pandas, same as last time) with \n",
    "    - group variables `young` and `gender`\n",
    "    - same summary stats for `some_affairs`\n",
    "    \n",
    "**Note for excel users**: You don't need to rename the pivot table columns to those listed above.\n",
    "\n",
    "Pandas users also can call things what they want, so long as the names are clear."
   ]
  },
  {
   "cell_type": "code",
   "execution_count": 1,
   "metadata": {},
   "outputs": [],
   "source": [
    "import pandas as pd\n",
    "import scipy.stats as stats"
   ]
  },
  {
   "cell_type": "code",
   "execution_count": 2,
   "metadata": {},
   "outputs": [],
   "source": [
    "d = pd.read_csv('https://raw.githubusercontent.com/brendanrbrown/stor155_sp21/main/data/affairs_samp.csv')"
   ]
  },
  {
   "cell_type": "markdown",
   "metadata": {},
   "source": [
    "#### some helpful functions\n",
    "Many ways to do this. Here I balance good programming practices with the goal of not introducing too many new things."
   ]
  },
  {
   "cell_type": "code",
   "execution_count": 3,
   "metadata": {},
   "outputs": [],
   "source": [
    "def sample_stats(data, sub_gp):\n",
    "    group = ['young', 'sampid'] + [sub_gp]\n",
    "    data = data.loc[:, group + ['some_affairs']].groupby(group).agg(['mean', 'std', 'size']\n",
    "                                  ).droplevel(0, axis = 1).rename(columns = {'mean': 'mhat', 'std': 'shat', 'size': 'n'})\n",
    "    \n",
    "    return data.assign(sehat = lambda x: x.shat / x.n**.5).reset_index(level = sub_gp)"
   ]
  },
  {
   "cell_type": "markdown",
   "metadata": {},
   "source": [
    "Actually we'll do Q1, 2 all in one go, but to satisfy this question let's just print the results.\n",
    "\n",
    "\n",
    "**Note there is some freaky stuff going on here**: A number of the values are the same. This is by chance! It was made more likely by the fact that 1) this is a small sample, 2) I constrained all subgroup sample sizes to be the same.\n",
    "\n",
    "Intuitively though, it's not great, and it gives you a sense yet a gain that small sample sizes can lead to bad or weird results."
   ]
  },
  {
   "cell_type": "code",
   "execution_count": 4,
   "metadata": {},
   "outputs": [
    {
     "data": {
      "text/html": [
       "<div>\n",
       "<style scoped>\n",
       "    .dataframe tbody tr th:only-of-type {\n",
       "        vertical-align: middle;\n",
       "    }\n",
       "\n",
       "    .dataframe tbody tr th {\n",
       "        vertical-align: top;\n",
       "    }\n",
       "\n",
       "    .dataframe thead th {\n",
       "        text-align: right;\n",
       "    }\n",
       "</style>\n",
       "<table border=\"1\" class=\"dataframe\">\n",
       "  <thead>\n",
       "    <tr style=\"text-align: right;\">\n",
       "      <th></th>\n",
       "      <th></th>\n",
       "      <th>children</th>\n",
       "      <th>mhat</th>\n",
       "      <th>shat</th>\n",
       "      <th>n</th>\n",
       "      <th>sehat</th>\n",
       "    </tr>\n",
       "    <tr>\n",
       "      <th>young</th>\n",
       "      <th>sampid</th>\n",
       "      <th></th>\n",
       "      <th></th>\n",
       "      <th></th>\n",
       "      <th></th>\n",
       "      <th></th>\n",
       "    </tr>\n",
       "  </thead>\n",
       "  <tbody>\n",
       "    <tr>\n",
       "      <th rowspan=\"4\" valign=\"top\">False</th>\n",
       "      <th>0</th>\n",
       "      <td>no</td>\n",
       "      <td>0.3750</td>\n",
       "      <td>0.500000</td>\n",
       "      <td>16</td>\n",
       "      <td>0.125000</td>\n",
       "    </tr>\n",
       "    <tr>\n",
       "      <th>0</th>\n",
       "      <td>yes</td>\n",
       "      <td>0.1875</td>\n",
       "      <td>0.403113</td>\n",
       "      <td>16</td>\n",
       "      <td>0.100778</td>\n",
       "    </tr>\n",
       "    <tr>\n",
       "      <th>1</th>\n",
       "      <td>no</td>\n",
       "      <td>0.3750</td>\n",
       "      <td>0.500000</td>\n",
       "      <td>16</td>\n",
       "      <td>0.125000</td>\n",
       "    </tr>\n",
       "    <tr>\n",
       "      <th>1</th>\n",
       "      <td>yes</td>\n",
       "      <td>0.1875</td>\n",
       "      <td>0.403113</td>\n",
       "      <td>16</td>\n",
       "      <td>0.100778</td>\n",
       "    </tr>\n",
       "    <tr>\n",
       "      <th rowspan=\"4\" valign=\"top\">True</th>\n",
       "      <th>0</th>\n",
       "      <td>no</td>\n",
       "      <td>0.2500</td>\n",
       "      <td>0.447214</td>\n",
       "      <td>16</td>\n",
       "      <td>0.111803</td>\n",
       "    </tr>\n",
       "    <tr>\n",
       "      <th>0</th>\n",
       "      <td>yes</td>\n",
       "      <td>0.4375</td>\n",
       "      <td>0.512348</td>\n",
       "      <td>16</td>\n",
       "      <td>0.128087</td>\n",
       "    </tr>\n",
       "    <tr>\n",
       "      <th>1</th>\n",
       "      <td>no</td>\n",
       "      <td>0.1875</td>\n",
       "      <td>0.403113</td>\n",
       "      <td>16</td>\n",
       "      <td>0.100778</td>\n",
       "    </tr>\n",
       "    <tr>\n",
       "      <th>1</th>\n",
       "      <td>yes</td>\n",
       "      <td>0.4375</td>\n",
       "      <td>0.512348</td>\n",
       "      <td>16</td>\n",
       "      <td>0.128087</td>\n",
       "    </tr>\n",
       "  </tbody>\n",
       "</table>\n",
       "</div>"
      ],
      "text/plain": [
       "             children    mhat      shat   n     sehat\n",
       "young sampid                                         \n",
       "False 0            no  0.3750  0.500000  16  0.125000\n",
       "      0           yes  0.1875  0.403113  16  0.100778\n",
       "      1            no  0.3750  0.500000  16  0.125000\n",
       "      1           yes  0.1875  0.403113  16  0.100778\n",
       "True  0            no  0.2500  0.447214  16  0.111803\n",
       "      0           yes  0.4375  0.512348  16  0.128087\n",
       "      1            no  0.1875  0.403113  16  0.100778\n",
       "      1           yes  0.4375  0.512348  16  0.128087"
      ]
     },
     "execution_count": 4,
     "metadata": {},
     "output_type": "execute_result"
    }
   ],
   "source": [
    "sample_stats(d, 'children')"
   ]
  },
  {
   "cell_type": "code",
   "execution_count": 5,
   "metadata": {},
   "outputs": [
    {
     "data": {
      "text/html": [
       "<div>\n",
       "<style scoped>\n",
       "    .dataframe tbody tr th:only-of-type {\n",
       "        vertical-align: middle;\n",
       "    }\n",
       "\n",
       "    .dataframe tbody tr th {\n",
       "        vertical-align: top;\n",
       "    }\n",
       "\n",
       "    .dataframe thead th {\n",
       "        text-align: right;\n",
       "    }\n",
       "</style>\n",
       "<table border=\"1\" class=\"dataframe\">\n",
       "  <thead>\n",
       "    <tr style=\"text-align: right;\">\n",
       "      <th></th>\n",
       "      <th></th>\n",
       "      <th>gender</th>\n",
       "      <th>mhat</th>\n",
       "      <th>shat</th>\n",
       "      <th>n</th>\n",
       "      <th>sehat</th>\n",
       "    </tr>\n",
       "    <tr>\n",
       "      <th>young</th>\n",
       "      <th>sampid</th>\n",
       "      <th></th>\n",
       "      <th></th>\n",
       "      <th></th>\n",
       "      <th></th>\n",
       "      <th></th>\n",
       "    </tr>\n",
       "  </thead>\n",
       "  <tbody>\n",
       "    <tr>\n",
       "      <th rowspan=\"4\" valign=\"top\">False</th>\n",
       "      <th>0</th>\n",
       "      <td>female</td>\n",
       "      <td>0.3125</td>\n",
       "      <td>0.478714</td>\n",
       "      <td>16</td>\n",
       "      <td>0.119678</td>\n",
       "    </tr>\n",
       "    <tr>\n",
       "      <th>0</th>\n",
       "      <td>male</td>\n",
       "      <td>0.2500</td>\n",
       "      <td>0.447214</td>\n",
       "      <td>16</td>\n",
       "      <td>0.111803</td>\n",
       "    </tr>\n",
       "    <tr>\n",
       "      <th>1</th>\n",
       "      <td>female</td>\n",
       "      <td>0.3750</td>\n",
       "      <td>0.500000</td>\n",
       "      <td>16</td>\n",
       "      <td>0.125000</td>\n",
       "    </tr>\n",
       "    <tr>\n",
       "      <th>1</th>\n",
       "      <td>male</td>\n",
       "      <td>0.1875</td>\n",
       "      <td>0.403113</td>\n",
       "      <td>16</td>\n",
       "      <td>0.100778</td>\n",
       "    </tr>\n",
       "    <tr>\n",
       "      <th rowspan=\"4\" valign=\"top\">True</th>\n",
       "      <th>0</th>\n",
       "      <td>female</td>\n",
       "      <td>0.3750</td>\n",
       "      <td>0.500000</td>\n",
       "      <td>16</td>\n",
       "      <td>0.125000</td>\n",
       "    </tr>\n",
       "    <tr>\n",
       "      <th>0</th>\n",
       "      <td>male</td>\n",
       "      <td>0.3125</td>\n",
       "      <td>0.478714</td>\n",
       "      <td>16</td>\n",
       "      <td>0.119678</td>\n",
       "    </tr>\n",
       "    <tr>\n",
       "      <th>1</th>\n",
       "      <td>female</td>\n",
       "      <td>0.4375</td>\n",
       "      <td>0.512348</td>\n",
       "      <td>16</td>\n",
       "      <td>0.128087</td>\n",
       "    </tr>\n",
       "    <tr>\n",
       "      <th>1</th>\n",
       "      <td>male</td>\n",
       "      <td>0.1875</td>\n",
       "      <td>0.403113</td>\n",
       "      <td>16</td>\n",
       "      <td>0.100778</td>\n",
       "    </tr>\n",
       "  </tbody>\n",
       "</table>\n",
       "</div>"
      ],
      "text/plain": [
       "              gender    mhat      shat   n     sehat\n",
       "young sampid                                        \n",
       "False 0       female  0.3125  0.478714  16  0.119678\n",
       "      0         male  0.2500  0.447214  16  0.111803\n",
       "      1       female  0.3750  0.500000  16  0.125000\n",
       "      1         male  0.1875  0.403113  16  0.100778\n",
       "True  0       female  0.3750  0.500000  16  0.125000\n",
       "      0         male  0.3125  0.478714  16  0.119678\n",
       "      1       female  0.4375  0.512348  16  0.128087\n",
       "      1         male  0.1875  0.403113  16  0.100778"
      ]
     },
     "execution_count": 5,
     "metadata": {},
     "output_type": "execute_result"
    }
   ],
   "source": [
    "sample_stats(d, 'gender')"
   ]
  },
  {
   "cell_type": "markdown",
   "metadata": {},
   "source": [
    "### getting data from the output\n",
    "\n",
    "The two data frames above give all we need. Just use .loc to get what you want for the next sections.\n",
    "\n",
    "The only tricky part here is that the index (row labels) now has two components, True/False and 0/1.\n",
    "\n",
    "To avoid dealing with that I will just reset the index, so we can work with .loc statements that should be more familiar to you."
   ]
  },
  {
   "cell_type": "code",
   "execution_count": 6,
   "metadata": {},
   "outputs": [
    {
     "data": {
      "text/html": [
       "<div>\n",
       "<style scoped>\n",
       "    .dataframe tbody tr th:only-of-type {\n",
       "        vertical-align: middle;\n",
       "    }\n",
       "\n",
       "    .dataframe tbody tr th {\n",
       "        vertical-align: top;\n",
       "    }\n",
       "\n",
       "    .dataframe thead th {\n",
       "        text-align: right;\n",
       "    }\n",
       "</style>\n",
       "<table border=\"1\" class=\"dataframe\">\n",
       "  <thead>\n",
       "    <tr style=\"text-align: right;\">\n",
       "      <th></th>\n",
       "      <th>young</th>\n",
       "      <th>sampid</th>\n",
       "      <th>children</th>\n",
       "      <th>mhat</th>\n",
       "      <th>shat</th>\n",
       "      <th>n</th>\n",
       "      <th>sehat</th>\n",
       "    </tr>\n",
       "  </thead>\n",
       "  <tbody>\n",
       "    <tr>\n",
       "      <th>0</th>\n",
       "      <td>False</td>\n",
       "      <td>0</td>\n",
       "      <td>no</td>\n",
       "      <td>0.3750</td>\n",
       "      <td>0.500000</td>\n",
       "      <td>16</td>\n",
       "      <td>0.125000</td>\n",
       "    </tr>\n",
       "    <tr>\n",
       "      <th>1</th>\n",
       "      <td>False</td>\n",
       "      <td>0</td>\n",
       "      <td>yes</td>\n",
       "      <td>0.1875</td>\n",
       "      <td>0.403113</td>\n",
       "      <td>16</td>\n",
       "      <td>0.100778</td>\n",
       "    </tr>\n",
       "    <tr>\n",
       "      <th>2</th>\n",
       "      <td>False</td>\n",
       "      <td>1</td>\n",
       "      <td>no</td>\n",
       "      <td>0.3750</td>\n",
       "      <td>0.500000</td>\n",
       "      <td>16</td>\n",
       "      <td>0.125000</td>\n",
       "    </tr>\n",
       "    <tr>\n",
       "      <th>3</th>\n",
       "      <td>False</td>\n",
       "      <td>1</td>\n",
       "      <td>yes</td>\n",
       "      <td>0.1875</td>\n",
       "      <td>0.403113</td>\n",
       "      <td>16</td>\n",
       "      <td>0.100778</td>\n",
       "    </tr>\n",
       "    <tr>\n",
       "      <th>4</th>\n",
       "      <td>True</td>\n",
       "      <td>0</td>\n",
       "      <td>no</td>\n",
       "      <td>0.2500</td>\n",
       "      <td>0.447214</td>\n",
       "      <td>16</td>\n",
       "      <td>0.111803</td>\n",
       "    </tr>\n",
       "    <tr>\n",
       "      <th>5</th>\n",
       "      <td>True</td>\n",
       "      <td>0</td>\n",
       "      <td>yes</td>\n",
       "      <td>0.4375</td>\n",
       "      <td>0.512348</td>\n",
       "      <td>16</td>\n",
       "      <td>0.128087</td>\n",
       "    </tr>\n",
       "    <tr>\n",
       "      <th>6</th>\n",
       "      <td>True</td>\n",
       "      <td>1</td>\n",
       "      <td>no</td>\n",
       "      <td>0.1875</td>\n",
       "      <td>0.403113</td>\n",
       "      <td>16</td>\n",
       "      <td>0.100778</td>\n",
       "    </tr>\n",
       "    <tr>\n",
       "      <th>7</th>\n",
       "      <td>True</td>\n",
       "      <td>1</td>\n",
       "      <td>yes</td>\n",
       "      <td>0.4375</td>\n",
       "      <td>0.512348</td>\n",
       "      <td>16</td>\n",
       "      <td>0.128087</td>\n",
       "    </tr>\n",
       "  </tbody>\n",
       "</table>\n",
       "</div>"
      ],
      "text/plain": [
       "   young  sampid children    mhat      shat   n     sehat\n",
       "0  False       0       no  0.3750  0.500000  16  0.125000\n",
       "1  False       0      yes  0.1875  0.403113  16  0.100778\n",
       "2  False       1       no  0.3750  0.500000  16  0.125000\n",
       "3  False       1      yes  0.1875  0.403113  16  0.100778\n",
       "4   True       0       no  0.2500  0.447214  16  0.111803\n",
       "5   True       0      yes  0.4375  0.512348  16  0.128087\n",
       "6   True       1       no  0.1875  0.403113  16  0.100778\n",
       "7   True       1      yes  0.4375  0.512348  16  0.128087"
      ]
     },
     "execution_count": 6,
     "metadata": {},
     "output_type": "execute_result"
    }
   ],
   "source": [
    "children_stats = sample_stats(d, 'children').reset_index()\n",
    "children_stats"
   ]
  },
  {
   "cell_type": "code",
   "execution_count": 7,
   "metadata": {},
   "outputs": [
    {
     "data": {
      "text/html": [
       "<div>\n",
       "<style scoped>\n",
       "    .dataframe tbody tr th:only-of-type {\n",
       "        vertical-align: middle;\n",
       "    }\n",
       "\n",
       "    .dataframe tbody tr th {\n",
       "        vertical-align: top;\n",
       "    }\n",
       "\n",
       "    .dataframe thead th {\n",
       "        text-align: right;\n",
       "    }\n",
       "</style>\n",
       "<table border=\"1\" class=\"dataframe\">\n",
       "  <thead>\n",
       "    <tr style=\"text-align: right;\">\n",
       "      <th></th>\n",
       "      <th>young</th>\n",
       "      <th>sampid</th>\n",
       "      <th>gender</th>\n",
       "      <th>mhat</th>\n",
       "      <th>shat</th>\n",
       "      <th>n</th>\n",
       "      <th>sehat</th>\n",
       "    </tr>\n",
       "  </thead>\n",
       "  <tbody>\n",
       "    <tr>\n",
       "      <th>0</th>\n",
       "      <td>False</td>\n",
       "      <td>0</td>\n",
       "      <td>female</td>\n",
       "      <td>0.3125</td>\n",
       "      <td>0.478714</td>\n",
       "      <td>16</td>\n",
       "      <td>0.119678</td>\n",
       "    </tr>\n",
       "    <tr>\n",
       "      <th>1</th>\n",
       "      <td>False</td>\n",
       "      <td>0</td>\n",
       "      <td>male</td>\n",
       "      <td>0.2500</td>\n",
       "      <td>0.447214</td>\n",
       "      <td>16</td>\n",
       "      <td>0.111803</td>\n",
       "    </tr>\n",
       "    <tr>\n",
       "      <th>2</th>\n",
       "      <td>False</td>\n",
       "      <td>1</td>\n",
       "      <td>female</td>\n",
       "      <td>0.3750</td>\n",
       "      <td>0.500000</td>\n",
       "      <td>16</td>\n",
       "      <td>0.125000</td>\n",
       "    </tr>\n",
       "    <tr>\n",
       "      <th>3</th>\n",
       "      <td>False</td>\n",
       "      <td>1</td>\n",
       "      <td>male</td>\n",
       "      <td>0.1875</td>\n",
       "      <td>0.403113</td>\n",
       "      <td>16</td>\n",
       "      <td>0.100778</td>\n",
       "    </tr>\n",
       "    <tr>\n",
       "      <th>4</th>\n",
       "      <td>True</td>\n",
       "      <td>0</td>\n",
       "      <td>female</td>\n",
       "      <td>0.3750</td>\n",
       "      <td>0.500000</td>\n",
       "      <td>16</td>\n",
       "      <td>0.125000</td>\n",
       "    </tr>\n",
       "    <tr>\n",
       "      <th>5</th>\n",
       "      <td>True</td>\n",
       "      <td>0</td>\n",
       "      <td>male</td>\n",
       "      <td>0.3125</td>\n",
       "      <td>0.478714</td>\n",
       "      <td>16</td>\n",
       "      <td>0.119678</td>\n",
       "    </tr>\n",
       "    <tr>\n",
       "      <th>6</th>\n",
       "      <td>True</td>\n",
       "      <td>1</td>\n",
       "      <td>female</td>\n",
       "      <td>0.4375</td>\n",
       "      <td>0.512348</td>\n",
       "      <td>16</td>\n",
       "      <td>0.128087</td>\n",
       "    </tr>\n",
       "    <tr>\n",
       "      <th>7</th>\n",
       "      <td>True</td>\n",
       "      <td>1</td>\n",
       "      <td>male</td>\n",
       "      <td>0.1875</td>\n",
       "      <td>0.403113</td>\n",
       "      <td>16</td>\n",
       "      <td>0.100778</td>\n",
       "    </tr>\n",
       "  </tbody>\n",
       "</table>\n",
       "</div>"
      ],
      "text/plain": [
       "   young  sampid  gender    mhat      shat   n     sehat\n",
       "0  False       0  female  0.3125  0.478714  16  0.119678\n",
       "1  False       0    male  0.2500  0.447214  16  0.111803\n",
       "2  False       1  female  0.3750  0.500000  16  0.125000\n",
       "3  False       1    male  0.1875  0.403113  16  0.100778\n",
       "4   True       0  female  0.3750  0.500000  16  0.125000\n",
       "5   True       0    male  0.3125  0.478714  16  0.119678\n",
       "6   True       1  female  0.4375  0.512348  16  0.128087\n",
       "7   True       1    male  0.1875  0.403113  16  0.100778"
      ]
     },
     "execution_count": 7,
     "metadata": {},
     "output_type": "execute_result"
    }
   ],
   "source": [
    "gender_stats = sample_stats(d, 'gender').reset_index()\n",
    "gender_stats"
   ]
  },
  {
   "cell_type": "markdown",
   "metadata": {},
   "source": [
    "Now to get, for example, the data needed for a hypothesis test between male/female for `young == False` and `sampid == 0` use .loc as we have before.\n",
    "\n",
    "Remember pandas series require us to use ~ for 'not', | for 'or' and & for 'and'"
   ]
  },
  {
   "cell_type": "code",
   "execution_count": 8,
   "metadata": {},
   "outputs": [
    {
     "data": {
      "text/html": [
       "<div>\n",
       "<style scoped>\n",
       "    .dataframe tbody tr th:only-of-type {\n",
       "        vertical-align: middle;\n",
       "    }\n",
       "\n",
       "    .dataframe tbody tr th {\n",
       "        vertical-align: top;\n",
       "    }\n",
       "\n",
       "    .dataframe thead th {\n",
       "        text-align: right;\n",
       "    }\n",
       "</style>\n",
       "<table border=\"1\" class=\"dataframe\">\n",
       "  <thead>\n",
       "    <tr style=\"text-align: right;\">\n",
       "      <th></th>\n",
       "      <th>young</th>\n",
       "      <th>sampid</th>\n",
       "      <th>gender</th>\n",
       "      <th>mhat</th>\n",
       "      <th>shat</th>\n",
       "      <th>n</th>\n",
       "      <th>sehat</th>\n",
       "    </tr>\n",
       "  </thead>\n",
       "  <tbody>\n",
       "    <tr>\n",
       "      <th>0</th>\n",
       "      <td>False</td>\n",
       "      <td>0</td>\n",
       "      <td>female</td>\n",
       "      <td>0.3125</td>\n",
       "      <td>0.478714</td>\n",
       "      <td>16</td>\n",
       "      <td>0.119678</td>\n",
       "    </tr>\n",
       "    <tr>\n",
       "      <th>1</th>\n",
       "      <td>False</td>\n",
       "      <td>0</td>\n",
       "      <td>male</td>\n",
       "      <td>0.2500</td>\n",
       "      <td>0.447214</td>\n",
       "      <td>16</td>\n",
       "      <td>0.111803</td>\n",
       "    </tr>\n",
       "  </tbody>\n",
       "</table>\n",
       "</div>"
      ],
      "text/plain": [
       "   young  sampid  gender    mhat      shat   n     sehat\n",
       "0  False       0  female  0.3125  0.478714  16  0.119678\n",
       "1  False       0    male  0.2500  0.447214  16  0.111803"
      ]
     },
     "execution_count": 8,
     "metadata": {},
     "output_type": "execute_result"
    }
   ],
   "source": [
    "# gender_stats.young is a shortcut for gender_stats.loc[:, \"young\"]\n",
    "# if selecting rows, you can use .loc[your conditions] as a shortcut for .loc[your conditions, :]\n",
    "\n",
    "gender_stats.loc[gender_stats.loc[:, \"young\"].eq(False) & gender_stats.loc[:, \"sampid\"].eq(0)]"
   ]
  },
  {
   "cell_type": "code",
   "execution_count": 9,
   "metadata": {},
   "outputs": [
    {
     "data": {
      "text/html": [
       "<div>\n",
       "<style scoped>\n",
       "    .dataframe tbody tr th:only-of-type {\n",
       "        vertical-align: middle;\n",
       "    }\n",
       "\n",
       "    .dataframe tbody tr th {\n",
       "        vertical-align: top;\n",
       "    }\n",
       "\n",
       "    .dataframe thead th {\n",
       "        text-align: right;\n",
       "    }\n",
       "</style>\n",
       "<table border=\"1\" class=\"dataframe\">\n",
       "  <thead>\n",
       "    <tr style=\"text-align: right;\">\n",
       "      <th></th>\n",
       "      <th>young</th>\n",
       "      <th>sampid</th>\n",
       "      <th>children</th>\n",
       "      <th>mhat</th>\n",
       "      <th>shat</th>\n",
       "      <th>n</th>\n",
       "      <th>sehat</th>\n",
       "    </tr>\n",
       "  </thead>\n",
       "  <tbody>\n",
       "    <tr>\n",
       "      <th>0</th>\n",
       "      <td>False</td>\n",
       "      <td>0</td>\n",
       "      <td>no</td>\n",
       "      <td>0.3750</td>\n",
       "      <td>0.500000</td>\n",
       "      <td>16</td>\n",
       "      <td>0.125000</td>\n",
       "    </tr>\n",
       "    <tr>\n",
       "      <th>1</th>\n",
       "      <td>False</td>\n",
       "      <td>0</td>\n",
       "      <td>yes</td>\n",
       "      <td>0.1875</td>\n",
       "      <td>0.403113</td>\n",
       "      <td>16</td>\n",
       "      <td>0.100778</td>\n",
       "    </tr>\n",
       "  </tbody>\n",
       "</table>\n",
       "</div>"
      ],
      "text/plain": [
       "   young  sampid children    mhat      shat   n     sehat\n",
       "0  False       0       no  0.3750  0.500000  16  0.125000\n",
       "1  False       0      yes  0.1875  0.403113  16  0.100778"
      ]
     },
     "execution_count": 9,
     "metadata": {},
     "output_type": "execute_result"
    }
   ],
   "source": [
    "# childre_stats now\n",
    "\n",
    "children_stats.loc[children_stats.loc[:, \"young\"].eq(False) & children_stats.loc[:, \"sampid\"].eq(0)]"
   ]
  },
  {
   "cell_type": "markdown",
   "metadata": {},
   "source": [
    "# Q2\n",
    "\n",
    "Using data from the pivot tables above:\n",
    "\n",
    "- for **young = FALSE**,\n",
    "    - **calculate** the p-values for a difference of means test between the no-children and children subgroups\n",
    "    - **calculate** the p-values for a difference of means test between the female and male gender groups\n",
    "    \n",
    "- for **young = TRUE**,\n",
    "    - **calculate** the p-values for a difference of means test between the no-children and children subgroups\n",
    "    - **calculate** the p-values for a difference of means test between the female and male gender groups\n",
    "    \n",
    "In each case you will do a **two-sided** hypothesis test, meaning the alternative hypothesis is that the true means (proportions) are not equal.\n",
    "\n",
    "\n",
    "### ANSWER for Q2, 4\n",
    "actually we're going to do all of the p-value questions together here"
   ]
  },
  {
   "cell_type": "code",
   "execution_count": 10,
   "metadata": {},
   "outputs": [],
   "source": [
    "def p_vals(data):\n",
    "    z = -abs(data.mhat.iloc[0] - data.mhat.iloc[1]) / (data.sehat.iloc[0]**2 + data.sehat.iloc[1]**2)**.5\n",
    "    p = 2*stats.norm.cdf(z)\n",
    "    return p"
   ]
  },
  {
   "cell_type": "code",
   "execution_count": 11,
   "metadata": {},
   "outputs": [
    {
     "data": {
      "text/html": [
       "<div>\n",
       "<style scoped>\n",
       "    .dataframe tbody tr th:only-of-type {\n",
       "        vertical-align: middle;\n",
       "    }\n",
       "\n",
       "    .dataframe tbody tr th {\n",
       "        vertical-align: top;\n",
       "    }\n",
       "\n",
       "    .dataframe thead th {\n",
       "        text-align: right;\n",
       "    }\n",
       "</style>\n",
       "<table border=\"1\" class=\"dataframe\">\n",
       "  <thead>\n",
       "    <tr style=\"text-align: right;\">\n",
       "      <th></th>\n",
       "      <th>sampid</th>\n",
       "      <th>young</th>\n",
       "    </tr>\n",
       "  </thead>\n",
       "  <tbody>\n",
       "    <tr>\n",
       "      <th>0</th>\n",
       "      <td>0</td>\n",
       "      <td>True</td>\n",
       "    </tr>\n",
       "    <tr>\n",
       "      <th>1</th>\n",
       "      <td>0</td>\n",
       "      <td>False</td>\n",
       "    </tr>\n",
       "    <tr>\n",
       "      <th>2</th>\n",
       "      <td>1</td>\n",
       "      <td>True</td>\n",
       "    </tr>\n",
       "    <tr>\n",
       "      <th>3</th>\n",
       "      <td>1</td>\n",
       "      <td>False</td>\n",
       "    </tr>\n",
       "  </tbody>\n",
       "</table>\n",
       "</div>"
      ],
      "text/plain": [
       "   sampid  young\n",
       "0       0   True\n",
       "1       0  False\n",
       "2       1   True\n",
       "3       1  False"
      ]
     },
     "execution_count": 11,
     "metadata": {},
     "output_type": "execute_result"
    }
   ],
   "source": [
    "# creatingpairs of young/sampid\n",
    "ps = pd.DataFrame([[s, b] for s in [0, 1] for b in [True, False]], columns = [\"sampid\", \"young\"])\n",
    "ps"
   ]
  },
  {
   "cell_type": "markdown",
   "metadata": {},
   "source": [
    "#### gender comparisons"
   ]
  },
  {
   "cell_type": "code",
   "execution_count": 12,
   "metadata": {},
   "outputs": [
    {
     "data": {
      "text/plain": [
       "0.7179816667337766"
      ]
     },
     "execution_count": 12,
     "metadata": {},
     "output_type": "execute_result"
    }
   ],
   "source": [
    "# let's go one-by one first\n",
    "\n",
    "# compare the genders within not young and in sampid 0\n",
    "# you'll see why I used eq on the young column below, though that looks dumb here\n",
    "p_vals(gender_stats.loc[gender_stats.loc[:, \"young\"].eq(True) & gender_stats.loc[:, \"sampid\"].eq(0)])"
   ]
  },
  {
   "cell_type": "code",
   "execution_count": 13,
   "metadata": {},
   "outputs": [
    {
     "data": {
      "text/plain": [
       "0.702745926377029"
      ]
     },
     "execution_count": 13,
     "metadata": {},
     "output_type": "execute_result"
    }
   ],
   "source": [
    "# young and in sampid 0\n",
    "p_vals(gender_stats.loc[gender_stats.loc[:, \"young\"].eq(False) & gender_stats.loc[:, \"sampid\"].eq(0)])"
   ]
  },
  {
   "cell_type": "code",
   "execution_count": 14,
   "metadata": {},
   "outputs": [
    {
     "data": {
      "text/plain": [
       "0    0.717982\n",
       "1    0.702746\n",
       "2    0.125047\n",
       "3    0.242908\n",
       "dtype: float64"
      ]
     },
     "execution_count": 14,
     "metadata": {},
     "output_type": "execute_result"
    }
   ],
   "source": [
    "# all together now with apply\n",
    "ps_gender = ps.apply(lambda d: p_vals(gender_stats.loc[gender_stats.loc[:, \"young\"].eq(d.young) & gender_stats.loc[:, \"sampid\"].eq(d.sampid)]),\n",
    "               axis = 1)\n",
    "\n",
    "ps_gender"
   ]
  },
  {
   "cell_type": "code",
   "execution_count": 15,
   "metadata": {},
   "outputs": [
    {
     "data": {
      "text/html": [
       "<div>\n",
       "<style scoped>\n",
       "    .dataframe tbody tr th:only-of-type {\n",
       "        vertical-align: middle;\n",
       "    }\n",
       "\n",
       "    .dataframe tbody tr th {\n",
       "        vertical-align: top;\n",
       "    }\n",
       "\n",
       "    .dataframe thead th {\n",
       "        text-align: right;\n",
       "    }\n",
       "</style>\n",
       "<table border=\"1\" class=\"dataframe\">\n",
       "  <thead>\n",
       "    <tr style=\"text-align: right;\">\n",
       "      <th></th>\n",
       "      <th>sampid</th>\n",
       "      <th>young</th>\n",
       "      <th>ps_gender</th>\n",
       "    </tr>\n",
       "  </thead>\n",
       "  <tbody>\n",
       "    <tr>\n",
       "      <th>0</th>\n",
       "      <td>0</td>\n",
       "      <td>True</td>\n",
       "      <td>0.717982</td>\n",
       "    </tr>\n",
       "    <tr>\n",
       "      <th>1</th>\n",
       "      <td>0</td>\n",
       "      <td>False</td>\n",
       "      <td>0.702746</td>\n",
       "    </tr>\n",
       "    <tr>\n",
       "      <th>2</th>\n",
       "      <td>1</td>\n",
       "      <td>True</td>\n",
       "      <td>0.125047</td>\n",
       "    </tr>\n",
       "    <tr>\n",
       "      <th>3</th>\n",
       "      <td>1</td>\n",
       "      <td>False</td>\n",
       "      <td>0.242908</td>\n",
       "    </tr>\n",
       "  </tbody>\n",
       "</table>\n",
       "</div>"
      ],
      "text/plain": [
       "   sampid  young  ps_gender\n",
       "0       0   True   0.717982\n",
       "1       0  False   0.702746\n",
       "2       1   True   0.125047\n",
       "3       1  False   0.242908"
      ]
     },
     "execution_count": 15,
     "metadata": {},
     "output_type": "execute_result"
    }
   ],
   "source": [
    "ps = ps.assign(ps_gender = ps_gender)\n",
    "ps"
   ]
  },
  {
   "cell_type": "markdown",
   "metadata": {},
   "source": [
    "#### children comparisons"
   ]
  },
  {
   "cell_type": "code",
   "execution_count": 16,
   "metadata": {},
   "outputs": [
    {
     "data": {
      "text/plain": [
       "0    0.270105\n",
       "1    0.242908\n",
       "2    0.125047\n",
       "3    0.242908\n",
       "dtype: float64"
      ]
     },
     "execution_count": 16,
     "metadata": {},
     "output_type": "execute_result"
    }
   ],
   "source": [
    "# same thing but with children_stats instead of gender_stats\n",
    "\n",
    "ps_children = ps.apply(lambda d: p_vals(children_stats.loc[gender_stats.loc[:, \"young\"].eq(d.young) & children_stats.loc[:, \"sampid\"].eq(d.sampid)]),\n",
    "               axis = 1)\n",
    "\n",
    "ps_children"
   ]
  },
  {
   "cell_type": "code",
   "execution_count": 17,
   "metadata": {},
   "outputs": [
    {
     "data": {
      "text/html": [
       "<div>\n",
       "<style scoped>\n",
       "    .dataframe tbody tr th:only-of-type {\n",
       "        vertical-align: middle;\n",
       "    }\n",
       "\n",
       "    .dataframe tbody tr th {\n",
       "        vertical-align: top;\n",
       "    }\n",
       "\n",
       "    .dataframe thead th {\n",
       "        text-align: right;\n",
       "    }\n",
       "</style>\n",
       "<table border=\"1\" class=\"dataframe\">\n",
       "  <thead>\n",
       "    <tr style=\"text-align: right;\">\n",
       "      <th></th>\n",
       "      <th>sampid</th>\n",
       "      <th>young</th>\n",
       "      <th>ps_gender</th>\n",
       "      <th>ps_children</th>\n",
       "    </tr>\n",
       "  </thead>\n",
       "  <tbody>\n",
       "    <tr>\n",
       "      <th>0</th>\n",
       "      <td>0</td>\n",
       "      <td>True</td>\n",
       "      <td>0.717982</td>\n",
       "      <td>0.270105</td>\n",
       "    </tr>\n",
       "    <tr>\n",
       "      <th>1</th>\n",
       "      <td>0</td>\n",
       "      <td>False</td>\n",
       "      <td>0.702746</td>\n",
       "      <td>0.242908</td>\n",
       "    </tr>\n",
       "    <tr>\n",
       "      <th>2</th>\n",
       "      <td>1</td>\n",
       "      <td>True</td>\n",
       "      <td>0.125047</td>\n",
       "      <td>0.125047</td>\n",
       "    </tr>\n",
       "    <tr>\n",
       "      <th>3</th>\n",
       "      <td>1</td>\n",
       "      <td>False</td>\n",
       "      <td>0.242908</td>\n",
       "      <td>0.242908</td>\n",
       "    </tr>\n",
       "  </tbody>\n",
       "</table>\n",
       "</div>"
      ],
      "text/plain": [
       "   sampid  young  ps_gender  ps_children\n",
       "0       0   True   0.717982     0.270105\n",
       "1       0  False   0.702746     0.242908\n",
       "2       1   True   0.125047     0.125047\n",
       "3       1  False   0.242908     0.242908"
      ]
     },
     "execution_count": 17,
     "metadata": {},
     "output_type": "execute_result"
    }
   ],
   "source": [
    "ps = ps.assign(ps_children = ps_children)\n",
    "ps"
   ]
  },
  {
   "cell_type": "markdown",
   "metadata": {},
   "source": [
    "# Q3\n",
    "Using the p-values from Q2, \n",
    "\n",
    "- **state** in which cases you can reject the null at a level `alpha = 0.1`\n",
    "- **state** which case gives smallest p-value obtained\n",
    "\n",
    "\n",
    "#### A: \n",
    "Remember we're just looking at `sampid == 0` here. You cannot reject in any case."
   ]
  },
  {
   "cell_type": "markdown",
   "metadata": {},
   "source": [
    "# Q4\n",
    "\n",
    "**Repeat Q1** but for the sample `sampid = 1`.\n",
    "\n",
    "#### A: see above"
   ]
  },
  {
   "cell_type": "markdown",
   "metadata": {},
   "source": [
    "# Q5\n",
    "\n",
    "**Repeat Q2** but for the data created in Q4.\n",
    "\n",
    "#### A: see above"
   ]
  },
  {
   "cell_type": "markdown",
   "metadata": {},
   "source": [
    "# Q6\n",
    "\n",
    "**Repeat Q3** but for the p-values from Q4.\n",
    "\n",
    "\n",
    "#### A: \n",
    "You still cannot reject. However, you almost can for the young group."
   ]
  },
  {
   "cell_type": "markdown",
   "metadata": {},
   "source": [
    "# Q7\n",
    "\n",
    "Compare your answers in Q5, Q3.\n",
    "\n",
    "- **State** using concepts from class whether or not this provides strong evidence for your conclusions in Qs 3, 6.\n",
    "\n",
    "- If your conclusions changed: Give one reason (from class concepts) why this might be reasonable.\n",
    "\n",
    "- If your conclusions did not change: Give one reason (from class concepts) why they might differ.\n",
    "\n",
    "**A:** In the case of `sample = 0` you can't reject the null in either gender comparison, among the young or not young groups. But in the `sample = 1` case you can *almost* reject in both gender and children comparisons among the young group. If you were willing to accept a slightly larger alpha, then you would have successfully p-hacked the dataset and found a 'significant' result!\n",
    "\n",
    "These differences can show up just by random chance because of sampling --- especially when the sample sizes are small, as they are here. In the second sample you are just going out in search of some, any, comparison to make that will lead to a 'significant' enough hypothesis test. But that result is not replicatable, as the results for the first sample show."
   ]
  }
 ],
 "metadata": {
  "kernelspec": {
   "display_name": "Python 3",
   "language": "python",
   "name": "python3"
  },
  "language_info": {
   "codemirror_mode": {
    "name": "ipython",
    "version": 3
   },
   "file_extension": ".py",
   "mimetype": "text/x-python",
   "name": "python",
   "nbconvert_exporter": "python",
   "pygments_lexer": "ipython3",
   "version": "3.8.2"
  }
 },
 "nbformat": 4,
 "nbformat_minor": 4
}
