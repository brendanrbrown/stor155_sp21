{
 "cells": [
  {
   "cell_type": "markdown",
   "metadata": {},
   "source": [
    "# hw 10\n",
    "### due April 27, 12:30 pm\n",
    "\n",
    "### data\n",
    "We will work with survey data on marital infidelity from a Psychology study from the 1960s. The dataset is provided by the creators of RDatasets, a package for the R statistical programming language.\n",
    "\n",
    "You can download the data at\n",
    "\n",
    "https://vincentarelbundock.github.io/Rdatasets/csv/AER/Affairs.csv\n",
    "\n",
    "Excel users should be able to open this csv and receive a prompt asking whether you want to convert it to xlsx format. You do.\n",
    "\n",
    "#### more info\n",
    "Each observation represents one respondent's answers.\n",
    "\n",
    "**See here for more information** on this dataset\n",
    "https://vincentarelbundock.github.io/Rdatasets/doc/AER/Affairs.html\n",
    "\n",
    "### research question\n",
    "\n",
    "Do people who are less than or equal to 34 years old engage in some extramarital sex (any amount) at different rates than those who are older?"
   ]
  },
  {
   "cell_type": "code",
   "execution_count": 1,
   "metadata": {},
   "outputs": [],
   "source": [
    "import pandas as pd\n",
    "import scipy.stats as stats"
   ]
  },
  {
   "cell_type": "code",
   "execution_count": 2,
   "metadata": {},
   "outputs": [],
   "source": [
    "d = pd.read_csv('https://vincentarelbundock.github.io/Rdatasets/csv/AER/Affairs.csv')"
   ]
  },
  {
   "cell_type": "code",
   "execution_count": 3,
   "metadata": {},
   "outputs": [
    {
     "data": {
      "text/html": [
       "<div>\n",
       "<style scoped>\n",
       "    .dataframe tbody tr th:only-of-type {\n",
       "        vertical-align: middle;\n",
       "    }\n",
       "\n",
       "    .dataframe tbody tr th {\n",
       "        vertical-align: top;\n",
       "    }\n",
       "\n",
       "    .dataframe thead th {\n",
       "        text-align: right;\n",
       "    }\n",
       "</style>\n",
       "<table border=\"1\" class=\"dataframe\">\n",
       "  <thead>\n",
       "    <tr style=\"text-align: right;\">\n",
       "      <th></th>\n",
       "      <th>Unnamed: 0</th>\n",
       "      <th>affairs</th>\n",
       "      <th>gender</th>\n",
       "      <th>age</th>\n",
       "      <th>yearsmarried</th>\n",
       "      <th>children</th>\n",
       "      <th>religiousness</th>\n",
       "      <th>education</th>\n",
       "      <th>occupation</th>\n",
       "      <th>rating</th>\n",
       "    </tr>\n",
       "  </thead>\n",
       "  <tbody>\n",
       "    <tr>\n",
       "      <th>0</th>\n",
       "      <td>4</td>\n",
       "      <td>0</td>\n",
       "      <td>male</td>\n",
       "      <td>37.0</td>\n",
       "      <td>10.00</td>\n",
       "      <td>no</td>\n",
       "      <td>3</td>\n",
       "      <td>18</td>\n",
       "      <td>7</td>\n",
       "      <td>4</td>\n",
       "    </tr>\n",
       "    <tr>\n",
       "      <th>1</th>\n",
       "      <td>5</td>\n",
       "      <td>0</td>\n",
       "      <td>female</td>\n",
       "      <td>27.0</td>\n",
       "      <td>4.00</td>\n",
       "      <td>no</td>\n",
       "      <td>4</td>\n",
       "      <td>14</td>\n",
       "      <td>6</td>\n",
       "      <td>4</td>\n",
       "    </tr>\n",
       "    <tr>\n",
       "      <th>2</th>\n",
       "      <td>11</td>\n",
       "      <td>0</td>\n",
       "      <td>female</td>\n",
       "      <td>32.0</td>\n",
       "      <td>15.00</td>\n",
       "      <td>yes</td>\n",
       "      <td>1</td>\n",
       "      <td>12</td>\n",
       "      <td>1</td>\n",
       "      <td>4</td>\n",
       "    </tr>\n",
       "    <tr>\n",
       "      <th>3</th>\n",
       "      <td>16</td>\n",
       "      <td>0</td>\n",
       "      <td>male</td>\n",
       "      <td>57.0</td>\n",
       "      <td>15.00</td>\n",
       "      <td>yes</td>\n",
       "      <td>5</td>\n",
       "      <td>18</td>\n",
       "      <td>6</td>\n",
       "      <td>5</td>\n",
       "    </tr>\n",
       "    <tr>\n",
       "      <th>4</th>\n",
       "      <td>23</td>\n",
       "      <td>0</td>\n",
       "      <td>male</td>\n",
       "      <td>22.0</td>\n",
       "      <td>0.75</td>\n",
       "      <td>no</td>\n",
       "      <td>2</td>\n",
       "      <td>17</td>\n",
       "      <td>6</td>\n",
       "      <td>3</td>\n",
       "    </tr>\n",
       "  </tbody>\n",
       "</table>\n",
       "</div>"
      ],
      "text/plain": [
       "   Unnamed: 0  affairs  gender   age  yearsmarried children  religiousness  \\\n",
       "0           4        0    male  37.0         10.00       no              3   \n",
       "1           5        0  female  27.0          4.00       no              4   \n",
       "2          11        0  female  32.0         15.00      yes              1   \n",
       "3          16        0    male  57.0         15.00      yes              5   \n",
       "4          23        0    male  22.0          0.75       no              2   \n",
       "\n",
       "   education  occupation  rating  \n",
       "0         18           7       4  \n",
       "1         14           6       4  \n",
       "2         12           1       4  \n",
       "3         18           6       5  \n",
       "4         17           6       3  "
      ]
     },
     "execution_count": 3,
     "metadata": {},
     "output_type": "execute_result"
    }
   ],
   "source": [
    "d.head()"
   ]
  },
  {
   "cell_type": "markdown",
   "metadata": {},
   "source": [
    "# Q1\n",
    "Look at the data description linked above to answer the questions below.\n",
    "\n",
    "- **State clearly, with a brief explanation** whether the `age` variable is numeric or categorical. \n",
    "- **State clearly, with a brief explanation** whether the `affairs` variable is numeric or categorical.\n",
    "\n",
    "This is a little tricky. **Do not solely rely on the variable description's determination of numeric/categorical type**, which gives variable type from a programming language perspective. Use the definition of numeric/categorical discussed in class."
   ]
  },
  {
   "cell_type": "markdown",
   "metadata": {},
   "source": [
    "# Q2\n",
    "\n",
    "- **create** a new variable `young` that is 1 (or in python you can use True) if the respondent's age is less than or equal to 34, and 0 (or False) otherwise.\n",
    "- **create** a pivot table (excel) or grouped data frame summary (python) showing the **number of observations** by groups defined by pairs of `gender` and `young` variables"
   ]
  },
  {
   "cell_type": "code",
   "execution_count": 4,
   "metadata": {},
   "outputs": [
    {
     "data": {
      "text/plain": [
       "gender  young\n",
       "female  False     85\n",
       "        True     230\n",
       "male    False    125\n",
       "        True     161\n",
       "dtype: int64"
      ]
     },
     "execution_count": 4,
     "metadata": {},
     "output_type": "execute_result"
    }
   ],
   "source": [
    "d.loc[:, 'young'] = d.loc[:, 'age'].le(32)\n",
    "d.groupby(['gender', 'young']).size()"
   ]
  },
  {
   "cell_type": "markdown",
   "metadata": {},
   "source": [
    "# Q3\n",
    "You may do Q3, Q2 together in one table/summary data frame if you choose.\n",
    "\n",
    "- **create** a new variable `some_affairs` that is 1 (or in python you can use True) if the `affairs` variable is greater than zero, and 0 (or False) otherwise. This records whether or not the respondent claimed an extramarital sex in the past year. \n",
    "- **create** a pivot table (excel) or grouped data frame summary (python) showing the **average of** `some_affairs` by groups defined by the `gender` and `young` variables\n",
    "- **describe briefly** (1 sentence is fine) what the summary table shows"
   ]
  },
  {
   "cell_type": "code",
   "execution_count": 5,
   "metadata": {},
   "outputs": [
    {
     "data": {
      "text/plain": [
       "young\n",
       "False    0.271429\n",
       "True     0.237852\n",
       "Name: some_affairs, dtype: float64"
      ]
     },
     "execution_count": 5,
     "metadata": {},
     "output_type": "execute_result"
    }
   ],
   "source": [
    "d.loc[:, 'some_affairs'] = d.loc[:, 'affairs'].ge(1)\n",
    "d.groupby(['young']).agg('mean').loc[:, 'some_affairs']"
   ]
  },
  {
   "cell_type": "markdown",
   "metadata": {},
   "source": [
    "# Q4\n",
    "\n",
    "- **calculate** `mhat_young` and `mhat_old`, point estimates for the average of `some_affairs` for the groups `young == 1` (or True in python) and `young == 0` respectively.\n",
    "- **calculate** `shat_young` and `shat_old`, point estimates for the standard deviations of `some_affairs` for the groups `young == 1` (or True in python) and `young == 0` respectively.\n",
    "- **calculate** `serr_young` and `serr_old`, point estimates for the standard deviations of **of the means** of `some_affairs` for the groups `young == 1` (or True in python) and `young == 0` respectively, for samples of the appropriate sizes for each group.\n",
    "\n",
    "Python note: You don't need to create separate objects with those given names if you don't want to. The best way to do this is with a `groupby().agg(['f1', 'f2', 'f3'])` where `f1` etc are appropriate function names. This will give a data frame with all of the relevant information. You can then calculate a new column called `serr` using `assign()` or whatever method you prefer.\n",
    "\n",
    "Hint: For the final calculation you will first need to count the number of observations within each group."
   ]
  },
  {
   "cell_type": "code",
   "execution_count": 6,
   "metadata": {},
   "outputs": [],
   "source": [
    "dhat = d.loc[:, ['young', 'some_affairs']].groupby('young').agg(['mean', 'std', 'size'])"
   ]
  },
  {
   "cell_type": "code",
   "execution_count": 7,
   "metadata": {},
   "outputs": [
    {
     "data": {
      "text/plain": [
       "MultiIndex([('some_affairs', 'mean'),\n",
       "            ('some_affairs',  'std'),\n",
       "            ('some_affairs', 'size')],\n",
       "           )"
      ]
     },
     "execution_count": 7,
     "metadata": {},
     "output_type": "execute_result"
    }
   ],
   "source": [
    "# column names actually are ('some_affairs', 'mean'), ('some_affairs', 'std') etc.\n",
    "# don't need that extra 'some_affairs' so dropping it\n",
    "dhat.columns"
   ]
  },
  {
   "cell_type": "code",
   "execution_count": 8,
   "metadata": {},
   "outputs": [],
   "source": [
    "dhat.columns = dhat.columns.droplevel(0)"
   ]
  },
  {
   "cell_type": "code",
   "execution_count": 9,
   "metadata": {},
   "outputs": [
    {
     "data": {
      "text/html": [
       "<div>\n",
       "<style scoped>\n",
       "    .dataframe tbody tr th:only-of-type {\n",
       "        vertical-align: middle;\n",
       "    }\n",
       "\n",
       "    .dataframe tbody tr th {\n",
       "        vertical-align: top;\n",
       "    }\n",
       "\n",
       "    .dataframe thead th {\n",
       "        text-align: right;\n",
       "    }\n",
       "</style>\n",
       "<table border=\"1\" class=\"dataframe\">\n",
       "  <thead>\n",
       "    <tr style=\"text-align: right;\">\n",
       "      <th></th>\n",
       "      <th>mean</th>\n",
       "      <th>std</th>\n",
       "      <th>size</th>\n",
       "    </tr>\n",
       "    <tr>\n",
       "      <th>young</th>\n",
       "      <th></th>\n",
       "      <th></th>\n",
       "      <th></th>\n",
       "    </tr>\n",
       "  </thead>\n",
       "  <tbody>\n",
       "    <tr>\n",
       "      <th>False</th>\n",
       "      <td>0.271429</td>\n",
       "      <td>0.445759</td>\n",
       "      <td>210</td>\n",
       "    </tr>\n",
       "    <tr>\n",
       "      <th>True</th>\n",
       "      <td>0.237852</td>\n",
       "      <td>0.426313</td>\n",
       "      <td>391</td>\n",
       "    </tr>\n",
       "  </tbody>\n",
       "</table>\n",
       "</div>"
      ],
      "text/plain": [
       "           mean       std  size\n",
       "young                          \n",
       "False  0.271429  0.445759   210\n",
       "True   0.237852  0.426313   391"
      ]
     },
     "execution_count": 9,
     "metadata": {},
     "output_type": "execute_result"
    }
   ],
   "source": [
    "dhat"
   ]
  },
  {
   "cell_type": "code",
   "execution_count": 10,
   "metadata": {},
   "outputs": [],
   "source": [
    "# careful using the shortcuts dhat.std and dhat.size for those columns. These are also the names of *methods* so it won't work here\n",
    "# use .loc[]\n",
    "dhat = dhat.assign(serr = dhat.loc[:, 'std'] / dhat.loc[:, 'size']**.5)"
   ]
  },
  {
   "cell_type": "code",
   "execution_count": 11,
   "metadata": {},
   "outputs": [
    {
     "data": {
      "text/html": [
       "<div>\n",
       "<style scoped>\n",
       "    .dataframe tbody tr th:only-of-type {\n",
       "        vertical-align: middle;\n",
       "    }\n",
       "\n",
       "    .dataframe tbody tr th {\n",
       "        vertical-align: top;\n",
       "    }\n",
       "\n",
       "    .dataframe thead th {\n",
       "        text-align: right;\n",
       "    }\n",
       "</style>\n",
       "<table border=\"1\" class=\"dataframe\">\n",
       "  <thead>\n",
       "    <tr style=\"text-align: right;\">\n",
       "      <th></th>\n",
       "      <th>mean</th>\n",
       "      <th>std</th>\n",
       "      <th>size</th>\n",
       "      <th>serr</th>\n",
       "    </tr>\n",
       "    <tr>\n",
       "      <th>young</th>\n",
       "      <th></th>\n",
       "      <th></th>\n",
       "      <th></th>\n",
       "      <th></th>\n",
       "    </tr>\n",
       "  </thead>\n",
       "  <tbody>\n",
       "    <tr>\n",
       "      <th>False</th>\n",
       "      <td>0.271429</td>\n",
       "      <td>0.445759</td>\n",
       "      <td>210</td>\n",
       "      <td>0.03076</td>\n",
       "    </tr>\n",
       "    <tr>\n",
       "      <th>True</th>\n",
       "      <td>0.237852</td>\n",
       "      <td>0.426313</td>\n",
       "      <td>391</td>\n",
       "      <td>0.02156</td>\n",
       "    </tr>\n",
       "  </tbody>\n",
       "</table>\n",
       "</div>"
      ],
      "text/plain": [
       "           mean       std  size     serr\n",
       "young                                   \n",
       "False  0.271429  0.445759   210  0.03076\n",
       "True   0.237852  0.426313   391  0.02156"
      ]
     },
     "execution_count": 11,
     "metadata": {},
     "output_type": "execute_result"
    }
   ],
   "source": [
    "dhat"
   ]
  },
  {
   "cell_type": "markdown",
   "metadata": {},
   "source": [
    "# Q5\n",
    "Suppose the assumptions needed for a two-sample difference of means test are valid here.\n",
    "\n",
    "- **Calculate the p-value** for the following hypothesis test using the point estimates from Q4:\n",
    "\n",
    "$$H_0: m_{\\text{young}} = m_{\\text{old}}, \\quad \\quad H_1: m_{\\text{young}} \\neq m_{\\text{old}}$$"
   ]
  },
  {
   "cell_type": "code",
   "execution_count": 12,
   "metadata": {},
   "outputs": [],
   "source": [
    "s = (dhat.loc[True, 'serr']**2 + dhat.loc[False, 'serr']**2)**.5\n",
    "z = abs(dhat.loc[True, 'mean'] - dhat.loc[False, 'mean'])/s"
   ]
  },
  {
   "cell_type": "code",
   "execution_count": 13,
   "metadata": {},
   "outputs": [
    {
     "data": {
      "text/plain": [
       "(0.037563448774103364, 0.893871838722849)"
      ]
     },
     "execution_count": 13,
     "metadata": {},
     "output_type": "execute_result"
    }
   ],
   "source": [
    "s, z"
   ]
  },
  {
   "cell_type": "code",
   "execution_count": 14,
   "metadata": {},
   "outputs": [
    {
     "data": {
      "text/plain": [
       "0.37139046679850773"
      ]
     },
     "execution_count": 14,
     "metadata": {},
     "output_type": "execute_result"
    }
   ],
   "source": [
    "p = 2*stats.norm.cdf(-z)\n",
    "p"
   ]
  },
  {
   "cell_type": "markdown",
   "metadata": {},
   "source": [
    "# Q6\n",
    "\n",
    "- **Explain briefly:** Can you reject the null hypothesis with 90 percent confidence? Be specific in your justification and use concepts from class, but the answer need not be more than one sentence."
   ]
  },
  {
   "cell_type": "markdown",
   "metadata": {},
   "source": [
    "# Q7\n",
    "We don't have much information about how this study was performed. Without spending time to research how it was done (you can for your own purposes if you want), answer the following:\n",
    "\n",
    "- **Write one or two sentences** about what you should ask the study creators to evaluate whether your hypothesis test assumptions are valid. Be specific and use concepts from class."
   ]
  },
  {
   "cell_type": "markdown",
   "metadata": {},
   "source": [
    "# Q8\n",
    "\n",
    "- **explain in words** your answer in Q7 using concepts from class\n",
    "- **in particular:**\n",
    "    - how does the result from Q7 compare with your answer to Q6?\n",
    "    - how does the small-sample CI compare to the big-sample CI?\n",
    "    - if they are different, why might they be different? If not, why not?"
   ]
  }
 ],
 "metadata": {
  "kernelspec": {
   "display_name": "Python 3",
   "language": "python",
   "name": "python3"
  },
  "language_info": {
   "codemirror_mode": {
    "name": "ipython",
    "version": 3
   },
   "file_extension": ".py",
   "mimetype": "text/x-python",
   "name": "python",
   "nbconvert_exporter": "python",
   "pygments_lexer": "ipython3",
   "version": "3.8.2"
  }
 },
 "nbformat": 4,
 "nbformat_minor": 4
}
