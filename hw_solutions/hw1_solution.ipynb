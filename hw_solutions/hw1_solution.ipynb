{
 "cells": [
  {
   "cell_type": "code",
   "execution_count": 1,
   "metadata": {},
   "outputs": [],
   "source": [
    "import pandas as pd"
   ]
  },
  {
   "cell_type": "code",
   "execution_count": 2,
   "metadata": {},
   "outputs": [],
   "source": [
    "fb = pd.read_csv('https://raw.githubusercontent.com/brendanrbrown/stor155_sp21/main/data/fakebook_buzzfeed_2018.csv')"
   ]
  },
  {
   "cell_type": "markdown",
   "metadata": {},
   "source": [
    "## Q1\n",
    "Calculate and display the following statistics for `fb_engagement`, which gives number of likes for each fake news article.\n",
    "\n",
    "- min\n",
    "- max\n",
    "- mean\n",
    "- median\n",
    "- 75th percentile\n",
    "- 90th percentile\n",
    "- variance "
   ]
  },
  {
   "cell_type": "code",
   "execution_count": 3,
   "metadata": {},
   "outputs": [
    {
     "data": {
      "text/plain": [
       "(1507342177.9259107, 1555.0)"
      ]
     },
     "execution_count": 3,
     "metadata": {},
     "output_type": "execute_result"
    }
   ],
   "source": [
    "# variance and 90th quantile\n",
    "# can also access a single variable more concisely with fb.fb_engagement\n",
    "# using loc because this method has many more applications. see the cookbook\n",
    "\n",
    "fb.loc[:, 'fb_engagement'].var(),  fb.loc[:, 'fb_engagement'].quantile(.90)"
   ]
  },
  {
   "cell_type": "code",
   "execution_count": 4,
   "metadata": {},
   "outputs": [
    {
     "data": {
      "text/html": [
       "<div>\n",
       "<style scoped>\n",
       "    .dataframe tbody tr th:only-of-type {\n",
       "        vertical-align: middle;\n",
       "    }\n",
       "\n",
       "    .dataframe tbody tr th {\n",
       "        vertical-align: top;\n",
       "    }\n",
       "\n",
       "    .dataframe thead th {\n",
       "        text-align: right;\n",
       "    }\n",
       "</style>\n",
       "<table border=\"1\" class=\"dataframe\">\n",
       "  <thead>\n",
       "    <tr style=\"text-align: right;\">\n",
       "      <th></th>\n",
       "      <th>fb_engagement</th>\n",
       "    </tr>\n",
       "  </thead>\n",
       "  <tbody>\n",
       "    <tr>\n",
       "      <th>count</th>\n",
       "      <td>1.396100e+04</td>\n",
       "    </tr>\n",
       "    <tr>\n",
       "      <th>mean</th>\n",
       "      <td>3.103506e+03</td>\n",
       "    </tr>\n",
       "    <tr>\n",
       "      <th>std</th>\n",
       "      <td>3.882450e+04</td>\n",
       "    </tr>\n",
       "    <tr>\n",
       "      <th>min</th>\n",
       "      <td>0.000000e+00</td>\n",
       "    </tr>\n",
       "    <tr>\n",
       "      <th>25%</th>\n",
       "      <td>2.000000e+00</td>\n",
       "    </tr>\n",
       "    <tr>\n",
       "      <th>50%</th>\n",
       "      <td>5.200000e+01</td>\n",
       "    </tr>\n",
       "    <tr>\n",
       "      <th>75%</th>\n",
       "      <td>2.540000e+02</td>\n",
       "    </tr>\n",
       "    <tr>\n",
       "      <th>max</th>\n",
       "      <td>2.383021e+06</td>\n",
       "    </tr>\n",
       "  </tbody>\n",
       "</table>\n",
       "</div>"
      ],
      "text/plain": [
       "       fb_engagement\n",
       "count   1.396100e+04\n",
       "mean    3.103506e+03\n",
       "std     3.882450e+04\n",
       "min     0.000000e+00\n",
       "25%     2.000000e+00\n",
       "50%     5.200000e+01\n",
       "75%     2.540000e+02\n",
       "max     2.383021e+06"
      ]
     },
     "execution_count": 4,
     "metadata": {},
     "output_type": "execute_result"
    }
   ],
   "source": [
    "# rest\n",
    "fb.describe()"
   ]
  },
  {
   "cell_type": "markdown",
   "metadata": {},
   "source": [
    "## Q2 \n",
    "Does the variance you calcualted make sense with the histogram of this variable displayed in class? Justify your answer in a sentence or two.\n",
    "\n",
    "For excel users: Put this text in a clearly labeled cell of your spreadsheet.\n",
    "\n",
    "For python users: Put this in a comment (e.g. `# my comment starts like this`) or in a markdown type cell.\n",
    "\n",
    "### Answer:\n",
    "The variance is huge, which makes sense because we saw in class that while by far most observations had small values there were some with huge values of 1 million likes or more."
   ]
  },
  {
   "cell_type": "markdown",
   "metadata": {},
   "source": [
    "## Q3\n",
    "- Create a bar plot with the several largest categories by number of posts. Bars can be horizontal or vertical. Number of categories to display should be at least four, but otherwise use your discretion.\n",
    "- Add an appropriate title\n",
    "\n",
    "For excel users: You can use the default number of categories excel chooses.\n",
    "\n",
    "For python users: You will first need to create a dataframe with the number of observations by category. Attend the Thursday demo!"
   ]
  },
  {
   "cell_type": "code",
   "execution_count": 5,
   "metadata": {},
   "outputs": [
    {
     "data": {
      "text/html": [
       "<div>\n",
       "<style scoped>\n",
       "    .dataframe tbody tr th:only-of-type {\n",
       "        vertical-align: middle;\n",
       "    }\n",
       "\n",
       "    .dataframe tbody tr th {\n",
       "        vertical-align: top;\n",
       "    }\n",
       "\n",
       "    .dataframe thead th {\n",
       "        text-align: right;\n",
       "    }\n",
       "</style>\n",
       "<table border=\"1\" class=\"dataframe\">\n",
       "  <thead>\n",
       "    <tr style=\"text-align: right;\">\n",
       "      <th></th>\n",
       "      <th>title</th>\n",
       "      <th>url</th>\n",
       "      <th>fb_engagement</th>\n",
       "      <th>published_date</th>\n",
       "      <th>source</th>\n",
       "    </tr>\n",
       "    <tr>\n",
       "      <th>category</th>\n",
       "      <th></th>\n",
       "      <th></th>\n",
       "      <th></th>\n",
       "      <th></th>\n",
       "      <th></th>\n",
       "    </tr>\n",
       "  </thead>\n",
       "  <tbody>\n",
       "    <tr>\n",
       "      <th>12minutos.com</th>\n",
       "      <td>424</td>\n",
       "      <td>424</td>\n",
       "      <td>424</td>\n",
       "      <td>424</td>\n",
       "      <td>0</td>\n",
       "    </tr>\n",
       "    <tr>\n",
       "      <th>24aktuelles.com</th>\n",
       "      <td>66</td>\n",
       "      <td>66</td>\n",
       "      <td>66</td>\n",
       "      <td>66</td>\n",
       "      <td>0</td>\n",
       "    </tr>\n",
       "    <tr>\n",
       "      <th>Adam Shaw</th>\n",
       "      <td>1</td>\n",
       "      <td>1</td>\n",
       "      <td>1</td>\n",
       "      <td>1</td>\n",
       "      <td>0</td>\n",
       "    </tr>\n",
       "    <tr>\n",
       "      <th>Admin</th>\n",
       "      <td>623</td>\n",
       "      <td>623</td>\n",
       "      <td>623</td>\n",
       "      <td>623</td>\n",
       "      <td>0</td>\n",
       "    </tr>\n",
       "    <tr>\n",
       "      <th>Adobo Chronicles</th>\n",
       "      <td>6</td>\n",
       "      <td>6</td>\n",
       "      <td>6</td>\n",
       "      <td>6</td>\n",
       "      <td>0</td>\n",
       "    </tr>\n",
       "    <tr>\n",
       "      <th>...</th>\n",
       "      <td>...</td>\n",
       "      <td>...</td>\n",
       "      <td>...</td>\n",
       "      <td>...</td>\n",
       "      <td>...</td>\n",
       "    </tr>\n",
       "    <tr>\n",
       "      <th>Washington</th>\n",
       "      <td>13</td>\n",
       "      <td>13</td>\n",
       "      <td>13</td>\n",
       "      <td>13</td>\n",
       "      <td>0</td>\n",
       "    </tr>\n",
       "    <tr>\n",
       "      <th>Wendy Mcqueen</th>\n",
       "      <td>1</td>\n",
       "      <td>1</td>\n",
       "      <td>1</td>\n",
       "      <td>1</td>\n",
       "      <td>0</td>\n",
       "    </tr>\n",
       "    <tr>\n",
       "      <th>Wordpress Username</th>\n",
       "      <td>12</td>\n",
       "      <td>12</td>\n",
       "      <td>12</td>\n",
       "      <td>12</td>\n",
       "      <td>0</td>\n",
       "    </tr>\n",
       "    <tr>\n",
       "      <th>Zach Selby</th>\n",
       "      <td>25</td>\n",
       "      <td>25</td>\n",
       "      <td>25</td>\n",
       "      <td>25</td>\n",
       "      <td>0</td>\n",
       "    </tr>\n",
       "    <tr>\n",
       "      <th>❌ Baxter Dmitry ❌</th>\n",
       "      <td>3</td>\n",
       "      <td>3</td>\n",
       "      <td>3</td>\n",
       "      <td>3</td>\n",
       "      <td>0</td>\n",
       "    </tr>\n",
       "  </tbody>\n",
       "</table>\n",
       "<p>165 rows × 5 columns</p>\n",
       "</div>"
      ],
      "text/plain": [
       "                    title  url  fb_engagement  published_date  source\n",
       "category                                                             \n",
       "12minutos.com         424  424            424             424       0\n",
       "24aktuelles.com        66   66             66              66       0\n",
       "Adam Shaw               1    1              1               1       0\n",
       "Admin                 623  623            623             623       0\n",
       "Adobo Chronicles        6    6              6               6       0\n",
       "...                   ...  ...            ...             ...     ...\n",
       "Washington             13   13             13              13       0\n",
       "Wendy Mcqueen           1    1              1               1       0\n",
       "Wordpress Username     12   12             12              12       0\n",
       "Zach Selby             25   25             25              25       0\n",
       "❌ Baxter Dmitry ❌       3    3              3               3       0\n",
       "\n",
       "[165 rows x 5 columns]"
      ]
     },
     "execution_count": 5,
     "metadata": {},
     "output_type": "execute_result"
    }
   ],
   "source": [
    "fbcount = fb.groupby('category').count()\n",
    "\n",
    "fbcount"
   ]
  },
  {
   "cell_type": "code",
   "execution_count": 13,
   "metadata": {},
   "outputs": [
    {
     "data": {
      "text/plain": [
       "<AxesSubplot:title={'center':'Fake news posts on Facebook in 2018 \\n categories with at least 500 posts'}, xlabel='category'>"
      ]
     },
     "execution_count": 13,
     "metadata": {},
     "output_type": "execute_result"
    },
    {
     "data": {
      "image/png": "[encoded data removed]",
      "text/plain": [
       "<Figure size 432x288 with 1 Axes>"
      ]
     },
     "metadata": {
      "needs_background": "light"
     },
     "output_type": "display_data"
    }
   ],
   "source": [
    "# can use title as count variable since all have titles\n",
    "fbcount.loc[fbcount.loc[:, 'title'] > 500, 'title'].plot(kind = 'bar', title = 'Fake news posts on Facebook in 2018 \\n categories with at least 500 posts')"
   ]
  },
  {
   "cell_type": "markdown",
   "metadata": {},
   "source": [
    "## Q4\n",
    "How many posts total are in categories with less than or equal to 50 posts? In other words, add up the number of posts only for categories for which the numbers of posts in the category is $\\le 50$"
   ]
  },
  {
   "cell_type": "code",
   "execution_count": 7,
   "metadata": {},
   "outputs": [
    {
     "data": {
      "text/plain": [
       "1155"
      ]
     },
     "execution_count": 7,
     "metadata": {},
     "output_type": "execute_result"
    }
   ],
   "source": [
    "fbcount.loc[fbcount.loc[:, 'title'] <= 50, 'title'].sum()"
   ]
  },
  {
   "cell_type": "markdown",
   "metadata": {},
   "source": [
    "## Q5\n",
    "What *proportion* of posts are in categories with less than or equal to 50 posts?"
   ]
  },
  {
   "cell_type": "code",
   "execution_count": 8,
   "metadata": {},
   "outputs": [
    {
     "data": {
      "text/plain": [
       "0.09743546482200101"
      ]
     },
     "execution_count": 8,
     "metadata": {},
     "output_type": "execute_result"
    }
   ],
   "source": [
    "# number above divided by total\n",
    "# DataFrame.shape attribute gives the number of rows, columns\n",
    "\n",
    "fbcount.loc[fbcount.loc[:, 'title'] <= 50, 'title'].sum() / fbcount.loc[:, 'title'].sum()"
   ]
  },
  {
   "cell_type": "markdown",
   "metadata": {},
   "source": [
    "## Q6\n",
    "Repeat Q4, 5 but with the number 50 replaced by 1000. This should be easy and demonstrates the value of using statistical software, which allows changing minor parameters to get a wide range of results."
   ]
  },
  {
   "cell_type": "code",
   "execution_count": 9,
   "metadata": {},
   "outputs": [
    {
     "data": {
      "text/plain": [
       "(5182, 0.4371520161970643)"
      ]
     },
     "execution_count": 9,
     "metadata": {},
     "output_type": "execute_result"
    }
   ],
   "source": [
    "fbcount.loc[fbcount.loc[:, 'title'] <= 1000, 'title'].sum(), fbcount.loc[fbcount.loc[:, 'title'] <= 1000, 'title'].sum() / fbcount.loc[:, 'title'].sum()"
   ]
  },
  {
   "cell_type": "markdown",
   "metadata": {},
   "source": [
    "## Alternatives"
   ]
  },
  {
   "cell_type": "code",
   "execution_count": 10,
   "metadata": {},
   "outputs": [
    {
     "data": {
      "text/plain": [
       "<AxesSubplot:title={'center':'Fake news posts on Facebook in 2018 \\n categories with at least 500 posts'}, xlabel='category'>"
      ]
     },
     "execution_count": 10,
     "metadata": {},
     "output_type": "execute_result"
    },
    {
     "data": {
      "image/png": "[encoded data removed]",
      "text/plain": [
       "<Figure size 432x288 with 1 Axes>"
      ]
     },
     "metadata": {
      "needs_background": "light"
     },
     "output_type": "display_data"
    }
   ],
   "source": [
    "# a more concise version of Q2 using the query method that doesn't require separate dataframe\n",
    "fb.groupby('category').count().query('title > 500').title.plot(kind = 'bar',\n",
    "                                                               title = 'Fake news posts on Facebook in 2018 \\n categories with at least 500 posts')"
   ]
  },
  {
   "cell_type": "code",
   "execution_count": 11,
   "metadata": {},
   "outputs": [
    {
     "data": {
      "text/plain": [
       "Sean Adl-tabatabai    2835\n",
       "Neon Nettle           1399\n",
       "Niamh Harris          1284\n",
       "Baxter Dmitry         1154\n",
       "Pol Pinoy              654\n",
       "                      ... \n",
       "Joan Dennison            1\n",
       "Attorney General         1\n",
       "Vanessa Kirby            1\n",
       "John Thomas              1\n",
       "Jacob Pramuk             1\n",
       "Name: category, Length: 165, dtype: int64"
      ]
     },
     "execution_count": 11,
     "metadata": {},
     "output_type": "execute_result"
    }
   ],
   "source": [
    "# a shortcut for fb.groupby('category').count() when we care only about counts per category, the situation here\n",
    "# again, I show groupby because we will be able to do so much more with that method\n",
    "fb.category.value_counts()"
   ]
  },
  {
   "cell_type": "code",
   "execution_count": 12,
   "metadata": {},
   "outputs": [
    {
     "data": {
      "text/plain": [
       "0.4371520161970643"
      ]
     },
     "execution_count": 12,
     "metadata": {},
     "output_type": "execute_result"
    }
   ],
   "source": [
    "# so do Q6 like this, for example\n",
    "fbc_series = fb.category.value_counts()\n",
    "\n",
    "# .loc[] without comma selects rows of a data frame, or elements of a series (like you are doing here) \n",
    "fbc_series.loc[fbc_series <= 1000].sum() / fbc_series.sum()"
   ]
  }
 ],
 "metadata": {
  "kernelspec": {
   "display_name": "Python 3",
   "language": "python",
   "name": "python3"
  },
  "language_info": {
   "codemirror_mode": {
    "name": "ipython",
    "version": 3
   },
   "file_extension": ".py",
   "mimetype": "text/x-python",
   "name": "python",
   "nbconvert_exporter": "python",
   "pygments_lexer": "ipython3",
   "version": "3.8.2"
  }
 },
 "nbformat": 4,
 "nbformat_minor": 4
}
