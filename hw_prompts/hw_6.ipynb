{
 "cells": [
  {
   "cell_type": "markdown",
   "metadata": {},
   "source": [
    "# hw 6\n",
    "### due March 23, 12:30 pm\n",
    "### data: `beauty.csv` or `beauty.xlsx`\n",
    "\n",
    "We are going to sample again from the `beauty` script data."
   ]
  },
  {
   "cell_type": "markdown",
   "metadata": {},
   "source": [
    "## Q1\n",
    "\n",
    "- **Load** the dataset\n",
    "- **Calculate** the proportion of lines `BELLE` has in the script, meaning the number of rows for which `person == BELLE`\n",
    "- **Store** this value as an object called `p`. Excel users: just put it in a cell with a header."
   ]
  },
  {
   "cell_type": "markdown",
   "metadata": {},
   "source": [
    "## Q2\n",
    "\n",
    "- **Generate** 50 random samples with replacement of size 20 rows\n",
    "- **For each sample, calculate** the following saving the output as a variable, one row of the variable for each sample:\n",
    "    - `first_belle`: the first element of your sample representing a line Belle spoke. If none, this should be #N/A in excel and NA (or equivalent) in python\n",
    "    - `n_belle`: the number of Belle's lines in your sample\n",
    "    \n",
    "#### Help for Excel:\n",
    "\n",
    "Excel users will need to do this without the various add-ons excel provides. You will need to create a sample of size 1000, like we did last time. Then, you will treat each consecutive set of 20 rows as its own sample for calculating the values above. I suggest using the INDIRECT function and will demonstrate this in class.\n",
    "\n",
    "#### Help for Python:\n",
    "You can do this essentially the same way you did sampling last time. The only difference is you will now need to use something like a loop to do it consecutively, and to handle possible no-Belle scenarios by writing a little function. I will demonstrate this in class."
   ]
  },
  {
   "cell_type": "markdown",
   "metadata": {},
   "source": [
    "## Q3\n",
    "\n",
    "- **Write one or two sentences** using formulas and concepts from class stating what distribution is appropriate for the variables `first_belle` and `n_belle` respectively."
   ]
  },
  {
   "cell_type": "markdown",
   "metadata": {},
   "source": [
    "## Q4\n",
    "\n",
    "- **Display a histogram** of `first_belle`, using your best judgement on binwidths etc. as before"
   ]
  },
  {
   "cell_type": "markdown",
   "metadata": {},
   "source": [
    "## Q5\n",
    "\n",
    "- **Calculate** the average values of both `first_belle` and `n_belle`, ignoring all missing values if any.\n",
    "- **Write one or two sentences** using formulas and concepts from class to explain why these calculated values do or do not make sense."
   ]
  }
 ],
 "metadata": {
  "kernelspec": {
   "display_name": "Python 3",
   "language": "python",
   "name": "python3"
  },
  "language_info": {
   "codemirror_mode": {
    "name": "ipython",
    "version": 3
   },
   "file_extension": ".py",
   "mimetype": "text/x-python",
   "name": "python",
   "nbconvert_exporter": "python",
   "pygments_lexer": "ipython3",
   "version": "3.8.2"
  }
 },
 "nbformat": 4,
 "nbformat_minor": 4
}
