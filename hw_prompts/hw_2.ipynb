{
 "cells": [
  {
   "cell_type": "markdown",
   "metadata": {},
   "source": [
    "# hw 2\n",
    "## due Feb. 7, 12:30 pm\n",
    "\n",
    "## Dataset\n",
    "\n",
    "`wb_lifexpec` data on github site\n",
    "\n",
    "## Q1\n",
    "\n",
    "Plot all non-`year` variables with `year` on the x axis, as I did in the class slides with different colors for the different country variables.\n",
    "\n",
    "You can use the default colors and ouput in excel/python."
   ]
  },
  {
   "cell_type": "markdown",
   "metadata": {},
   "source": [
    "## Q2\n",
    "\n",
    "Make a scatterplot of variables `United States` and `China` like I did in class."
   ]
  },
  {
   "cell_type": "markdown",
   "metadata": {},
   "source": [
    "## Q3\n",
    "\n",
    "Create two new variables\n",
    "\n",
    "- `change_us` with the year-by-year change in the variable `United States`\n",
    "- `change_china`, same but for `China`\n",
    "\n",
    "**For excel users:** You will need to manually set your first value to \"\" (blank). This allows the correlation function to ignore this cell.\n",
    "\n",
    "You cannot enter `#N/A`, the true 'missing' value label in excel,  or 0. In the first case excel will not know what to do, and in the second case excel will calculate the incorrect correlation."
   ]
  },
  {
   "cell_type": "markdown",
   "metadata": {},
   "source": [
    "## Q4\n",
    "\n",
    "Make a scatterplot of `change_us` vs `change_china` and give it a reasonable title."
   ]
  },
  {
   "cell_type": "markdown",
   "metadata": {},
   "source": [
    "## Q5\n",
    "\n",
    "Calculate the correlations between\n",
    "\n",
    "- `United States` and `China`\n",
    "- `change_us` and `change_china`\n",
    "\n",
    "**HINT:** See my note above about missing values for excel users."
   ]
  },
  {
   "cell_type": "markdown",
   "metadata": {},
   "source": [
    "## Q6\n",
    "\n",
    "Write one or two sentences about why your answer in Q5 does or does not make sense. A good answer should refer back to the plots you made previously and explicitly apply concepts from class."
   ]
  },
  {
   "cell_type": "markdown",
   "metadata": {},
   "source": [
    "## Q7\n",
    "\n",
    "Create a new variable `change_mali` with the year over year changes in Mali's female life expectancy.\n",
    "\n",
    "- average of `change_mali`\n",
    "- correlation between `Mali` and `year`\n",
    "- correlation between `change_mali` and `year`"
   ]
  },
  {
   "cell_type": "markdown",
   "metadata": {},
   "source": [
    "## Q8\n",
    "\n",
    "Comment on your answers from Q7 by writing a couple of sentences in response to the following questions:\n",
    "\n",
    "- Comparing the average of `change_mali` and the correlation between `Mali` and `year`: Does this make sense based on the concepts discussed in class? Why or why not?\n",
    "- In words, try to explain the difference between the two correlation statistics."
   ]
  }
 ],
 "metadata": {
  "kernelspec": {
   "display_name": "Python 3",
   "language": "python",
   "name": "python3"
  },
  "language_info": {
   "codemirror_mode": {
    "name": "ipython",
    "version": 3
   },
   "file_extension": ".py",
   "mimetype": "text/x-python",
   "name": "python",
   "nbconvert_exporter": "python",
   "pygments_lexer": "ipython3",
   "version": "3.8.2"
  }
 },
 "nbformat": 4,
 "nbformat_minor": 4
}
