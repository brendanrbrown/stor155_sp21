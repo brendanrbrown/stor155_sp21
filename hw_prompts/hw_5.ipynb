{
 "cells": [
  {
   "cell_type": "markdown",
   "metadata": {},
   "source": [
    "# hw 5\n",
    "\n",
    "## due Tuesday, March 9 at 12:30 pm\n",
    "\n",
    "### data: `beauty.csv` or `beauty.xlsx`\n",
    "\n",
    "In this homework, we will sample from lines of dialog in the old Disney movie, Beauty and the Beast.\n",
    "\n",
    "This is inspired pudding.cool's analysis gender in Disney dialog, here\n",
    "\n",
    "https://pudding.cool/2017/03/film-dialogue/\n",
    "\n",
    "I grabbed the full text of Beauty and the Beast from here\n",
    "\n",
    "http://www.fpx.de/fp/Disney/Scripts/BeautyAndTheBeast.txt\n",
    "\n",
    "then did some data cleaning to put it in this format.\n",
    "\n",
    "#### structure\n",
    "\n",
    "- each observation is a line of dialog from the movie\n",
    "- `person` column identifies the speaker\n",
    "- `line` is the text of the line spoken"
   ]
  },
  {
   "cell_type": "markdown",
   "metadata": {},
   "source": [
    "## Q1\n",
    "\n",
    "- **load** the dataset using pandas/excel in the usual way for homework\n",
    "- **create** a new spreadsheet (pandas: can use a Series or DataFrame, your choice) with the proportion (or percentage in excel) of lines each `person` speaks in the movie.\n",
    "\n",
    "**Excel users: You must do this entirely within a pivot table.**\n",
    "\n",
    "*Hint: excel users will need to create a pivot table and use the value field settings to get percentages. Python users will need to use the groupby method. See previous homeworks for similar tasks.* "
   ]
  },
  {
   "cell_type": "markdown",
   "metadata": {},
   "source": [
    "## Q2\n",
    "\n",
    "**Create** a new data frame / spreadsheet with \n",
    "\n",
    "- `person` and `line` variables\n",
    "- which takes a **random sample of size 50 with replacement** from the observations in the original dataset\n",
    "\n",
    "*Hint for excel users: While the desktop version has some shortcuts, there is a simple way to do this no matter what version you use. First, create a column called `sample_row` that uses the RANDBETWEEN function to sample a random row number. You will need to use COUNTA within RANDBETWEEN to get the correct number of rows. Then, use the INDEX function to get the sampled `person` and `line` values for that row.*\n",
    "\n",
    "*Hint for python users: Look at the pandas documentation for the .sample() method. Be sure to look at the argument for sampling with replacement --- replacement is not the default.*"
   ]
  },
  {
   "cell_type": "markdown",
   "metadata": {},
   "source": [
    "## Q3\n",
    "\n",
    "**Create** a new data frame / spreadsheet with the proportion (or percentage in excel) of lines each `person` speaks **in your sample dataset**."
   ]
  },
  {
   "cell_type": "markdown",
   "metadata": {},
   "source": [
    "## Q4\n",
    "\n",
    "**Calculate the absolute difference**  between the true proportion of lines spoken (from Q1) and the corresponding sample proportion (from Q3) for the **following characters:**\n",
    "\n",
    "- Belle\n",
    "- Beast\n",
    "- Gaston\n",
    "\n",
    "The absolute difference between two numbers $x, y$ is $|x-y|$."
   ]
  },
  {
   "cell_type": "markdown",
   "metadata": {},
   "source": [
    "## Q5\n",
    "\n",
    "**Write** one or two sentences using concepts from class about why the difference calculated in Q4 should *or* should not be close to zero.\n",
    "\n",
    "I am not actually asking you to evaluate whether the answer from Q4 is 'close enough' or anything like that --- just tell me conceptually whether it should be 'close' and why or why not."
   ]
  }
 ],
 "metadata": {
  "kernelspec": {
   "display_name": "Python 3",
   "language": "python",
   "name": "python3"
  },
  "language_info": {
   "codemirror_mode": {
    "name": "ipython",
    "version": 3
   },
   "file_extension": ".py",
   "mimetype": "text/x-python",
   "name": "python",
   "nbconvert_exporter": "python",
   "pygments_lexer": "ipython3",
   "version": "3.8.2"
  }
 },
 "nbformat": 4,
 "nbformat_minor": 4
}
