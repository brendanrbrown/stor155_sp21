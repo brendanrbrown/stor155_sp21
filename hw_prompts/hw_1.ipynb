{
 "cells": [
  {
   "cell_type": "markdown",
   "metadata": {},
   "source": [
    "# Homework one\n",
    "## single-variable statistics and distributions\n",
    "\n",
    "## Data\n",
    "\n",
    "For this assignment, use the `fakebook_buzzfeed` dataset posted on the course github page.\n",
    "\n",
    "## Q1\n",
    "Calculate and display the following statistics for `fb_engagement`, which gives number of likes for each fake news article.\n",
    "\n",
    "- min\n",
    "- max\n",
    "- mean\n",
    "- median\n",
    "- 75th percentile\n",
    "- 90th percentile\n",
    "- variance "
   ]
  },
  {
   "cell_type": "markdown",
   "metadata": {},
   "source": [
    "## Q2 \n",
    "Does the variance you calcualted make sense with the histogram of this variable displayed in class? Justify your answer in a sentence or two.\n",
    "\n",
    "For excel users: Put this text in a clearly labeled cell of your spreadsheet.\n",
    "\n",
    "For python users: Put this in a comment (e.g. `# my comment starts like this`) or in a markdown type cell."
   ]
  },
  {
   "cell_type": "markdown",
   "metadata": {},
   "source": [
    "## Q3\n",
    "- Create a bar plot with the several largest categories by number of posts. Bars can be horizontal or vertical. Number of categories to display should be at least four, but otherwise use your discretion.\n",
    "- Add an appropriate title\n",
    "\n",
    "For excel users: You can use the default number of categories excel chooses.\n",
    "\n",
    "For python users: You will first need to create a dataframe with the number of observations by category. Attend the Thursday demo!"
   ]
  },
  {
   "cell_type": "markdown",
   "metadata": {},
   "source": [
    "## Q4\n",
    "How many posts total are in categories with less than or equal to 50 posts? In other words, add up the number of posts only for categories for which the numbers of posts in the category is $\\le 50$"
   ]
  },
  {
   "cell_type": "markdown",
   "metadata": {},
   "source": [
    "## Q5\n",
    "What *proportion* of posts are in categories with less than or equal to 50 posts?"
   ]
  },
  {
   "cell_type": "markdown",
   "metadata": {},
   "source": [
    "## Q6\n",
    "Repeat Q4, 5 but with the number 50 replaced by 1000. This should be easy and demonstrates the value of using statistical software, which allows changing minor parameters to get a wide range of results."
   ]
  }
 ],
 "metadata": {
  "kernelspec": {
   "display_name": "Python 3",
   "language": "python",
   "name": "python3"
  },
  "language_info": {
   "codemirror_mode": {
    "name": "ipython",
    "version": 3
   },
   "file_extension": ".py",
   "mimetype": "text/x-python",
   "name": "python",
   "nbconvert_exporter": "python",
   "pygments_lexer": "ipython3",
   "version": "3.8.2"
  }
 },
 "nbformat": 4,
 "nbformat_minor": 4
}
