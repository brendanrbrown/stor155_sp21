{
 "cells": [
  {
   "cell_type": "markdown",
   "metadata": {},
   "source": [
    "# hw 7\n",
    "### due March 30, 12:30 pm\n",
    "\n",
    "This will be a quick and easy introduction to random sampling from the distributions we've seen.\n",
    "\n",
    "For excel users, this will give you a way to sample despite excel not having functions to allow you to do so directly.\n",
    "\n",
    "For python users, you will get a small glimpse into the `scipy` package that is a workhorse of statistics."
   ]
  },
  {
   "cell_type": "markdown",
   "metadata": {},
   "source": [
    "# Q1\n",
    "\n",
    "- **create** a variable called `u` that randomly samples 100 observations from a uniform(0, 1) distribution\n",
    "\n",
    "**Hint:** Excel users will want the `RAND` function. Python users should look at hw 4 where we did this for one random variable with `rng.random()`. You will need to copy-paste the code leading up to that statement."
   ]
  },
  {
   "cell_type": "markdown",
   "metadata": {},
   "source": [
    "# Q2\n",
    "\n",
    "- **create** a variable called `b` that randomly samples 100 observations from a Binomial(10, .5) distribution.\n",
    "\n",
    "**Hint:** Excel users will need to use the variable `u` from the previous question, then apply the `BINOM.INV` function as described in the quantile function section of the most recent lecture.\n",
    "\n",
    "Python users will `import scipy.stats as stats` then use the `stats.binom.rv` function. Refer to the documentation here under Discrete distributions:\n",
    "https://docs.scipy.org/doc/scipy/reference/stats.html"
   ]
  },
  {
   "cell_type": "markdown",
   "metadata": {},
   "source": [
    "# Q3\n",
    "\n",
    "- **create** a variable called `z` that randomly samples 100 observations from a standard Normal(0, 1) distribution.\n",
    "\n",
    "**Hint:** Excel will use a process similar to the above but with the `NORM.INV` function.\n",
    "\n",
    "Python users will `import scipy.stats as stats` then use the `stats.norm.rv` function. Refer to the documentation."
   ]
  },
  {
   "cell_type": "markdown",
   "metadata": {},
   "source": [
    "# Q4\n",
    "\n",
    "- **create** a variable called `x` that randomly samples 100 observations from a standard Normal(3, 3) distribution.\n",
    "\n",
    "**Hint:** Excel will use the z-score conversion formula seen in class but otherwise the same procedure as above.\n",
    "\n",
    "Python users can do that too, or sample from it directly by changing some arguments in the `stats.norm.rv` function. See the documentation."
   ]
  },
  {
   "cell_type": "markdown",
   "metadata": {},
   "source": [
    "# Q5\n",
    "\n",
    "- **create a histogram** for each random variable you have created in this homework.\n",
    "\n",
    "Python users might find it easier to put all of these variables in a data frame then use the plot methods we've seen in past homeworks."
   ]
  }
 ],
 "metadata": {
  "kernelspec": {
   "display_name": "Python 3",
   "language": "python",
   "name": "python3"
  },
  "language_info": {
   "codemirror_mode": {
    "name": "ipython",
    "version": 3
   },
   "file_extension": ".py",
   "mimetype": "text/x-python",
   "name": "python",
   "nbconvert_exporter": "python",
   "pygments_lexer": "ipython3",
   "version": "3.8.2"
  }
 },
 "nbformat": 4,
 "nbformat_minor": 4
}
