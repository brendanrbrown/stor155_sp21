{
 "cells": [
  {
   "cell_type": "markdown",
   "metadata": {},
   "source": [
    "# hw 8\n",
    "### due April 6, 12:30 pm\n",
    "\n",
    "In this exercise we are going to play with the central limit theorem, then think about errors in prediction and (I hope) see why those are a little different.\n",
    "\n",
    "### dataset `paris_stats`"
   ]
  },
  {
   "cell_type": "markdown",
   "metadata": {},
   "source": [
    "# Q1\n",
    "\n",
    "- **get** the dataset\n",
    "- **create three variables** `train_size` equal to 25, `mhat` with the average of `field_goals_made` and sdhat with the sample standard deviation of `field_goals_made`. "
   ]
  },
  {
   "cell_type": "markdown",
   "metadata": {},
   "source": [
    "# Q2\n",
    "\n",
    "- **generate 40 random samples of size `train_size`** from the first `train_size` number of rows of the data (first `train_size` number of games)\n",
    "- for each sample, **calculate** the average and save it as a variable called `mhat_samp`\n",
    "\n",
    "*Hint:* Do almost exactly what you did in previous homeworks"
   ]
  },
  {
   "cell_type": "markdown",
   "metadata": {},
   "source": [
    "# Q3\n",
    "\n",
    "- **plot a histogram** of `mhat_samp`"
   ]
  },
  {
   "cell_type": "markdown",
   "metadata": {},
   "source": [
    "# Q4\n",
    "\n",
    "- **calculate** the *sample* standard deviation of `mhat_samp`\n",
    "- **calculate** the *theoretical* standard deviation (approximate) of `mhat_samp` using the central limit theorem and your answers from Q1"
   ]
  },
  {
   "cell_type": "markdown",
   "metadata": {},
   "source": [
    "# Q5\n",
    "\n",
    "- **compare** your answers in Q4 and explain in a sentence whether or not it makes sense using concepts from class"
   ]
  },
  {
   "cell_type": "markdown",
   "metadata": {},
   "source": [
    "# Q6\n",
    "Now suppose you use `mhat` from Q1 to predict the number of field goals made in the last 6 games of the dataset. This is different from what we did in class. Here you are just using the average number of field goals made as your 'model'.\n",
    "\n",
    "- **create** a new variable called `predict_errsq` which is the the *squared* difference between `mhat` and `field_goals_made` in the final 6 games of the dataset\n",
    "- **calculate** the average of `predict_errsq` then take its square root. This statistic is called the 'root mean squared error' (RMSE).\n",
    "\n",
    "$$RMSE = \\sqrt{\\frac{1}{6}\\sum_{i = 26}^{31}(\\text{field_goals_made}_i - \\text{mhat})^2}$$\n",
    "\n",
    "Observe (you don't need to write anything) the difference between this last quantity and the theoretical CLT standard deviation. Compare the formula for root mean squared error to that of standard deviation.\n",
    "\n",
    "The reason they differ is that the CLT *does not* make any claims about the error of the prediction, only about the distribution of `mhat` when doing exactly what you did in Q2-Q4.\n",
    "\n",
    "To understand how accurate a model might be when applied to new data, a standard method is to do **cross validation** --- which we won't cover in this class.\n",
    "\n",
    "See https://en.wikipedia.org/wiki/Cross-validation_(statistics) or the textbook https://web.stanford.edu/~hastie/ElemStatLearn/"
   ]
  }
 ],
 "metadata": {
  "kernelspec": {
   "display_name": "Python 3",
   "language": "python",
   "name": "python3"
  },
  "language_info": {
   "codemirror_mode": {
    "name": "ipython",
    "version": 3
   },
   "file_extension": ".py",
   "mimetype": "text/x-python",
   "name": "python",
   "nbconvert_exporter": "python",
   "pygments_lexer": "ipython3",
   "version": "3.8.2"
  }
 },
 "nbformat": 4,
 "nbformat_minor": 4
}
