{
 "cells": [
  {
   "cell_type": "markdown",
   "metadata": {},
   "source": [
    "# hw 4\n",
    "\n",
    "## due Tuesday, Feb. 23 at 12:30 pm\n",
    "\n",
    "### data\n",
    "\n",
    "In this homework, we will generate our own datasets with random sampling!\n",
    "\n",
    "### randomness and probability\n",
    "\n",
    "Next lecture we will discuss randomness and probability in a more academic way. Here are the top-line concepts we'll use in this homework.\n",
    "\n",
    "A key goal here is to help you get a feel for what these ideas mean in the context of statistics and data.\n",
    "\n",
    "#### **randomness is**\n",
    "\n",
    ">> Something subject to randomness is such that the same process doesn't always lead to the same outcome.\n",
    "\n",
    ">> ---- says me (your book does not actually define this)\n",
    "\n",
    "This will be our working definition for the purposes of this class. A more mathematical definition requires tools beyond our scope, but see the wikipedia entry on [randomness](https://en.wikipedia.org/wiki/Randomness) for some insight.\n",
    "\n",
    "Technically, computers don't really do anything randomly. But the software we will use creates 'pseudo-random' numbers that for all intents and purposes act like random numbers. I don't want to talk about it in this class, but ask me if you are curious.\n",
    "\n",
    "\n",
    "#### **probability is**\n",
    "\n",
    "- a number between 0 and 1\n",
    "- that defines how likely to occur each possible outcome of a random process actually is\n",
    "\n",
    "For this exercise, think of a probability from a statistical point of view\n",
    "\n",
    ">> The probability of an outcome is the proportion of times the outcome would occur if we observed the random process an infinite number of times.\n",
    "\n",
    ">> textbook ch 3.1.1\n",
    "\n",
    "\n",
    "### Why care?\n",
    "\n",
    "1. random sampling is a fundamental tool of modern statistics and in applied sciences more broadly, e.g. for [monte carlo methods](https://en.wikipedia.org/wiki/Monte_Carlo_method)\n",
    "2. it forms the basis of survey data collection, a common theme in this class\n",
    "3. randomness is all around you"
   ]
  },
  {
   "cell_type": "markdown",
   "metadata": {},
   "source": [
    "## Q1: Percolator\n",
    "\n",
    "In this exercise we will generate one of the most widely studied models of statistical physics and probability: The [percolation model](https://en.wikipedia.org/wiki/Percolation_theory).\n",
    "\n",
    "Imagine your spreadsheet as a grid of interconnected pipes in which each cell is a pipe section that can be open or closed. We will imagine pouring water across the top of the grid, and we will ask ourselves whether the water can follow a path of open pipes from top to bottom.\n",
    "\n",
    "Whether each pipe (cell) is open or closed will be determined by **random sampling.**\n",
    "\n",
    "\n",
    "1. **generate and display** a random number between 0 and 1\n",
    "    - in excel: use the RAND function\n",
    "    - in python: first import numpy as np, then define rng = np.random.default_rng(), then use the .random() method on the rng object. 'rng' stands for 'random number generator'\n",
    "\n",
    "2. **create** a variable called `prob` (excel: write it in one cell of your spreadsheet), setting its value to 0.5\n",
    "\n",
    "3. **generate a new value** in any cell that first draws a random number between 0 and 1 that \n",
    "    - takes value * if the randomly drawn number is less than `prob` \n",
    "    - and is blank (in python use the empty string \"\") otherwise\n",
    "\n",
    "4. now **generate and display a 20 by 20 grid** where each value in the grid is exactly as it was generated in part 3.\n",
    "    - python people: use a 20 by 20 np.array (we'll go over this) and for printing use the function at `github.com/brendanrbrown/stor155_sp21/notebooks/pretty_percolator.py`\n",
    "\n",
    "5. **calculate** the proportion of cells in your grid that are *, and compare this number to `prob` (you don't need to write anything for the comparison, just do it for yourself)\n",
    "\n",
    "6. **repeat 4-5 after setting `prob = .75`**, overwriting your displayed grid and your calcuated average if you like"
   ]
  },
  {
   "cell_type": "markdown",
   "metadata": {},
   "source": [
    "## Q2: Distribution of random integers\n",
    "\n",
    "In this exercise we will generate an array of random integers, meaning whole numbers, and look at their distribution with a bar plot.\n",
    "\n",
    "This is also to acquaint you with the subtlety that integer-valued variables are numeric but sometimes treated similarly to categorical ones, e.g. in using bar plots.\n",
    "\n",
    "1. **create** an array (think single column) of integers called `x` of length 10, from integers ranging from 0 to 5\n",
    "    - excel: look at RANDARRAY\n",
    "    - python: look at the .integers() method for the rng object you created in Q1, which which the relevant arguments are low, high and size\n",
    "\n",
    "2. **display a bar chart** of `x` where the hieght of the bar shows the number of observations for each value\n",
    "    - excel: easiest probably to create a pivot table first to treat the integer values as categories, counting the number of observations per integer\n",
    "    - python: easiest (given what we've learned) is to make a data frame with your array as the only column and use the .plot.bar() method\n",
    "    \n",
    "3. **create an array of random integers of length 10,000** using the same method you did for part 1 of this question. You can overwrite the old variable `x`.\n",
    "\n",
    "4. **display a bar chart** of the larger array\n",
    "\n",
    "5. **write a sentence** describing the difference in what you see between the two bar charts. You don't need to have a clear explanation yet for what you see."
   ]
  }
 ],
 "metadata": {
  "kernelspec": {
   "display_name": "Python 3",
   "language": "python",
   "name": "python3"
  },
  "language_info": {
   "codemirror_mode": {
    "name": "ipython",
    "version": 3
   },
   "file_extension": ".py",
   "mimetype": "text/x-python",
   "name": "python",
   "nbconvert_exporter": "python",
   "pygments_lexer": "ipython3",
   "version": "3.8.2"
  }
 },
 "nbformat": 4,
 "nbformat_minor": 4
}
