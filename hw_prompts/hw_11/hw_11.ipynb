{
 "cells": [
  {
   "cell_type": "markdown",
   "metadata": {},
   "source": [
    "# hw 10\n",
    "### due May 4, 12:30 pm\n",
    "\n",
    "### data: `affairs_samp`\n",
    "We will work again with survey data on marital infidelity from a Psychology study from the 1960s. \n",
    "\n",
    "This time, I have randomly generated two samples of equally small size, identified by the `sampid` variable.\n",
    "\n",
    "Get this data\n",
    "\n",
    "#### more info\n",
    "Each observation represents one respondent's answers.\n",
    "\n",
    "**See here for more information** on this dataset (same as last time)\n",
    "https://vincentarelbundock.github.io/Rdatasets/doc/AER/Affairs.html\n",
    "\n",
    "### goal: let's do some p-hacking\n",
    "\n",
    "We're going to do some minor p-hacking to explore a bit more why it's bad. See the links in the `hypotest_three` slides for more detailed analyses of ways p-hacking has been abused.\n",
    "\n",
    "p-hacking is a problem in particular when datasets are small."
   ]
  },
  {
   "cell_type": "markdown",
   "metadata": {},
   "source": [
    "### code used to generate samples"
   ]
  },
  {
   "cell_type": "raw",
   "metadata": {},
   "source": [
    "import pandas as pd\n",
    "import scipy.stats as stats"
   ]
  },
  {
   "cell_type": "raw",
   "metadata": {},
   "source": [
    "d = pd.read_csv('https://vincentarelbundock.github.io/Rdatasets/csv/AER/Affairs.csv')"
   ]
  },
  {
   "cell_type": "raw",
   "metadata": {},
   "source": [
    "d.head()"
   ]
  },
  {
   "cell_type": "raw",
   "metadata": {},
   "source": [
    "d.loc[:, 'young'] = d.loc[:, 'age'].le(32)\n",
    "d.loc[:, 'some_affairs'] = d.loc[:, 'affairs'].ge(1)"
   ]
  },
  {
   "cell_type": "raw",
   "metadata": {},
   "source": [
    "dsamp = [d.groupby(['young', 'gender', 'children']).sample(n = 8, replace = True).assign(sampid = i) for i in range(2)]"
   ]
  },
  {
   "cell_type": "raw",
   "metadata": {},
   "source": [
    "d = pd.concat(dsamp, axis = 0).drop(columns = 'Unnamed: 0')\n",
    "d.to_csv('../data/affairs_samp.csv', index = False)\n",
    "d.to_excel('../data/affairs_samp.xlsx', index = False)"
   ]
  },
  {
   "cell_type": "markdown",
   "metadata": {},
   "source": [
    "# Q1\n",
    "Load the data as usual. **For `sampid = 0` (see data explanation)**\n",
    "\n",
    "- **create a pivot table** (or grouped summary information in pandas, same as last time) with \n",
    "    - group variables `young` and `children`\n",
    "    - summary statistics for `some_affairs`: `mhat` (sample mean), `shat` (sample s.d.), `n` number of samples per group, `sehat` (s.d. of the mean using CLT, aka standard error)\n",
    "\n",
    "- **create another pivot table** (or grouped summary information in pandas, same as last time) with \n",
    "    - group variables `young` and `gender`\n",
    "    - same summary stats for `some_affairs`\n",
    "    \n",
    "**Note for excel users**: You don't need to rename the pivot table columns to those listed above.\n",
    "\n",
    "Pandas users also can call things what they want, so long as the names are clear."
   ]
  },
  {
   "cell_type": "markdown",
   "metadata": {},
   "source": [
    "# Q2\n",
    "\n",
    "Using data from the pivot tables above:\n",
    "\n",
    "- for **young = FALSE**,\n",
    "    - **calculate** the p-values for a difference of means test between the no-children and children subgroups\n",
    "    - **calculate** the p-values for a difference of means test between the female and male gender groups\n",
    "    \n",
    "- for **young = TRUE**,\n",
    "    - **calculate** the p-values for a difference of means test between the no-children and children subgroups\n",
    "    - **calculate** the p-values for a difference of means test between the female and male gender groups\n",
    "    \n",
    "In each case you will do a **two-sided** hypothesis test, meaning the alternative hypothesis is that the true means (proportions) are not equal."
   ]
  },
  {
   "cell_type": "markdown",
   "metadata": {},
   "source": [
    "# Q3\n",
    "Using the p-values from Q2, \n",
    "\n",
    "- **state** in which cases you can reject the null at a level `alpha = 0.1`\n",
    "- **state** which case gives smallest p-value obtained\n",
    "\n",
    "\n",
    "**A:** You can't reject in any case at this level."
   ]
  },
  {
   "cell_type": "markdown",
   "metadata": {},
   "source": [
    "# Q4\n",
    "\n",
    "**Repeat Q1** but for the sample `sampid = 1`."
   ]
  },
  {
   "cell_type": "markdown",
   "metadata": {},
   "source": [
    "# Q5\n",
    "\n",
    "**Repeat Q2** but for the data created in Q4."
   ]
  },
  {
   "cell_type": "markdown",
   "metadata": {},
   "source": [
    "# Q6\n",
    "\n",
    "**Repeat Q3** but for the p-values from Q4."
   ]
  },
  {
   "cell_type": "markdown",
   "metadata": {},
   "source": [
    "# Q7\n",
    "\n",
    "Compare your answers in Q5, Q3.\n",
    "\n",
    "- **State** using concepts from class whether or not this provides strong evidence for your conclusions in Qs 3, 5.\n",
    "\n",
    "- If your conclusions changed: Give one reason (from class concepts) why this might be reasonable.\n",
    "\n",
    "- If your conclusions did not change: Give one reason (from class concepts) why they might differ."
   ]
  }
 ],
 "metadata": {
  "kernelspec": {
   "display_name": "Python 3",
   "language": "python",
   "name": "python3"
  },
  "language_info": {
   "codemirror_mode": {
    "name": "ipython",
    "version": 3
   },
   "file_extension": ".py",
   "mimetype": "text/x-python",
   "name": "python",
   "nbconvert_exporter": "python",
   "pygments_lexer": "ipython3",
   "version": "3.8.2"
  }
 },
 "nbformat": 4,
 "nbformat_minor": 4
}
