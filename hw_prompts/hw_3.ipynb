{
 "cells": [
  {
   "cell_type": "markdown",
   "metadata": {},
   "source": [
    "# hw 3\n",
    "## due **Feb. 18**, 12:30pm\n",
    "\n",
    "Feb 16 is a wellness day.\n",
    "\n",
    "In this assignment we'll explore some logical operations if/then/else and will explore summarizing survey data using subgroups defined by variables --- in other words, subgroups defined by people's responses to certain questions in the survey.\n",
    "\n",
    "### data\n",
    "This assignment uses the `shed_survey` dataset.\n",
    "\n",
    "Match the names of the variables with those provided in the official codebook for this dataset.\n",
    "\n",
    "Codebook: https://www.federalreserve.gov/consumerscommunities/files/SHED-2019-codebook.pdf\n",
    "\n",
    "2019 SHED survey dataset https://www.federalreserve.gov/consumerscommunities/shed_data.htm https://www.federalreserve.gov/publications/2020-update-economic-well-being-of-us-households-preface.htm\n",
    "\n"
   ]
  },
  {
   "cell_type": "markdown",
   "metadata": {},
   "source": [
    "### Q1\n",
    "\n",
    "After loading the dataset, \n",
    "\n",
    "- **create** a new column called `dummy` which as value 1 if EF3_c = \"yes\" and 0 otherwise. *pandas people* can use True instead of 1 and False instead of 0, which will behave the same for this question.\n",
    "- **count** the number of missing values (excel: blank, pandas: NA) in EF3_c\n",
    "- **count** the number of missing values in `dummy`\n",
    "- **write** one quick phrase explaining why those numbers differ\n",
    "\n",
    "The blanks represent cases in which the respondent refused to answer yes or no.\n",
    "\n",
    "This is a useless variable just to make a point: Your actions can sometimes have unintended consequences for understanding missing data!"
   ]
  },
  {
   "cell_type": "markdown",
   "metadata": {},
   "source": [
    "### Q2\n",
    "\n",
    "After loading the dataset, \n",
    "\n",
    "- **create** a new column called `n_yes` which counts the number of 'yes' answers in the EF3 series of variables for each row\n",
    "- **create** a new column called `any_cash_equiv` which equals 1 (pandas: you can use True here too) if either EF3_a = 'yes' or EF3_c = 'yes' or both\n",
    "- **create** a new column called `only_cash_equiv` which equals 1 (pandas: you can use True here too) if either EF3_a = 'yes' or EF3_c = 'yes' (or both) are true but none of the other EF3 variables is 'yes'\n",
    "\n",
    "Breaking this down a bit:\n",
    "\n",
    "`any_cash_equiv` is a variable that counts whether the respondent said they would pay with cash (EF3_c = 'yes') or equivalent (EF3_a = 'yes') regardless of what other payment methods they chose in addition.\n",
    "\n",
    "`only_cash_equiv` counts whether the respondent said they'd pay with cash or equivalent but does *not* count observations for which some other payment method also was listed."
   ]
  },
  {
   "cell_type": "markdown",
   "metadata": {},
   "source": [
    "### Q3\n",
    "\n",
    "- **Give the within-group averages** for the three variables you created in Q2, for groups given by the values in variable B2.\n",
    "\n",
    "For example, the average `n_yes` for the group of rows for which B2 = `doing ok` is the sum of `n_yes` values for observations in that group divided by the number of observations in that group.\n",
    "\n",
    "Excel users: You will need to use a pivot table.\n",
    "\n",
    "Pandas users: You will need to use the .groupby() method followed by the .agg() method.\n"
   ]
  },
  {
   "cell_type": "markdown",
   "metadata": {},
   "source": [
    "### Q4\n",
    "\n",
    "- **Give the within-group average** for the three variables you created in Q2, but this time for groups given by the values in variables `D1A` and `D1E`.\n",
    "- Also **count** the number of observations within each of those groups.\n",
    "\n",
    "A group defined by two variables will be given by each unique pair of values from those variables. For example, D1A = 'yes' and D1E = 'yes' will be one group and D1A = 'yes' and D1E = 'no' will be another.\n",
    "\n",
    "Excel users: Create a *separate pivot table* for this answer, to preserve your answers to the previous question."
   ]
  }
 ],
 "metadata": {
  "kernelspec": {
   "display_name": "Python 3",
   "language": "python",
   "name": "python3"
  },
  "language_info": {
   "codemirror_mode": {
    "name": "ipython",
    "version": 3
   },
   "file_extension": ".py",
   "mimetype": "text/x-python",
   "name": "python",
   "nbconvert_exporter": "python",
   "pygments_lexer": "ipython3",
   "version": "3.8.2"
  }
 },
 "nbformat": 4,
 "nbformat_minor": 4
}
