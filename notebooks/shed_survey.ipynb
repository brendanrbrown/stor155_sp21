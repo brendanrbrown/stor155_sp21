{
 "cells": [
  {
   "cell_type": "markdown",
   "metadata": {},
   "source": [
    "2019 SHED survey dataset\n",
    "https://www.federalreserve.gov/consumerscommunities/shed_data.htm\n",
    "https://www.federalreserve.gov/publications/2020-update-economic-well-being-of-us-households-preface.htm\n",
    "\n",
    "Codebook:\n",
    "https://www.federalreserve.gov/consumerscommunities/files/SHED-2019-codebook.pdf\n",
    "\n",
    "Only the fields of interest are included in the dataset for the course. \n",
    "\n",
    "Fields of interest\n",
    "----------------------------------\n",
    "- CaseID\n",
    "- Duration (seconds)\n",
    "- B2: Overall, how well managing financially? (-1 no answer, 1 Finding it difficult to get by, 2 just getting by, 3 doing ok, 4 living comfortably)\n",
    "- B7: Rate economic conditions today (-1 no answer, 1 poor, 2 only fair, 3 good)\n",
    "    -_a in your community\n",
    "    -_b in this country\n",
    "- D1A: Last month did you do any work either for pay or profit? (-1 no answer, 0 no, 1 yes)\n",
    "- D1E: At any time during the past month did you want more work? (-1 no answer, 0 no , 1 yes)\n",
    "- EF3: If had emergency costing $400, how would you pay? (-1 no answer, 0 No, 1 Yes)\n",
    "\n",
    "    -_a credit card, pay in full next statement\n",
    "    \n",
    "    -_b: cc, pay over time\n",
    "    \n",
    "    -_c: cash or checking/savings\n",
    "    \n",
    "    -_d: bank loan or line of credit\n",
    "    \n",
    "    -_e: borrow from friends and family\n",
    "    \n",
    "    -_f: payday loan, advance or overdraft\n",
    "    \n",
    "    -_g: selling something\n",
    "    \n",
    "    -_h: would not be able to\n",
    "\n",
    "**Answers coded as 'refused' have been recoded to `pd.NA`**\n",
    "\n",
    "Data quality issues\n",
    "-----------------------------------\n",
    "- \\[X\\] casing in strings\n",
    "- \\[ \\] lead/trailing whitespace and other pollution?\n",
    "- \\[ \\] EF3 and B7 categories split over columns\n",
    "- \\[ \\] EF3 answers not mutually exclusive"
   ]
  },
  {
   "cell_type": "code",
   "execution_count": 1,
   "metadata": {},
   "outputs": [],
   "source": [
    "import pandas as pd\n",
    "import matplotlib.pyplot as plt"
   ]
  },
  {
   "cell_type": "code",
   "execution_count": 2,
   "metadata": {},
   "outputs": [],
   "source": [
    "# kind of a brown color palette this time\n",
    "# https://colordesigner.io/#BF986D-806549-FFCA92-403324-E6B683\n",
    "pal = ['#403324', '#E6B683', '#2E7D32', '#91C46C', '#04756F', '#212121', '#616161']"
   ]
  },
  {
   "cell_type": "code",
   "execution_count": 3,
   "metadata": {},
   "outputs": [],
   "source": [
    "shed = pd.read_csv('https://raw.githubusercontent.com/brendanrbrown/stor155_sp21/main/data/shed_survey.csv')"
   ]
  },
  {
   "cell_type": "code",
   "execution_count": 4,
   "metadata": {},
   "outputs": [
    {
     "data": {
      "text/html": [
       "<div>\n",
       "<style scoped>\n",
       "    .dataframe tbody tr th:only-of-type {\n",
       "        vertical-align: middle;\n",
       "    }\n",
       "\n",
       "    .dataframe tbody tr th {\n",
       "        vertical-align: top;\n",
       "    }\n",
       "\n",
       "    .dataframe thead th {\n",
       "        text-align: right;\n",
       "    }\n",
       "</style>\n",
       "<table border=\"1\" class=\"dataframe\">\n",
       "  <thead>\n",
       "    <tr style=\"text-align: right;\">\n",
       "      <th></th>\n",
       "      <th>CaseID</th>\n",
       "      <th>Duration</th>\n",
       "    </tr>\n",
       "  </thead>\n",
       "  <tbody>\n",
       "    <tr>\n",
       "      <th>count</th>\n",
       "      <td>12173.000000</td>\n",
       "      <td>12173.000000</td>\n",
       "    </tr>\n",
       "    <tr>\n",
       "      <th>mean</th>\n",
       "      <td>6128.818040</td>\n",
       "      <td>6760.722418</td>\n",
       "    </tr>\n",
       "    <tr>\n",
       "      <th>std</th>\n",
       "      <td>3534.659266</td>\n",
       "      <td>39141.086269</td>\n",
       "    </tr>\n",
       "    <tr>\n",
       "      <th>min</th>\n",
       "      <td>1.000000</td>\n",
       "      <td>362.000000</td>\n",
       "    </tr>\n",
       "    <tr>\n",
       "      <th>25%</th>\n",
       "      <td>3067.000000</td>\n",
       "      <td>876.000000</td>\n",
       "    </tr>\n",
       "    <tr>\n",
       "      <th>50%</th>\n",
       "      <td>6135.000000</td>\n",
       "      <td>1149.000000</td>\n",
       "    </tr>\n",
       "    <tr>\n",
       "      <th>75%</th>\n",
       "      <td>9191.000000</td>\n",
       "      <td>1640.000000</td>\n",
       "    </tr>\n",
       "    <tr>\n",
       "      <th>max</th>\n",
       "      <td>12238.000000</td>\n",
       "      <td>850226.000000</td>\n",
       "    </tr>\n",
       "  </tbody>\n",
       "</table>\n",
       "</div>"
      ],
      "text/plain": [
       "             CaseID       Duration\n",
       "count  12173.000000   12173.000000\n",
       "mean    6128.818040    6760.722418\n",
       "std     3534.659266   39141.086269\n",
       "min        1.000000     362.000000\n",
       "25%     3067.000000     876.000000\n",
       "50%     6135.000000    1149.000000\n",
       "75%     9191.000000    1640.000000\n",
       "max    12238.000000  850226.000000"
      ]
     },
     "execution_count": 4,
     "metadata": {},
     "output_type": "execute_result"
    }
   ],
   "source": [
    "shed.describe()"
   ]
  },
  {
   "cell_type": "code",
   "execution_count": 5,
   "metadata": {},
   "outputs": [
    {
     "data": {
      "text/plain": [
       "Index(['CaseID', 'Duration', 'B2', 'B7_a', 'B7_b', 'D1A', 'D1E', 'EF3_a',\n",
       "       'EF3_b', 'EF3_c', 'EF3_d', 'EF3_e', 'EF3_f', 'EF3_g', 'EF3_h'],\n",
       "      dtype='object')"
      ]
     },
     "execution_count": 5,
     "metadata": {},
     "output_type": "execute_result"
    }
   ],
   "source": [
    "shed.columns"
   ]
  },
  {
   "cell_type": "markdown",
   "metadata": {},
   "source": [
    "## Quick overview of emergency variable responses"
   ]
  },
  {
   "cell_type": "code",
   "execution_count": 6,
   "metadata": {},
   "outputs": [
    {
     "data": {
      "text/plain": [
       "Index(['EF3_a', 'EF3_b', 'EF3_c', 'EF3_d', 'EF3_e', 'EF3_f', 'EF3_g', 'EF3_h'], dtype='object')"
      ]
     },
     "execution_count": 6,
     "metadata": {},
     "output_type": "execute_result"
    }
   ],
   "source": [
    "# identify columns with EF3\n",
    "efcol = shed.columns[shed.columns.str.match('EF3')]\n",
    "efcol"
   ]
  },
  {
   "cell_type": "code",
   "execution_count": 7,
   "metadata": {},
   "outputs": [
    {
     "data": {
      "text/plain": [
       "EF3_a    4468\n",
       "EF3_b    1840\n",
       "EF3_c    5737\n",
       "EF3_d     302\n",
       "EF3_e    1042\n",
       "EF3_f     171\n",
       "EF3_g     700\n",
       "EF3_h    1303\n",
       "dtype: int64"
      ]
     },
     "execution_count": 7,
     "metadata": {},
     "output_type": "execute_result"
    }
   ],
   "source": [
    "# count the 'yes' responses\n",
    "# remember people say yes to more than one sometimes!\n",
    "\n",
    "shed.loc[:, efcol].apply(lambda x: x.value_counts()['yes'])"
   ]
  },
  {
   "cell_type": "code",
   "execution_count": 8,
   "metadata": {},
   "outputs": [
    {
     "data": {
      "text/plain": [
       "cc_infull         4468\n",
       "cc_overtime       1840\n",
       "cash              5737\n",
       "bank_loan          302\n",
       "friend_loan       1042\n",
       "payday_loan        171\n",
       "sell_something     700\n",
       "unable            1303\n",
       "dtype: int64"
      ]
     },
     "execution_count": 8,
     "metadata": {},
     "output_type": "execute_result"
    }
   ],
   "source": [
    "# with better index labels, for plotting\n",
    "\n",
    "ef3 = shed.loc[:, efcol].apply(lambda x: x.value_counts()['yes'])\n",
    "ef3.index = ef3.index.map({'EF3_a' : 'cc_infull', 'EF3_b': 'cc_overtime', 'EF3_c': 'cash', 'EF3_d': 'bank_loan',\n",
    "                          'EF3_e': 'friend_loan', 'EF3_f': 'payday_loan', 'EF3_g': 'sell_something', 'EF3_h': 'unable'})\n",
    "\n",
    "ef3"
   ]
  },
  {
   "cell_type": "code",
   "execution_count": 9,
   "metadata": {},
   "outputs": [
    {
     "data": {
      "image/png": "[encoded data removed]",
      "text/plain": [
       "<Figure size 864x720 with 1 Axes>"
      ]
     },
     "metadata": {
      "needs_background": "light"
     },
     "output_type": "display_data"
    }
   ],
   "source": [
    "ef3.plot(kind = 'bar', color = pal[2], figsize = (12, 10), \n",
    "        title = 'How would you pay for a $400 emergency?\\nSHED survey 2019')\n",
    "\n",
    "plt.savefig('images/shed_emergency_full.jpeg')"
   ]
  },
  {
   "cell_type": "code",
   "execution_count": 10,
   "metadata": {},
   "outputs": [],
   "source": [
    "# divide by total number of respondents in the survey\n",
    "\n",
    "ef3 = ef3 / shed.shape[0]"
   ]
  },
  {
   "cell_type": "code",
   "execution_count": 11,
   "metadata": {},
   "outputs": [
    {
     "data": {
      "text/plain": [
       "cc_infull         0.367042\n",
       "cc_overtime       0.151154\n",
       "cash              0.471289\n",
       "bank_loan         0.024809\n",
       "friend_loan       0.085599\n",
       "payday_loan       0.014047\n",
       "sell_something    0.057504\n",
       "unable            0.107040\n",
       "dtype: float64"
      ]
     },
     "execution_count": 11,
     "metadata": {},
     "output_type": "execute_result"
    }
   ],
   "source": [
    "ef3"
   ]
  },
  {
   "cell_type": "code",
   "execution_count": 12,
   "metadata": {},
   "outputs": [
    {
     "data": {
      "image/png": "[encoded data removed]",
      "text/plain": [
       "<Figure size 864x720 with 1 Axes>"
      ]
     },
     "metadata": {
      "needs_background": "light"
     },
     "output_type": "display_data"
    }
   ],
   "source": [
    "ef3.plot(kind = 'bar', color = pal[2], figsize = (12, 10), \n",
    "        title = 'How would you pay for a $400 emergency?\\nSHED survey 2019\\nBut wait! These do not add to 1.')\n",
    "\n",
    "plt.savefig('images/shed_emergency_full_normalized.jpeg')"
   ]
  },
  {
   "cell_type": "markdown",
   "metadata": {},
   "source": [
    "## Q: How many can pay a \\$400 emergency with cash?\n",
    "Ignores missing values by default. \n",
    "\n",
    "Note this differs from ['cash or equivalent'](https://www.federalreserve.gov/publications/2020-economic-well-being-of-us-households-in-2019-dealing-with-unexpected-expenses.htm) since it does not include credit card paid next month."
   ]
  },
  {
   "cell_type": "code",
   "execution_count": 13,
   "metadata": {},
   "outputs": [
    {
     "data": {
      "text/plain": [
       "no     6379\n",
       "yes    5737\n",
       "Name: EF3_c, dtype: int64"
      ]
     },
     "execution_count": 13,
     "metadata": {},
     "output_type": "execute_result"
    }
   ],
   "source": [
    "shed.loc[:, 'EF3_c'].value_counts()"
   ]
  },
  {
   "cell_type": "markdown",
   "metadata": {},
   "source": [
    "### What proportion? Include missing or no?\n",
    "In this case it doesn't matter because by far most people answered the question.\n",
    "\n",
    "#### pay cash / total non-missing answers"
   ]
  },
  {
   "cell_type": "code",
   "execution_count": 14,
   "metadata": {},
   "outputs": [
    {
     "data": {
      "text/plain": [
       "no     0.526494\n",
       "yes    0.473506\n",
       "Name: EF3_c, dtype: float64"
      ]
     },
     "execution_count": 14,
     "metadata": {},
     "output_type": "execute_result"
    }
   ],
   "source": [
    "shed.loc[:, 'EF3_c'].value_counts(normalize = True)"
   ]
  },
  {
   "cell_type": "markdown",
   "metadata": {},
   "source": [
    "#### pay cash / total rows in data\n",
    "No big deal here."
   ]
  },
  {
   "cell_type": "code",
   "execution_count": 15,
   "metadata": {},
   "outputs": [
    {
     "data": {
      "text/plain": [
       "no     0.524029\n",
       "yes    0.471289\n",
       "NaN    0.004682\n",
       "Name: EF3_c, dtype: float64"
      ]
     },
     "execution_count": 15,
     "metadata": {},
     "output_type": "execute_result"
    }
   ],
   "source": [
    "shed.loc[:, 'EF3_c'].value_counts(normalize = True, dropna = False)"
   ]
  },
  {
   "cell_type": "code",
   "execution_count": 16,
   "metadata": {},
   "outputs": [
    {
     "data": {
      "text/plain": [
       "EF3_c  D1A\n",
       "no     no     2640\n",
       "       yes    3739\n",
       "yes    no     2128\n",
       "       yes    3609\n",
       "Name: CaseID, dtype: int64"
      ]
     },
     "execution_count": 16,
     "metadata": {},
     "output_type": "execute_result"
    }
   ],
   "source": [
    "shed.groupby(['EF3_c', 'D1A']).CaseID.count()"
   ]
  },
  {
   "cell_type": "markdown",
   "metadata": {},
   "source": [
    "or like this"
   ]
  },
  {
   "cell_type": "code",
   "execution_count": 17,
   "metadata": {},
   "outputs": [
    {
     "data": {
      "text/plain": [
       "EF3_c  D1A\n",
       "no     no     2640\n",
       "       yes    3739\n",
       "yes    no     2128\n",
       "       yes    3609\n",
       "dtype: int64"
      ]
     },
     "execution_count": 17,
     "metadata": {},
     "output_type": "execute_result"
    }
   ],
   "source": [
    "shed.groupby(['EF3_c', 'D1A']).size()"
   ]
  },
  {
   "cell_type": "code",
   "execution_count": 18,
   "metadata": {},
   "outputs": [
    {
     "data": {
      "text/plain": [
       "<AxesSubplot:xlabel='EF3_c,D1A'>"
      ]
     },
     "execution_count": 18,
     "metadata": {},
     "output_type": "execute_result"
    },
    {
     "data": {
      "image/png": "[encoded data removed]",
      "text/plain": [
       "<Figure size 864x720 with 1 Axes>"
      ]
     },
     "metadata": {
      "needs_background": "light"
     },
     "output_type": "display_data"
    }
   ],
   "source": [
    "shed.groupby(['EF3_c', 'D1A']).size().plot(kind = 'bar', rot = 0, color = pal[0], figsize = (12, 10))"
   ]
  },
  {
   "cell_type": "code",
   "execution_count": 19,
   "metadata": {},
   "outputs": [
    {
     "data": {
      "image/png": "[encoded data removed]",
      "text/plain": [
       "<Figure size 864x720 with 1 Axes>"
      ]
     },
     "metadata": {
      "needs_background": "light"
     },
     "output_type": "display_data"
    }
   ],
   "source": [
    "shed.groupby('B2').agg(\n",
    "    cash = ('EF3_c',  lambda x: x.value_counts(normalize = True)['yes'])\n",
    ").plot(kind = 'bar', legend = None, \n",
    "      xlabel = '\\nHow well managing financially?',\n",
    "      figsize = (12, 10), rot = 0, color = pal[0],\n",
    "      title = 'Proportion who will pay cash for $400 emergency\\nby self-reported economic comfort')"
   ]
  },
  {
   "cell_type": "markdown",
   "metadata": {},
   "source": [
    "## Q: What to do about multiple answers?\n",
    "Some people listed multiple answers for the emergency payment question. Let's find them then see if it's worth exploring some options for how to incorporate this information."
   ]
  },
  {
   "cell_type": "markdown",
   "metadata": {},
   "source": [
    "In the code below: Apply this anonymous function (starts with lambda x: , think of this as f(x) for a function f applied to x)\n",
    "to each row  (apply axis argument tells you which axis to cross. axis = 0 is rows, axis = 1 is cols, so crossing cols applies the function to each row). Not exactly the most efficient way but fine for this size of data.\n",
    "\n",
    "This is a pandas Series object, i.e. same type as a column of a data frame."
   ]
  },
  {
   "cell_type": "code",
   "execution_count": 20,
   "metadata": {},
   "outputs": [
    {
     "data": {
      "text/plain": [
       "0        3\n",
       "1        1\n",
       "2        1\n",
       "3        1\n",
       "4        1\n",
       "        ..\n",
       "12168    1\n",
       "12169    1\n",
       "12170    1\n",
       "12171    1\n",
       "12172    1\n",
       "Length: 12173, dtype: int64"
      ]
     },
     "execution_count": 20,
     "metadata": {},
     "output_type": "execute_result"
    }
   ],
   "source": [
    "shed.apply(lambda x: x.loc[efcol].eq('yes').sum(), axis = 1)"
   ]
  },
  {
   "cell_type": "code",
   "execution_count": 21,
   "metadata": {},
   "outputs": [],
   "source": [
    "# assign it to a new variable in the data frame\n",
    "shed = shed.assign(n_yes = shed.apply(lambda x: x.loc[efcol].eq('yes').sum(), axis = 1))"
   ]
  },
  {
   "cell_type": "code",
   "execution_count": 22,
   "metadata": {},
   "outputs": [
    {
     "data": {
      "text/html": [
       "<div>\n",
       "<style scoped>\n",
       "    .dataframe tbody tr th:only-of-type {\n",
       "        vertical-align: middle;\n",
       "    }\n",
       "\n",
       "    .dataframe tbody tr th {\n",
       "        vertical-align: top;\n",
       "    }\n",
       "\n",
       "    .dataframe thead th {\n",
       "        text-align: right;\n",
       "    }\n",
       "</style>\n",
       "<table border=\"1\" class=\"dataframe\">\n",
       "  <thead>\n",
       "    <tr style=\"text-align: right;\">\n",
       "      <th></th>\n",
       "      <th>CaseID</th>\n",
       "      <th>Duration</th>\n",
       "      <th>B2</th>\n",
       "      <th>B7_a</th>\n",
       "      <th>B7_b</th>\n",
       "      <th>D1A</th>\n",
       "      <th>D1E</th>\n",
       "      <th>EF3_a</th>\n",
       "      <th>EF3_b</th>\n",
       "      <th>EF3_c</th>\n",
       "      <th>EF3_d</th>\n",
       "      <th>EF3_e</th>\n",
       "      <th>EF3_f</th>\n",
       "      <th>EF3_g</th>\n",
       "      <th>EF3_h</th>\n",
       "      <th>n_yes</th>\n",
       "    </tr>\n",
       "  </thead>\n",
       "  <tbody>\n",
       "    <tr>\n",
       "      <th>0</th>\n",
       "      <td>1</td>\n",
       "      <td>24665</td>\n",
       "      <td>doing okay</td>\n",
       "      <td>poor</td>\n",
       "      <td>poor</td>\n",
       "      <td>no</td>\n",
       "      <td>yes</td>\n",
       "      <td>yes</td>\n",
       "      <td>no</td>\n",
       "      <td>yes</td>\n",
       "      <td>no</td>\n",
       "      <td>no</td>\n",
       "      <td>no</td>\n",
       "      <td>yes</td>\n",
       "      <td>no</td>\n",
       "      <td>3</td>\n",
       "    </tr>\n",
       "    <tr>\n",
       "      <th>1</th>\n",
       "      <td>2</td>\n",
       "      <td>721</td>\n",
       "      <td>doing okay</td>\n",
       "      <td>good</td>\n",
       "      <td>good</td>\n",
       "      <td>no</td>\n",
       "      <td>yes</td>\n",
       "      <td>no</td>\n",
       "      <td>no</td>\n",
       "      <td>yes</td>\n",
       "      <td>no</td>\n",
       "      <td>no</td>\n",
       "      <td>no</td>\n",
       "      <td>no</td>\n",
       "      <td>no</td>\n",
       "      <td>1</td>\n",
       "    </tr>\n",
       "    <tr>\n",
       "      <th>2</th>\n",
       "      <td>3</td>\n",
       "      <td>937</td>\n",
       "      <td>doing okay</td>\n",
       "      <td>good</td>\n",
       "      <td>good</td>\n",
       "      <td>yes</td>\n",
       "      <td>no</td>\n",
       "      <td>yes</td>\n",
       "      <td>no</td>\n",
       "      <td>no</td>\n",
       "      <td>no</td>\n",
       "      <td>no</td>\n",
       "      <td>no</td>\n",
       "      <td>no</td>\n",
       "      <td>no</td>\n",
       "      <td>1</td>\n",
       "    </tr>\n",
       "    <tr>\n",
       "      <th>3</th>\n",
       "      <td>4</td>\n",
       "      <td>1066</td>\n",
       "      <td>just getting by</td>\n",
       "      <td>only fair</td>\n",
       "      <td>good</td>\n",
       "      <td>yes</td>\n",
       "      <td>no</td>\n",
       "      <td>no</td>\n",
       "      <td>no</td>\n",
       "      <td>yes</td>\n",
       "      <td>no</td>\n",
       "      <td>no</td>\n",
       "      <td>no</td>\n",
       "      <td>no</td>\n",
       "      <td>no</td>\n",
       "      <td>1</td>\n",
       "    </tr>\n",
       "    <tr>\n",
       "      <th>4</th>\n",
       "      <td>5</td>\n",
       "      <td>1441</td>\n",
       "      <td>living comfortably</td>\n",
       "      <td>good</td>\n",
       "      <td>good</td>\n",
       "      <td>no</td>\n",
       "      <td>no</td>\n",
       "      <td>no</td>\n",
       "      <td>no</td>\n",
       "      <td>yes</td>\n",
       "      <td>no</td>\n",
       "      <td>no</td>\n",
       "      <td>no</td>\n",
       "      <td>no</td>\n",
       "      <td>no</td>\n",
       "      <td>1</td>\n",
       "    </tr>\n",
       "  </tbody>\n",
       "</table>\n",
       "</div>"
      ],
      "text/plain": [
       "   CaseID  Duration                  B2       B7_a  B7_b  D1A  D1E EF3_a  \\\n",
       "0       1     24665          doing okay       poor  poor   no  yes   yes   \n",
       "1       2       721          doing okay       good  good   no  yes    no   \n",
       "2       3       937          doing okay       good  good  yes   no   yes   \n",
       "3       4      1066     just getting by  only fair  good  yes   no    no   \n",
       "4       5      1441  living comfortably       good  good   no   no    no   \n",
       "\n",
       "  EF3_b EF3_c EF3_d EF3_e EF3_f EF3_g EF3_h  n_yes  \n",
       "0    no   yes    no    no    no   yes    no      3  \n",
       "1    no   yes    no    no    no    no    no      1  \n",
       "2    no    no    no    no    no    no    no      1  \n",
       "3    no   yes    no    no    no    no    no      1  \n",
       "4    no   yes    no    no    no    no    no      1  "
      ]
     },
     "execution_count": 22,
     "metadata": {},
     "output_type": "execute_result"
    }
   ],
   "source": [
    "shed.head()"
   ]
  },
  {
   "cell_type": "code",
   "execution_count": 23,
   "metadata": {},
   "outputs": [
    {
     "data": {
      "text/plain": [
       "<AxesSubplot:>"
      ]
     },
     "execution_count": 23,
     "metadata": {},
     "output_type": "execute_result"
    },
    {
     "data": {
      "image/png": "[encoded data removed]",
      "text/plain": [
       "<Figure size 432x288 with 1 Axes>"
      ]
     },
     "metadata": {
      "needs_background": "light"
     },
     "output_type": "display_data"
    }
   ],
   "source": [
    "shed.n_yes.value_counts(normalize = True, sort = False).plot(kind = 'bar', color = pal[0])"
   ]
  },
  {
   "cell_type": "code",
   "execution_count": 24,
   "metadata": {},
   "outputs": [
    {
     "data": {
      "text/html": [
       "<div>\n",
       "<style scoped>\n",
       "    .dataframe tbody tr th:only-of-type {\n",
       "        vertical-align: middle;\n",
       "    }\n",
       "\n",
       "    .dataframe tbody tr th {\n",
       "        vertical-align: top;\n",
       "    }\n",
       "\n",
       "    .dataframe thead th {\n",
       "        text-align: right;\n",
       "    }\n",
       "</style>\n",
       "<table border=\"1\" class=\"dataframe\">\n",
       "  <thead>\n",
       "    <tr style=\"text-align: right;\">\n",
       "      <th></th>\n",
       "      <th>n_yes</th>\n",
       "      <th>B2</th>\n",
       "      <th>size</th>\n",
       "    </tr>\n",
       "  </thead>\n",
       "  <tbody>\n",
       "    <tr>\n",
       "      <th>0</th>\n",
       "      <td>0</td>\n",
       "      <td>doing okay</td>\n",
       "      <td>25</td>\n",
       "    </tr>\n",
       "    <tr>\n",
       "      <th>1</th>\n",
       "      <td>0</td>\n",
       "      <td>finding it difficult to get by</td>\n",
       "      <td>3</td>\n",
       "    </tr>\n",
       "    <tr>\n",
       "      <th>2</th>\n",
       "      <td>0</td>\n",
       "      <td>just getting by</td>\n",
       "      <td>14</td>\n",
       "    </tr>\n",
       "    <tr>\n",
       "      <th>3</th>\n",
       "      <td>0</td>\n",
       "      <td>living comfortably</td>\n",
       "      <td>15</td>\n",
       "    </tr>\n",
       "    <tr>\n",
       "      <th>4</th>\n",
       "      <td>1</td>\n",
       "      <td>doing okay</td>\n",
       "      <td>3778</td>\n",
       "    </tr>\n",
       "    <tr>\n",
       "      <th>5</th>\n",
       "      <td>1</td>\n",
       "      <td>finding it difficult to get by</td>\n",
       "      <td>549</td>\n",
       "    </tr>\n",
       "    <tr>\n",
       "      <th>6</th>\n",
       "      <td>1</td>\n",
       "      <td>just getting by</td>\n",
       "      <td>1538</td>\n",
       "    </tr>\n",
       "    <tr>\n",
       "      <th>7</th>\n",
       "      <td>1</td>\n",
       "      <td>living comfortably</td>\n",
       "      <td>3708</td>\n",
       "    </tr>\n",
       "    <tr>\n",
       "      <th>8</th>\n",
       "      <td>2</td>\n",
       "      <td>doing okay</td>\n",
       "      <td>731</td>\n",
       "    </tr>\n",
       "    <tr>\n",
       "      <th>9</th>\n",
       "      <td>2</td>\n",
       "      <td>finding it difficult to get by</td>\n",
       "      <td>117</td>\n",
       "    </tr>\n",
       "    <tr>\n",
       "      <th>10</th>\n",
       "      <td>2</td>\n",
       "      <td>just getting by</td>\n",
       "      <td>360</td>\n",
       "    </tr>\n",
       "    <tr>\n",
       "      <th>11</th>\n",
       "      <td>2</td>\n",
       "      <td>living comfortably</td>\n",
       "      <td>633</td>\n",
       "    </tr>\n",
       "    <tr>\n",
       "      <th>12</th>\n",
       "      <td>3</td>\n",
       "      <td>doing okay</td>\n",
       "      <td>208</td>\n",
       "    </tr>\n",
       "    <tr>\n",
       "      <th>13</th>\n",
       "      <td>3</td>\n",
       "      <td>finding it difficult to get by</td>\n",
       "      <td>68</td>\n",
       "    </tr>\n",
       "    <tr>\n",
       "      <th>14</th>\n",
       "      <td>3</td>\n",
       "      <td>just getting by</td>\n",
       "      <td>169</td>\n",
       "    </tr>\n",
       "    <tr>\n",
       "      <th>15</th>\n",
       "      <td>3</td>\n",
       "      <td>living comfortably</td>\n",
       "      <td>71</td>\n",
       "    </tr>\n",
       "    <tr>\n",
       "      <th>16</th>\n",
       "      <td>4</td>\n",
       "      <td>doing okay</td>\n",
       "      <td>52</td>\n",
       "    </tr>\n",
       "    <tr>\n",
       "      <th>17</th>\n",
       "      <td>4</td>\n",
       "      <td>finding it difficult to get by</td>\n",
       "      <td>18</td>\n",
       "    </tr>\n",
       "    <tr>\n",
       "      <th>18</th>\n",
       "      <td>4</td>\n",
       "      <td>just getting by</td>\n",
       "      <td>53</td>\n",
       "    </tr>\n",
       "    <tr>\n",
       "      <th>19</th>\n",
       "      <td>4</td>\n",
       "      <td>living comfortably</td>\n",
       "      <td>13</td>\n",
       "    </tr>\n",
       "    <tr>\n",
       "      <th>20</th>\n",
       "      <td>5</td>\n",
       "      <td>doing okay</td>\n",
       "      <td>13</td>\n",
       "    </tr>\n",
       "    <tr>\n",
       "      <th>21</th>\n",
       "      <td>5</td>\n",
       "      <td>finding it difficult to get by</td>\n",
       "      <td>9</td>\n",
       "    </tr>\n",
       "    <tr>\n",
       "      <th>22</th>\n",
       "      <td>5</td>\n",
       "      <td>just getting by</td>\n",
       "      <td>11</td>\n",
       "    </tr>\n",
       "    <tr>\n",
       "      <th>23</th>\n",
       "      <td>5</td>\n",
       "      <td>living comfortably</td>\n",
       "      <td>2</td>\n",
       "    </tr>\n",
       "    <tr>\n",
       "      <th>24</th>\n",
       "      <td>6</td>\n",
       "      <td>doing okay</td>\n",
       "      <td>3</td>\n",
       "    </tr>\n",
       "    <tr>\n",
       "      <th>25</th>\n",
       "      <td>6</td>\n",
       "      <td>finding it difficult to get by</td>\n",
       "      <td>1</td>\n",
       "    </tr>\n",
       "    <tr>\n",
       "      <th>26</th>\n",
       "      <td>7</td>\n",
       "      <td>living comfortably</td>\n",
       "      <td>1</td>\n",
       "    </tr>\n",
       "  </tbody>\n",
       "</table>\n",
       "</div>"
      ],
      "text/plain": [
       "    n_yes                              B2  size\n",
       "0       0                      doing okay    25\n",
       "1       0  finding it difficult to get by     3\n",
       "2       0                 just getting by    14\n",
       "3       0              living comfortably    15\n",
       "4       1                      doing okay  3778\n",
       "5       1  finding it difficult to get by   549\n",
       "6       1                 just getting by  1538\n",
       "7       1              living comfortably  3708\n",
       "8       2                      doing okay   731\n",
       "9       2  finding it difficult to get by   117\n",
       "10      2                 just getting by   360\n",
       "11      2              living comfortably   633\n",
       "12      3                      doing okay   208\n",
       "13      3  finding it difficult to get by    68\n",
       "14      3                 just getting by   169\n",
       "15      3              living comfortably    71\n",
       "16      4                      doing okay    52\n",
       "17      4  finding it difficult to get by    18\n",
       "18      4                 just getting by    53\n",
       "19      4              living comfortably    13\n",
       "20      5                      doing okay    13\n",
       "21      5  finding it difficult to get by     9\n",
       "22      5                 just getting by    11\n",
       "23      5              living comfortably     2\n",
       "24      6                      doing okay     3\n",
       "25      6  finding it difficult to get by     1\n",
       "26      7              living comfortably     1"
      ]
     },
     "execution_count": 24,
     "metadata": {},
     "output_type": "execute_result"
    }
   ],
   "source": [
    "# size vs count: size gives number of rows, count is number of non-missing values\n",
    "shed.groupby(['n_yes', 'B2'], as_index = False).size()"
   ]
  },
  {
   "cell_type": "code",
   "execution_count": 25,
   "metadata": {},
   "outputs": [
    {
     "data": {
      "text/html": [
       "<div>\n",
       "<style scoped>\n",
       "    .dataframe tbody tr th:only-of-type {\n",
       "        vertical-align: middle;\n",
       "    }\n",
       "\n",
       "    .dataframe tbody tr th {\n",
       "        vertical-align: top;\n",
       "    }\n",
       "\n",
       "    .dataframe thead th {\n",
       "        text-align: right;\n",
       "    }\n",
       "</style>\n",
       "<table border=\"1\" class=\"dataframe\">\n",
       "  <thead>\n",
       "    <tr style=\"text-align: right;\">\n",
       "      <th>B2</th>\n",
       "      <th>doing okay</th>\n",
       "      <th>finding it difficult to get by</th>\n",
       "      <th>just getting by</th>\n",
       "      <th>living comfortably</th>\n",
       "    </tr>\n",
       "    <tr>\n",
       "      <th>n_yes</th>\n",
       "      <th></th>\n",
       "      <th></th>\n",
       "      <th></th>\n",
       "      <th></th>\n",
       "    </tr>\n",
       "  </thead>\n",
       "  <tbody>\n",
       "    <tr>\n",
       "      <th>0</th>\n",
       "      <td>25.0</td>\n",
       "      <td>3.0</td>\n",
       "      <td>14.0</td>\n",
       "      <td>15.0</td>\n",
       "    </tr>\n",
       "    <tr>\n",
       "      <th>1</th>\n",
       "      <td>3778.0</td>\n",
       "      <td>549.0</td>\n",
       "      <td>1538.0</td>\n",
       "      <td>3708.0</td>\n",
       "    </tr>\n",
       "    <tr>\n",
       "      <th>2</th>\n",
       "      <td>731.0</td>\n",
       "      <td>117.0</td>\n",
       "      <td>360.0</td>\n",
       "      <td>633.0</td>\n",
       "    </tr>\n",
       "    <tr>\n",
       "      <th>3</th>\n",
       "      <td>208.0</td>\n",
       "      <td>68.0</td>\n",
       "      <td>169.0</td>\n",
       "      <td>71.0</td>\n",
       "    </tr>\n",
       "    <tr>\n",
       "      <th>4</th>\n",
       "      <td>52.0</td>\n",
       "      <td>18.0</td>\n",
       "      <td>53.0</td>\n",
       "      <td>13.0</td>\n",
       "    </tr>\n",
       "    <tr>\n",
       "      <th>5</th>\n",
       "      <td>13.0</td>\n",
       "      <td>9.0</td>\n",
       "      <td>11.0</td>\n",
       "      <td>2.0</td>\n",
       "    </tr>\n",
       "    <tr>\n",
       "      <th>6</th>\n",
       "      <td>3.0</td>\n",
       "      <td>1.0</td>\n",
       "      <td>NaN</td>\n",
       "      <td>NaN</td>\n",
       "    </tr>\n",
       "    <tr>\n",
       "      <th>7</th>\n",
       "      <td>NaN</td>\n",
       "      <td>NaN</td>\n",
       "      <td>NaN</td>\n",
       "      <td>1.0</td>\n",
       "    </tr>\n",
       "  </tbody>\n",
       "</table>\n",
       "</div>"
      ],
      "text/plain": [
       "B2     doing okay  finding it difficult to get by  just getting by  \\\n",
       "n_yes                                                                \n",
       "0            25.0                             3.0             14.0   \n",
       "1          3778.0                           549.0           1538.0   \n",
       "2           731.0                           117.0            360.0   \n",
       "3           208.0                            68.0            169.0   \n",
       "4            52.0                            18.0             53.0   \n",
       "5            13.0                             9.0             11.0   \n",
       "6             3.0                             1.0              NaN   \n",
       "7             NaN                             NaN              NaN   \n",
       "\n",
       "B2     living comfortably  \n",
       "n_yes                      \n",
       "0                    15.0  \n",
       "1                  3708.0  \n",
       "2                   633.0  \n",
       "3                    71.0  \n",
       "4                    13.0  \n",
       "5                     2.0  \n",
       "6                     NaN  \n",
       "7                     1.0  "
      ]
     },
     "execution_count": 25,
     "metadata": {},
     "output_type": "execute_result"
    }
   ],
   "source": [
    "# for easier plotting\n",
    "shed.groupby(['n_yes', 'B2'], as_index = False).size().pivot(index = 'n_yes', columns = 'B2', values = 'size')"
   ]
  },
  {
   "cell_type": "code",
   "execution_count": 26,
   "metadata": {},
   "outputs": [
    {
     "data": {
      "text/html": [
       "<div>\n",
       "<style scoped>\n",
       "    .dataframe tbody tr th:only-of-type {\n",
       "        vertical-align: middle;\n",
       "    }\n",
       "\n",
       "    .dataframe tbody tr th {\n",
       "        vertical-align: top;\n",
       "    }\n",
       "\n",
       "    .dataframe thead th {\n",
       "        text-align: right;\n",
       "    }\n",
       "</style>\n",
       "<table border=\"1\" class=\"dataframe\">\n",
       "  <thead>\n",
       "    <tr style=\"text-align: right;\">\n",
       "      <th>B2</th>\n",
       "      <th>doing okay</th>\n",
       "      <th>finding it difficult to get by</th>\n",
       "      <th>just getting by</th>\n",
       "      <th>living comfortably</th>\n",
       "    </tr>\n",
       "    <tr>\n",
       "      <th>n_yes</th>\n",
       "      <th></th>\n",
       "      <th></th>\n",
       "      <th></th>\n",
       "      <th></th>\n",
       "    </tr>\n",
       "  </thead>\n",
       "  <tbody>\n",
       "    <tr>\n",
       "      <th>0</th>\n",
       "      <td>25.0</td>\n",
       "      <td>3.0</td>\n",
       "      <td>14.0</td>\n",
       "      <td>15.0</td>\n",
       "    </tr>\n",
       "    <tr>\n",
       "      <th>1</th>\n",
       "      <td>3778.0</td>\n",
       "      <td>549.0</td>\n",
       "      <td>1538.0</td>\n",
       "      <td>3708.0</td>\n",
       "    </tr>\n",
       "    <tr>\n",
       "      <th>2</th>\n",
       "      <td>731.0</td>\n",
       "      <td>117.0</td>\n",
       "      <td>360.0</td>\n",
       "      <td>633.0</td>\n",
       "    </tr>\n",
       "    <tr>\n",
       "      <th>3</th>\n",
       "      <td>208.0</td>\n",
       "      <td>68.0</td>\n",
       "      <td>169.0</td>\n",
       "      <td>71.0</td>\n",
       "    </tr>\n",
       "    <tr>\n",
       "      <th>4</th>\n",
       "      <td>52.0</td>\n",
       "      <td>18.0</td>\n",
       "      <td>53.0</td>\n",
       "      <td>13.0</td>\n",
       "    </tr>\n",
       "    <tr>\n",
       "      <th>5</th>\n",
       "      <td>13.0</td>\n",
       "      <td>9.0</td>\n",
       "      <td>11.0</td>\n",
       "      <td>2.0</td>\n",
       "    </tr>\n",
       "    <tr>\n",
       "      <th>6</th>\n",
       "      <td>3.0</td>\n",
       "      <td>1.0</td>\n",
       "      <td>NaN</td>\n",
       "      <td>NaN</td>\n",
       "    </tr>\n",
       "    <tr>\n",
       "      <th>7</th>\n",
       "      <td>NaN</td>\n",
       "      <td>NaN</td>\n",
       "      <td>NaN</td>\n",
       "      <td>1.0</td>\n",
       "    </tr>\n",
       "  </tbody>\n",
       "</table>\n",
       "</div>"
      ],
      "text/plain": [
       "B2     doing okay  finding it difficult to get by  just getting by  \\\n",
       "n_yes                                                                \n",
       "0            25.0                             3.0             14.0   \n",
       "1          3778.0                           549.0           1538.0   \n",
       "2           731.0                           117.0            360.0   \n",
       "3           208.0                            68.0            169.0   \n",
       "4            52.0                            18.0             53.0   \n",
       "5            13.0                             9.0             11.0   \n",
       "6             3.0                             1.0              NaN   \n",
       "7             NaN                             NaN              NaN   \n",
       "\n",
       "B2     living comfortably  \n",
       "n_yes                      \n",
       "0                    15.0  \n",
       "1                  3708.0  \n",
       "2                   633.0  \n",
       "3                    71.0  \n",
       "4                    13.0  \n",
       "5                     2.0  \n",
       "6                     NaN  \n",
       "7                     1.0  "
      ]
     },
     "execution_count": 26,
     "metadata": {},
     "output_type": "execute_result"
    }
   ],
   "source": [
    "# or even more concisely\n",
    "dyes = shed.groupby(['n_yes', 'B2']).size().unstack()\n",
    "dyes"
   ]
  },
  {
   "cell_type": "code",
   "execution_count": 27,
   "metadata": {},
   "outputs": [
    {
     "data": {
      "text/plain": [
       "<AxesSubplot:title={'center':'Counts of multiple yes answers to emergency payment question\\nby response to how well managing financially'}, xlabel='n_yes'>"
      ]
     },
     "execution_count": 27,
     "metadata": {},
     "output_type": "execute_result"
    },
    {
     "data": {
      "image/png": "[encoded data removed]",
      "text/plain": [
       "<Figure size 864x720 with 1 Axes>"
      ]
     },
     "metadata": {
      "needs_background": "light"
     },
     "output_type": "display_data"
    }
   ],
   "source": [
    "dyes.plot(kind = 'bar', color = pal, figsize = (12, 10), \n",
    "          title = 'Counts of multiple yes answers to emergency payment question\\nby response to how well managing financially')"
   ]
  },
  {
   "cell_type": "markdown",
   "metadata": {},
   "source": [
    "Since the n_yes group sizes differ, let's look at the proportions within each `n_yes` group. Need to create a series of group sizes for n_yes then divide through.\n",
    "\n",
    "NaN are effectively zeros here, but no need to convert since we won't see them in the plot.\n",
    "\n",
    "If we were dividing rowwise could do `dyes / shed.groupby('n_yes').size()`.c"
   ]
  },
  {
   "cell_type": "code",
   "execution_count": 28,
   "metadata": {},
   "outputs": [
    {
     "data": {
      "text/plain": [
       "n_yes\n",
       "0      57\n",
       "1    9583\n",
       "2    1841\n",
       "3     516\n",
       "4     136\n",
       "5      35\n",
       "6       4\n",
       "7       1\n",
       "dtype: int64"
      ]
     },
     "execution_count": 28,
     "metadata": {},
     "output_type": "execute_result"
    }
   ],
   "source": [
    "shed.groupby('n_yes').size()"
   ]
  },
  {
   "cell_type": "markdown",
   "metadata": {},
   "source": [
    "If we were dividing along columns for each row could do `dyes / shed.groupby('n_yes').size()`. But we want to divide along rows for each column, so use the .div method.\n",
    "\n",
    "Each row sums to one."
   ]
  },
  {
   "cell_type": "code",
   "execution_count": 29,
   "metadata": {},
   "outputs": [
    {
     "data": {
      "text/html": [
       "<div>\n",
       "<style scoped>\n",
       "    .dataframe tbody tr th:only-of-type {\n",
       "        vertical-align: middle;\n",
       "    }\n",
       "\n",
       "    .dataframe tbody tr th {\n",
       "        vertical-align: top;\n",
       "    }\n",
       "\n",
       "    .dataframe thead th {\n",
       "        text-align: right;\n",
       "    }\n",
       "</style>\n",
       "<table border=\"1\" class=\"dataframe\">\n",
       "  <thead>\n",
       "    <tr style=\"text-align: right;\">\n",
       "      <th>B2</th>\n",
       "      <th>doing okay</th>\n",
       "      <th>finding it difficult to get by</th>\n",
       "      <th>just getting by</th>\n",
       "      <th>living comfortably</th>\n",
       "    </tr>\n",
       "    <tr>\n",
       "      <th>n_yes</th>\n",
       "      <th></th>\n",
       "      <th></th>\n",
       "      <th></th>\n",
       "      <th></th>\n",
       "    </tr>\n",
       "  </thead>\n",
       "  <tbody>\n",
       "    <tr>\n",
       "      <th>0</th>\n",
       "      <td>0.438596</td>\n",
       "      <td>0.052632</td>\n",
       "      <td>0.245614</td>\n",
       "      <td>0.263158</td>\n",
       "    </tr>\n",
       "    <tr>\n",
       "      <th>1</th>\n",
       "      <td>0.394240</td>\n",
       "      <td>0.057289</td>\n",
       "      <td>0.160493</td>\n",
       "      <td>0.386935</td>\n",
       "    </tr>\n",
       "    <tr>\n",
       "      <th>2</th>\n",
       "      <td>0.397067</td>\n",
       "      <td>0.063552</td>\n",
       "      <td>0.195546</td>\n",
       "      <td>0.343835</td>\n",
       "    </tr>\n",
       "    <tr>\n",
       "      <th>3</th>\n",
       "      <td>0.403101</td>\n",
       "      <td>0.131783</td>\n",
       "      <td>0.327519</td>\n",
       "      <td>0.137597</td>\n",
       "    </tr>\n",
       "    <tr>\n",
       "      <th>4</th>\n",
       "      <td>0.382353</td>\n",
       "      <td>0.132353</td>\n",
       "      <td>0.389706</td>\n",
       "      <td>0.095588</td>\n",
       "    </tr>\n",
       "    <tr>\n",
       "      <th>5</th>\n",
       "      <td>0.371429</td>\n",
       "      <td>0.257143</td>\n",
       "      <td>0.314286</td>\n",
       "      <td>0.057143</td>\n",
       "    </tr>\n",
       "    <tr>\n",
       "      <th>6</th>\n",
       "      <td>0.750000</td>\n",
       "      <td>0.250000</td>\n",
       "      <td>NaN</td>\n",
       "      <td>NaN</td>\n",
       "    </tr>\n",
       "    <tr>\n",
       "      <th>7</th>\n",
       "      <td>NaN</td>\n",
       "      <td>NaN</td>\n",
       "      <td>NaN</td>\n",
       "      <td>1.000000</td>\n",
       "    </tr>\n",
       "  </tbody>\n",
       "</table>\n",
       "</div>"
      ],
      "text/plain": [
       "B2     doing okay  finding it difficult to get by  just getting by  \\\n",
       "n_yes                                                                \n",
       "0        0.438596                        0.052632         0.245614   \n",
       "1        0.394240                        0.057289         0.160493   \n",
       "2        0.397067                        0.063552         0.195546   \n",
       "3        0.403101                        0.131783         0.327519   \n",
       "4        0.382353                        0.132353         0.389706   \n",
       "5        0.371429                        0.257143         0.314286   \n",
       "6        0.750000                        0.250000              NaN   \n",
       "7             NaN                             NaN              NaN   \n",
       "\n",
       "B2     living comfortably  \n",
       "n_yes                      \n",
       "0                0.263158  \n",
       "1                0.386935  \n",
       "2                0.343835  \n",
       "3                0.137597  \n",
       "4                0.095588  \n",
       "5                0.057143  \n",
       "6                     NaN  \n",
       "7                1.000000  "
      ]
     },
     "execution_count": 29,
     "metadata": {},
     "output_type": "execute_result"
    }
   ],
   "source": [
    "dyes.div(shed.groupby('n_yes').size(), axis = 'rows')"
   ]
  },
  {
   "cell_type": "code",
   "execution_count": 30,
   "metadata": {},
   "outputs": [
    {
     "data": {
      "text/plain": [
       "B2\n",
       "doing okay                        0.438596\n",
       "finding it difficult to get by    0.052632\n",
       "just getting by                   0.245614\n",
       "living comfortably                0.263158\n",
       "Name: 0, dtype: float64"
      ]
     },
     "execution_count": 30,
     "metadata": {},
     "output_type": "execute_result"
    }
   ],
   "source": [
    "# check for yourself what's going on, with the n_yes = 0 row\n",
    "# this should be the same as the first row above\n",
    "dyes.loc[0] / shed.groupby('n_yes').size()[0]"
   ]
  },
  {
   "cell_type": "code",
   "execution_count": 31,
   "metadata": {},
   "outputs": [
    {
     "data": {
      "image/png": "[encoded data removed]",
      "text/plain": [
       "<Figure size 864x720 with 1 Axes>"
      ]
     },
     "metadata": {
      "needs_background": "light"
     },
     "output_type": "display_data"
    }
   ],
   "source": [
    "dyes.div(shed.groupby('n_yes').size(), axis = 'rows').plot(kind = 'bar', color = pal, figsize = (12, 10), \n",
    "          title = 'Economic security self-rating\\nproportion by number of different emergency payment methods')\n",
    "\n",
    "plt.savefig('images/shed_security_by_nanswer.jpeg')"
   ]
  },
  {
   "cell_type": "markdown",
   "metadata": {},
   "source": [
    "Let's flip it! Proportion within each managing financially response group.\n",
    "\n",
    "Now each column sums to one."
   ]
  },
  {
   "cell_type": "code",
   "execution_count": 32,
   "metadata": {},
   "outputs": [
    {
     "data": {
      "text/html": [
       "<div>\n",
       "<style scoped>\n",
       "    .dataframe tbody tr th:only-of-type {\n",
       "        vertical-align: middle;\n",
       "    }\n",
       "\n",
       "    .dataframe tbody tr th {\n",
       "        vertical-align: top;\n",
       "    }\n",
       "\n",
       "    .dataframe thead th {\n",
       "        text-align: right;\n",
       "    }\n",
       "</style>\n",
       "<table border=\"1\" class=\"dataframe\">\n",
       "  <thead>\n",
       "    <tr style=\"text-align: right;\">\n",
       "      <th>B2</th>\n",
       "      <th>doing okay</th>\n",
       "      <th>finding it difficult to get by</th>\n",
       "      <th>just getting by</th>\n",
       "      <th>living comfortably</th>\n",
       "    </tr>\n",
       "    <tr>\n",
       "      <th>n_yes</th>\n",
       "      <th></th>\n",
       "      <th></th>\n",
       "      <th></th>\n",
       "      <th></th>\n",
       "    </tr>\n",
       "  </thead>\n",
       "  <tbody>\n",
       "    <tr>\n",
       "      <th>0</th>\n",
       "      <td>0.005198</td>\n",
       "      <td>0.003922</td>\n",
       "      <td>0.006527</td>\n",
       "      <td>0.003376</td>\n",
       "    </tr>\n",
       "    <tr>\n",
       "      <th>1</th>\n",
       "      <td>0.785447</td>\n",
       "      <td>0.717647</td>\n",
       "      <td>0.717016</td>\n",
       "      <td>0.834571</td>\n",
       "    </tr>\n",
       "    <tr>\n",
       "      <th>2</th>\n",
       "      <td>0.151975</td>\n",
       "      <td>0.152941</td>\n",
       "      <td>0.167832</td>\n",
       "      <td>0.142471</td>\n",
       "    </tr>\n",
       "    <tr>\n",
       "      <th>3</th>\n",
       "      <td>0.043243</td>\n",
       "      <td>0.088889</td>\n",
       "      <td>0.078788</td>\n",
       "      <td>0.015980</td>\n",
       "    </tr>\n",
       "    <tr>\n",
       "      <th>4</th>\n",
       "      <td>0.010811</td>\n",
       "      <td>0.023529</td>\n",
       "      <td>0.024709</td>\n",
       "      <td>0.002926</td>\n",
       "    </tr>\n",
       "    <tr>\n",
       "      <th>5</th>\n",
       "      <td>0.002703</td>\n",
       "      <td>0.011765</td>\n",
       "      <td>0.005128</td>\n",
       "      <td>0.000450</td>\n",
       "    </tr>\n",
       "    <tr>\n",
       "      <th>6</th>\n",
       "      <td>0.000624</td>\n",
       "      <td>0.001307</td>\n",
       "      <td>NaN</td>\n",
       "      <td>NaN</td>\n",
       "    </tr>\n",
       "    <tr>\n",
       "      <th>7</th>\n",
       "      <td>NaN</td>\n",
       "      <td>NaN</td>\n",
       "      <td>NaN</td>\n",
       "      <td>0.000225</td>\n",
       "    </tr>\n",
       "  </tbody>\n",
       "</table>\n",
       "</div>"
      ],
      "text/plain": [
       "B2     doing okay  finding it difficult to get by  just getting by  \\\n",
       "n_yes                                                                \n",
       "0        0.005198                        0.003922         0.006527   \n",
       "1        0.785447                        0.717647         0.717016   \n",
       "2        0.151975                        0.152941         0.167832   \n",
       "3        0.043243                        0.088889         0.078788   \n",
       "4        0.010811                        0.023529         0.024709   \n",
       "5        0.002703                        0.011765         0.005128   \n",
       "6        0.000624                        0.001307              NaN   \n",
       "7             NaN                             NaN              NaN   \n",
       "\n",
       "B2     living comfortably  \n",
       "n_yes                      \n",
       "0                0.003376  \n",
       "1                0.834571  \n",
       "2                0.142471  \n",
       "3                0.015980  \n",
       "4                0.002926  \n",
       "5                0.000450  \n",
       "6                     NaN  \n",
       "7                0.000225  "
      ]
     },
     "execution_count": 32,
     "metadata": {},
     "output_type": "execute_result"
    }
   ],
   "source": [
    "dyes.div(shed.groupby('B2').size(), axis = 'columns')"
   ]
  },
  {
   "cell_type": "code",
   "execution_count": 33,
   "metadata": {},
   "outputs": [
    {
     "data": {
      "text/plain": [
       "B2\n",
       "doing okay                        1.0\n",
       "finding it difficult to get by    1.0\n",
       "just getting by                   1.0\n",
       "living comfortably                1.0\n",
       "dtype: float64"
      ]
     },
     "execution_count": 33,
     "metadata": {},
     "output_type": "execute_result"
    }
   ],
   "source": [
    "dyes.div(shed.groupby('B2').size(), axis = 'columns').sum()"
   ]
  },
  {
   "cell_type": "code",
   "execution_count": 34,
   "metadata": {},
   "outputs": [
    {
     "data": {
      "text/html": [
       "<div>\n",
       "<style scoped>\n",
       "    .dataframe tbody tr th:only-of-type {\n",
       "        vertical-align: middle;\n",
       "    }\n",
       "\n",
       "    .dataframe tbody tr th {\n",
       "        vertical-align: top;\n",
       "    }\n",
       "\n",
       "    .dataframe thead th {\n",
       "        text-align: right;\n",
       "    }\n",
       "</style>\n",
       "<table border=\"1\" class=\"dataframe\">\n",
       "  <thead>\n",
       "    <tr style=\"text-align: right;\">\n",
       "      <th>n_yes</th>\n",
       "      <th>0</th>\n",
       "      <th>1</th>\n",
       "      <th>2</th>\n",
       "      <th>3</th>\n",
       "      <th>4</th>\n",
       "      <th>5</th>\n",
       "      <th>6</th>\n",
       "      <th>7</th>\n",
       "    </tr>\n",
       "    <tr>\n",
       "      <th>B2</th>\n",
       "      <th></th>\n",
       "      <th></th>\n",
       "      <th></th>\n",
       "      <th></th>\n",
       "      <th></th>\n",
       "      <th></th>\n",
       "      <th></th>\n",
       "      <th></th>\n",
       "    </tr>\n",
       "  </thead>\n",
       "  <tbody>\n",
       "    <tr>\n",
       "      <th>doing okay</th>\n",
       "      <td>0.005198</td>\n",
       "      <td>0.785447</td>\n",
       "      <td>0.151975</td>\n",
       "      <td>0.043243</td>\n",
       "      <td>0.010811</td>\n",
       "      <td>0.002703</td>\n",
       "      <td>0.000624</td>\n",
       "      <td>NaN</td>\n",
       "    </tr>\n",
       "    <tr>\n",
       "      <th>finding it difficult to get by</th>\n",
       "      <td>0.003922</td>\n",
       "      <td>0.717647</td>\n",
       "      <td>0.152941</td>\n",
       "      <td>0.088889</td>\n",
       "      <td>0.023529</td>\n",
       "      <td>0.011765</td>\n",
       "      <td>0.001307</td>\n",
       "      <td>NaN</td>\n",
       "    </tr>\n",
       "    <tr>\n",
       "      <th>just getting by</th>\n",
       "      <td>0.006527</td>\n",
       "      <td>0.717016</td>\n",
       "      <td>0.167832</td>\n",
       "      <td>0.078788</td>\n",
       "      <td>0.024709</td>\n",
       "      <td>0.005128</td>\n",
       "      <td>NaN</td>\n",
       "      <td>NaN</td>\n",
       "    </tr>\n",
       "    <tr>\n",
       "      <th>living comfortably</th>\n",
       "      <td>0.003376</td>\n",
       "      <td>0.834571</td>\n",
       "      <td>0.142471</td>\n",
       "      <td>0.015980</td>\n",
       "      <td>0.002926</td>\n",
       "      <td>0.000450</td>\n",
       "      <td>NaN</td>\n",
       "      <td>0.000225</td>\n",
       "    </tr>\n",
       "  </tbody>\n",
       "</table>\n",
       "</div>"
      ],
      "text/plain": [
       "n_yes                                  0         1         2         3  \\\n",
       "B2                                                                       \n",
       "doing okay                      0.005198  0.785447  0.151975  0.043243   \n",
       "finding it difficult to get by  0.003922  0.717647  0.152941  0.088889   \n",
       "just getting by                 0.006527  0.717016  0.167832  0.078788   \n",
       "living comfortably              0.003376  0.834571  0.142471  0.015980   \n",
       "\n",
       "n_yes                                  4         5         6         7  \n",
       "B2                                                                      \n",
       "doing okay                      0.010811  0.002703  0.000624       NaN  \n",
       "finding it difficult to get by  0.023529  0.011765  0.001307       NaN  \n",
       "just getting by                 0.024709  0.005128       NaN       NaN  \n",
       "living comfortably              0.002926  0.000450       NaN  0.000225  "
      ]
     },
     "execution_count": 34,
     "metadata": {},
     "output_type": "execute_result"
    }
   ],
   "source": [
    "# transpose (swap columns / index) for nicer plotting\n",
    "dyes.div(shed.groupby('B2').size(), axis = 'columns').transpose()"
   ]
  },
  {
   "cell_type": "code",
   "execution_count": 35,
   "metadata": {},
   "outputs": [
    {
     "data": {
      "text/plain": [
       "<AxesSubplot:title={'center':'Percentage of multiple yes answers to emergency payment question\\n height = in n_yes category / in B2 category'}, xlabel='B2'>"
      ]
     },
     "execution_count": 35,
     "metadata": {},
     "output_type": "execute_result"
    },
    {
     "data": {
      "image/png": "[encoded data removed]",
      "text/plain": [
       "<Figure size 864x720 with 1 Axes>"
      ]
     },
     "metadata": {
      "needs_background": "light"
     },
     "output_type": "display_data"
    }
   ],
   "source": [
    "dyes.div(shed.groupby('B2').size(), axis = 'columns'\n",
    "        ).transpose().plot(kind = 'bar', \n",
    "                           color = pal, figsize = (12, 10), rot = 0, \n",
    "                           title = 'Percentage of multiple yes answers to emergency payment question\\n height = in n_yes category / in B2 category')"
   ]
  },
  {
   "cell_type": "markdown",
   "metadata": {},
   "source": [
    "These are pretty similar, but people who are 'finding it difficult to get by' or 'just getting by' list more than one emergency payment method at higher rates than people in other categories. This is important information if we want to consider dropping rows for which `n_yes != 1`."
   ]
  },
  {
   "cell_type": "markdown",
   "metadata": {},
   "source": [
    "## Emergency payments question: what to do about `n_yes != 1`?\n",
    "\n",
    "\n",
    "### Drop them, recalculate proportion of people paying for emergency with cash or equivalent?\n",
    "\n",
    "Does the picture change? Start with the original all-payment-type bar chart."
   ]
  },
  {
   "cell_type": "code",
   "execution_count": 36,
   "metadata": {},
   "outputs": [
    {
     "data": {
      "text/plain": [
       "cc_infull         0.325681\n",
       "cc_overtime       0.104560\n",
       "cash              0.412710\n",
       "bank_loan         0.009183\n",
       "friend_loan       0.031514\n",
       "payday_loan       0.003026\n",
       "sell_something    0.010226\n",
       "unable            0.103099\n",
       "dtype: float64"
      ]
     },
     "execution_count": 36,
     "metadata": {},
     "output_type": "execute_result"
    }
   ],
   "source": [
    "ef3 = shed.loc[shed.n_yes == 1, efcol].apply(lambda x: x.value_counts(normalize = True)['yes'])\n",
    "ef3.index = ef3.index.map({'EF3_a' : 'cc_infull', 'EF3_b': 'cc_overtime', 'EF3_c': 'cash', 'EF3_d': 'bank_loan',\n",
    "                          'EF3_e': 'friend_loan', 'EF3_f': 'payday_loan', 'EF3_g': 'sell_something', 'EF3_h': 'unable'})\n",
    "\n",
    "ef3"
   ]
  },
  {
   "cell_type": "code",
   "execution_count": 37,
   "metadata": {},
   "outputs": [
    {
     "data": {
      "text/plain": [
       "1.0"
      ]
     },
     "execution_count": 37,
     "metadata": {},
     "output_type": "execute_result"
    }
   ],
   "source": [
    "# these now add to 1\n",
    "ef3.sum()"
   ]
  },
  {
   "cell_type": "code",
   "execution_count": 38,
   "metadata": {},
   "outputs": [
    {
     "data": {
      "image/png": "[encoded data removed]",
      "text/plain": [
       "<Figure size 864x720 with 1 Axes>"
      ]
     },
     "metadata": {
      "needs_background": "light"
     },
     "output_type": "display_data"
    }
   ],
   "source": [
    "ef3.plot(kind = 'bar', color = pal[2], figsize = (12, 10), \n",
    "        title = 'How would you pay for a $400 emergency?\\nrespondents who gave one payment method')\n",
    "\n",
    "plt.savefig('images/shed_emergency_full_oneanswer.jpeg')"
   ]
  },
  {
   "cell_type": "code",
   "execution_count": 39,
   "metadata": {},
   "outputs": [
    {
     "data": {
      "text/plain": [
       "no     0.58729\n",
       "yes    0.41271\n",
       "Name: EF3_c, dtype: float64"
      ]
     },
     "execution_count": 39,
     "metadata": {},
     "output_type": "execute_result"
    }
   ],
   "source": [
    "shed.loc[shed.n_yes == 1, 'EF3_c'].value_counts(normalize = True)"
   ]
  },
  {
   "cell_type": "code",
   "execution_count": 40,
   "metadata": {},
   "outputs": [
    {
     "data": {
      "image/png": "[encoded data removed]",
      "text/plain": [
       "<Figure size 864x720 with 1 Axes>"
      ]
     },
     "metadata": {
      "needs_background": "light"
     },
     "output_type": "display_data"
    }
   ],
   "source": [
    "shed.loc[shed.n_yes == 1].groupby('B2').agg(\n",
    "    cash = ('EF3_c',  lambda x: x.value_counts(normalize = True)['yes'])\n",
    ").plot(kind = 'bar', legend = None, \n",
    "       xlabel = '\\nHow well managing financially?',\n",
    "      figsize = (12, 10), rot = 0, color = pal[0],\n",
    "      title = 'Proportion who only will pay cash or equivalent for $400 emergency\\nby self-reported economic comfort')\n",
    "\n",
    "plt.savefig('images/shed_emergency_oneanswer.jpeg')"
   ]
  },
  {
   "cell_type": "markdown",
   "metadata": {},
   "source": [
    "### Calculate proportion who only chose cash?\n",
    "Slightly different perspective, but a big difference in the result! \n",
    "\n",
    "Count the number who only chose cash, then divide by the total number of respondents (rather than the total number who only gave one answer)."
   ]
  },
  {
   "cell_type": "code",
   "execution_count": 41,
   "metadata": {},
   "outputs": [
    {
     "data": {
      "text/plain": [
       "no     0.462335\n",
       "yes    0.324899\n",
       "Name: EF3_c, dtype: float64"
      ]
     },
     "execution_count": 41,
     "metadata": {},
     "output_type": "execute_result"
    }
   ],
   "source": [
    "shed.loc[shed.n_yes == 1, 'EF3_c'].value_counts() / shed.shape[0]"
   ]
  },
  {
   "cell_type": "code",
   "execution_count": 42,
   "metadata": {},
   "outputs": [
    {
     "data": {
      "text/plain": [
       "0.32489936745255893"
      ]
     },
     "execution_count": 42,
     "metadata": {},
     "output_type": "execute_result"
    }
   ],
   "source": [
    "# alternatively, bake it into the row condition \n",
    "shed.loc[shed.n_yes.eq(1) & shed.EF3_c.eq('yes')].shape[0] / shed.shape[0]"
   ]
  },
  {
   "cell_type": "code",
   "execution_count": 43,
   "metadata": {},
   "outputs": [
    {
     "data": {
      "text/plain": [
       "0.32489936745255893"
      ]
     },
     "execution_count": 43,
     "metadata": {},
     "output_type": "execute_result"
    }
   ],
   "source": [
    "# or into a query\n",
    "shed.query('n_yes == 1 & EF3_c == \"yes\"').shape[0] / shed.shape[0]"
   ]
  },
  {
   "cell_type": "markdown",
   "metadata": {},
   "source": [
    "### What about people who said they'd pay off the card next month?\n",
    "A decent proportion chose both cash and card."
   ]
  },
  {
   "cell_type": "code",
   "execution_count": 44,
   "metadata": {},
   "outputs": [
    {
     "data": {
      "text/plain": [
       "0.0985788219830773"
      ]
     },
     "execution_count": 44,
     "metadata": {},
     "output_type": "execute_result"
    }
   ],
   "source": [
    "shed.loc[shed.EF3_c.eq('yes') & shed.EF3_a.eq('yes')].shape[0] / shed.shape[0]"
   ]
  },
  {
   "cell_type": "code",
   "execution_count": 45,
   "metadata": {},
   "outputs": [
    {
     "data": {
      "text/plain": [
       "0.08083463402612338"
      ]
     },
     "execution_count": 45,
     "metadata": {},
     "output_type": "execute_result"
    }
   ],
   "source": [
    "shed.loc[shed.n_yes.eq(2) & shed.EF3_c.eq('yes') & shed.EF3_a.eq('yes')].shape[0] / shed.shape[0]"
   ]
  },
  {
   "cell_type": "markdown",
   "metadata": {},
   "source": [
    "### 'Cash or equivalent'?\n",
    "People who either pay cash or pay down a card next month, or both.\n",
    "\n",
    "This isn't the [Fed's number...](https://www.federalreserve.gov/publications/2020-economic-well-being-of-us-households-in-2019-dealing-with-unexpected-expenses.htm)\n",
    "\n",
    "But the feb uses April 2020 data --- after the pandemic slump.\n",
    "\n",
    "People who could pay ONLY with cash or equivalent"
   ]
  },
  {
   "cell_type": "code",
   "execution_count": 54,
   "metadata": {},
   "outputs": [
    {
     "data": {
      "text/plain": [
       "0.7008954242996797"
      ]
     },
     "execution_count": 54,
     "metadata": {},
     "output_type": "execute_result"
    }
   ],
   "source": [
    "afford = shed.loc[shed.n_yes.le(2) & (shed.EF3_c.eq('yes') | shed.EF3_a.eq('yes'))].shape[0] / shed.shape[0]\n",
    "\n",
    "afford"
   ]
  },
  {
   "cell_type": "code",
   "execution_count": 61,
   "metadata": {},
   "outputs": [
    {
     "data": {
      "image/png": "[encoded data removed]",
      "text/plain": [
       "<Figure size 504x432 with 1 Axes>"
      ]
     },
     "metadata": {
      "needs_background": "light"
     },
     "output_type": "display_data"
    }
   ],
   "source": [
    "# just for the visual\n",
    "pd.Series([afford, 1-afford], index = [\"afford\", \"can't afford\"]\n",
    "         ).plot(kind = 'bar', color = pal[2], rot = 0, figsize = (7, 6),\n",
    "                title = \"Proportion of all respondents who could pay emergency\\nonly with cash or equivalent\")\n",
    "\n",
    "plt.savefig('images/shed_afford.jpeg')"
   ]
  },
  {
   "cell_type": "markdown",
   "metadata": {},
   "source": [
    "Cash OR card NOT both"
   ]
  },
  {
   "cell_type": "code",
   "execution_count": 49,
   "metadata": {},
   "outputs": [
    {
     "data": {
      "text/plain": [
       "0.5812864536268791"
      ]
     },
     "execution_count": 49,
     "metadata": {},
     "output_type": "execute_result"
    }
   ],
   "source": [
    "shed.loc[shed.n_yes.eq(1) & (shed.EF3_c.eq('yes') | shed.EF3_a.eq('yes'))].shape[0] / shed.shape[0]"
   ]
  },
  {
   "cell_type": "markdown",
   "metadata": {},
   "source": [
    "### What to make of this?\n",
    "Discussed in lecture."
   ]
  }
 ],
 "metadata": {
  "kernelspec": {
   "display_name": "Python 3",
   "language": "python",
   "name": "python3"
  },
  "language_info": {
   "codemirror_mode": {
    "name": "ipython",
    "version": 3
   },
   "file_extension": ".py",
   "mimetype": "text/x-python",
   "name": "python",
   "nbconvert_exporter": "python",
   "pygments_lexer": "ipython3",
   "version": "3.8.2"
  }
 },
 "nbformat": 4,
 "nbformat_minor": 4
}
